{
 "cells": [
  {
   "cell_type": "markdown",
   "id": "826b5f2b",
   "metadata": {
    "papermill": {
     "duration": 0.039202,
     "end_time": "2021-10-03T04:36:56.871955",
     "exception": false,
     "start_time": "2021-10-03T04:36:56.832753",
     "status": "completed"
    },
    "tags": []
   },
   "source": [
    "# Tornado Analysis and Magnitude Prediction"
   ]
  },
  {
   "cell_type": "code",
   "execution_count": 1,
   "id": "1156d2ac",
   "metadata": {
    "execution": {
     "iopub.execute_input": "2021-10-03T04:36:56.953955Z",
     "iopub.status.busy": "2021-10-03T04:36:56.952806Z",
     "iopub.status.idle": "2021-10-03T04:36:58.526123Z",
     "shell.execute_reply": "2021-10-03T04:36:58.525501Z",
     "shell.execute_reply.started": "2021-10-03T04:17:07.021743Z"
    },
    "papermill": {
     "duration": 1.614243,
     "end_time": "2021-10-03T04:36:58.526295",
     "exception": false,
     "start_time": "2021-10-03T04:36:56.912052",
     "status": "completed"
    },
    "tags": []
   },
   "outputs": [
    {
     "data": {
      "text/html": [
       "<div>\n",
       "<style scoped>\n",
       "    .dataframe tbody tr th:only-of-type {\n",
       "        vertical-align: middle;\n",
       "    }\n",
       "\n",
       "    .dataframe tbody tr th {\n",
       "        vertical-align: top;\n",
       "    }\n",
       "\n",
       "    .dataframe thead th {\n",
       "        text-align: right;\n",
       "    }\n",
       "</style>\n",
       "<table border=\"1\" class=\"dataframe\">\n",
       "  <thead>\n",
       "    <tr style=\"text-align: right;\">\n",
       "      <th></th>\n",
       "      <th>om</th>\n",
       "      <th>Year</th>\n",
       "      <th>mo</th>\n",
       "      <th>dy</th>\n",
       "      <th>date</th>\n",
       "      <th>time</th>\n",
       "      <th>tz</th>\n",
       "      <th>State</th>\n",
       "      <th>stf</th>\n",
       "      <th>stn</th>\n",
       "      <th>...</th>\n",
       "      <th>Fatalities</th>\n",
       "      <th>Property Losses</th>\n",
       "      <th>Crop Loss</th>\n",
       "      <th>slat</th>\n",
       "      <th>slon</th>\n",
       "      <th>elat</th>\n",
       "      <th>elon</th>\n",
       "      <th>len</th>\n",
       "      <th>wid</th>\n",
       "      <th>fc</th>\n",
       "    </tr>\n",
       "  </thead>\n",
       "  <tbody>\n",
       "    <tr>\n",
       "      <th>0</th>\n",
       "      <td>1</td>\n",
       "      <td>1950</td>\n",
       "      <td>1</td>\n",
       "      <td>3</td>\n",
       "      <td>1/3/1950</td>\n",
       "      <td>11:00:00</td>\n",
       "      <td>3</td>\n",
       "      <td>MO</td>\n",
       "      <td>29</td>\n",
       "      <td>1</td>\n",
       "      <td>...</td>\n",
       "      <td>0</td>\n",
       "      <td>6.00</td>\n",
       "      <td>0.0</td>\n",
       "      <td>38.77</td>\n",
       "      <td>-90.22</td>\n",
       "      <td>38.83</td>\n",
       "      <td>-90.03</td>\n",
       "      <td>9.50</td>\n",
       "      <td>150</td>\n",
       "      <td>0</td>\n",
       "    </tr>\n",
       "    <tr>\n",
       "      <th>1</th>\n",
       "      <td>2</td>\n",
       "      <td>1950</td>\n",
       "      <td>1</td>\n",
       "      <td>3</td>\n",
       "      <td>1/3/1950</td>\n",
       "      <td>11:55:00</td>\n",
       "      <td>3</td>\n",
       "      <td>IL</td>\n",
       "      <td>17</td>\n",
       "      <td>2</td>\n",
       "      <td>...</td>\n",
       "      <td>0</td>\n",
       "      <td>5.00</td>\n",
       "      <td>0.0</td>\n",
       "      <td>39.10</td>\n",
       "      <td>-89.30</td>\n",
       "      <td>39.12</td>\n",
       "      <td>-89.23</td>\n",
       "      <td>3.60</td>\n",
       "      <td>130</td>\n",
       "      <td>0</td>\n",
       "    </tr>\n",
       "    <tr>\n",
       "      <th>2</th>\n",
       "      <td>3</td>\n",
       "      <td>1950</td>\n",
       "      <td>1</td>\n",
       "      <td>3</td>\n",
       "      <td>1/3/1950</td>\n",
       "      <td>16:00:00</td>\n",
       "      <td>3</td>\n",
       "      <td>OH</td>\n",
       "      <td>39</td>\n",
       "      <td>1</td>\n",
       "      <td>...</td>\n",
       "      <td>0</td>\n",
       "      <td>4.00</td>\n",
       "      <td>0.0</td>\n",
       "      <td>40.88</td>\n",
       "      <td>-84.58</td>\n",
       "      <td>0.00</td>\n",
       "      <td>0.00</td>\n",
       "      <td>0.10</td>\n",
       "      <td>10</td>\n",
       "      <td>0</td>\n",
       "    </tr>\n",
       "    <tr>\n",
       "      <th>3</th>\n",
       "      <td>4</td>\n",
       "      <td>1950</td>\n",
       "      <td>1</td>\n",
       "      <td>13</td>\n",
       "      <td>1/13/1950</td>\n",
       "      <td>5:25:00</td>\n",
       "      <td>3</td>\n",
       "      <td>AR</td>\n",
       "      <td>5</td>\n",
       "      <td>1</td>\n",
       "      <td>...</td>\n",
       "      <td>1</td>\n",
       "      <td>3.00</td>\n",
       "      <td>0.0</td>\n",
       "      <td>34.40</td>\n",
       "      <td>-94.37</td>\n",
       "      <td>0.00</td>\n",
       "      <td>0.00</td>\n",
       "      <td>0.60</td>\n",
       "      <td>17</td>\n",
       "      <td>0</td>\n",
       "    </tr>\n",
       "    <tr>\n",
       "      <th>4</th>\n",
       "      <td>5</td>\n",
       "      <td>1950</td>\n",
       "      <td>1</td>\n",
       "      <td>25</td>\n",
       "      <td>1/25/1950</td>\n",
       "      <td>19:30:00</td>\n",
       "      <td>3</td>\n",
       "      <td>MO</td>\n",
       "      <td>29</td>\n",
       "      <td>2</td>\n",
       "      <td>...</td>\n",
       "      <td>0</td>\n",
       "      <td>5.00</td>\n",
       "      <td>0.0</td>\n",
       "      <td>37.60</td>\n",
       "      <td>-90.68</td>\n",
       "      <td>37.63</td>\n",
       "      <td>-90.65</td>\n",
       "      <td>2.30</td>\n",
       "      <td>300</td>\n",
       "      <td>0</td>\n",
       "    </tr>\n",
       "    <tr>\n",
       "      <th>...</th>\n",
       "      <td>...</td>\n",
       "      <td>...</td>\n",
       "      <td>...</td>\n",
       "      <td>...</td>\n",
       "      <td>...</td>\n",
       "      <td>...</td>\n",
       "      <td>...</td>\n",
       "      <td>...</td>\n",
       "      <td>...</td>\n",
       "      <td>...</td>\n",
       "      <td>...</td>\n",
       "      <td>...</td>\n",
       "      <td>...</td>\n",
       "      <td>...</td>\n",
       "      <td>...</td>\n",
       "      <td>...</td>\n",
       "      <td>...</td>\n",
       "      <td>...</td>\n",
       "      <td>...</td>\n",
       "      <td>...</td>\n",
       "      <td>...</td>\n",
       "    </tr>\n",
       "    <tr>\n",
       "      <th>60109</th>\n",
       "      <td>607506</td>\n",
       "      <td>2015</td>\n",
       "      <td>12</td>\n",
       "      <td>28</td>\n",
       "      <td>12/28/2015</td>\n",
       "      <td>3:20:00</td>\n",
       "      <td>3</td>\n",
       "      <td>LA</td>\n",
       "      <td>22</td>\n",
       "      <td>0</td>\n",
       "      <td>...</td>\n",
       "      <td>0</td>\n",
       "      <td>0.00</td>\n",
       "      <td>0.0</td>\n",
       "      <td>30.08</td>\n",
       "      <td>-90.54</td>\n",
       "      <td>30.08</td>\n",
       "      <td>-90.53</td>\n",
       "      <td>0.60</td>\n",
       "      <td>150</td>\n",
       "      <td>0</td>\n",
       "    </tr>\n",
       "    <tr>\n",
       "      <th>60110</th>\n",
       "      <td>613277</td>\n",
       "      <td>2015</td>\n",
       "      <td>12</td>\n",
       "      <td>28</td>\n",
       "      <td>12/28/2015</td>\n",
       "      <td>4:46:00</td>\n",
       "      <td>3</td>\n",
       "      <td>AR</td>\n",
       "      <td>5</td>\n",
       "      <td>0</td>\n",
       "      <td>...</td>\n",
       "      <td>0</td>\n",
       "      <td>0.05</td>\n",
       "      <td>0.0</td>\n",
       "      <td>34.70</td>\n",
       "      <td>-90.92</td>\n",
       "      <td>34.78</td>\n",
       "      <td>-90.90</td>\n",
       "      <td>5.75</td>\n",
       "      <td>40</td>\n",
       "      <td>0</td>\n",
       "    </tr>\n",
       "    <tr>\n",
       "      <th>60111</th>\n",
       "      <td>607307</td>\n",
       "      <td>2015</td>\n",
       "      <td>12</td>\n",
       "      <td>28</td>\n",
       "      <td>12/28/2015</td>\n",
       "      <td>5:43:00</td>\n",
       "      <td>3</td>\n",
       "      <td>MS</td>\n",
       "      <td>28</td>\n",
       "      <td>0</td>\n",
       "      <td>...</td>\n",
       "      <td>0</td>\n",
       "      <td>0.10</td>\n",
       "      <td>0.0</td>\n",
       "      <td>31.54</td>\n",
       "      <td>-89.53</td>\n",
       "      <td>31.61</td>\n",
       "      <td>-89.49</td>\n",
       "      <td>5.59</td>\n",
       "      <td>100</td>\n",
       "      <td>0</td>\n",
       "    </tr>\n",
       "    <tr>\n",
       "      <th>60112</th>\n",
       "      <td>612738</td>\n",
       "      <td>2015</td>\n",
       "      <td>12</td>\n",
       "      <td>28</td>\n",
       "      <td>12/28/2015</td>\n",
       "      <td>8:30:00</td>\n",
       "      <td>3</td>\n",
       "      <td>FL</td>\n",
       "      <td>12</td>\n",
       "      <td>0</td>\n",
       "      <td>...</td>\n",
       "      <td>0</td>\n",
       "      <td>0.01</td>\n",
       "      <td>0.0</td>\n",
       "      <td>30.76</td>\n",
       "      <td>-87.24</td>\n",
       "      <td>30.77</td>\n",
       "      <td>-87.23</td>\n",
       "      <td>0.78</td>\n",
       "      <td>75</td>\n",
       "      <td>0</td>\n",
       "    </tr>\n",
       "    <tr>\n",
       "      <th>60113</th>\n",
       "      <td>612739</td>\n",
       "      <td>2015</td>\n",
       "      <td>12</td>\n",
       "      <td>28</td>\n",
       "      <td>12/28/2015</td>\n",
       "      <td>15:58:00</td>\n",
       "      <td>3</td>\n",
       "      <td>NC</td>\n",
       "      <td>37</td>\n",
       "      <td>0</td>\n",
       "      <td>...</td>\n",
       "      <td>0</td>\n",
       "      <td>0.05</td>\n",
       "      <td>0.0</td>\n",
       "      <td>34.88</td>\n",
       "      <td>-80.53</td>\n",
       "      <td>34.89</td>\n",
       "      <td>-80.52</td>\n",
       "      <td>0.90</td>\n",
       "      <td>75</td>\n",
       "      <td>0</td>\n",
       "    </tr>\n",
       "  </tbody>\n",
       "</table>\n",
       "<p>60114 rows × 22 columns</p>\n",
       "</div>"
      ],
      "text/plain": [
       "           om  Year  mo  dy        date      time  tz State  stf  stn  ...  \\\n",
       "0           1  1950   1   3    1/3/1950  11:00:00   3    MO   29    1  ...   \n",
       "1           2  1950   1   3    1/3/1950  11:55:00   3    IL   17    2  ...   \n",
       "2           3  1950   1   3    1/3/1950  16:00:00   3    OH   39    1  ...   \n",
       "3           4  1950   1  13   1/13/1950   5:25:00   3    AR    5    1  ...   \n",
       "4           5  1950   1  25   1/25/1950  19:30:00   3    MO   29    2  ...   \n",
       "...       ...   ...  ..  ..         ...       ...  ..   ...  ...  ...  ...   \n",
       "60109  607506  2015  12  28  12/28/2015   3:20:00   3    LA   22    0  ...   \n",
       "60110  613277  2015  12  28  12/28/2015   4:46:00   3    AR    5    0  ...   \n",
       "60111  607307  2015  12  28  12/28/2015   5:43:00   3    MS   28    0  ...   \n",
       "60112  612738  2015  12  28  12/28/2015   8:30:00   3    FL   12    0  ...   \n",
       "60113  612739  2015  12  28  12/28/2015  15:58:00   3    NC   37    0  ...   \n",
       "\n",
       "       Fatalities  Property Losses  Crop Loss   slat   slon   elat   elon  \\\n",
       "0               0             6.00        0.0  38.77 -90.22  38.83 -90.03   \n",
       "1               0             5.00        0.0  39.10 -89.30  39.12 -89.23   \n",
       "2               0             4.00        0.0  40.88 -84.58   0.00   0.00   \n",
       "3               1             3.00        0.0  34.40 -94.37   0.00   0.00   \n",
       "4               0             5.00        0.0  37.60 -90.68  37.63 -90.65   \n",
       "...           ...              ...        ...    ...    ...    ...    ...   \n",
       "60109           0             0.00        0.0  30.08 -90.54  30.08 -90.53   \n",
       "60110           0             0.05        0.0  34.70 -90.92  34.78 -90.90   \n",
       "60111           0             0.10        0.0  31.54 -89.53  31.61 -89.49   \n",
       "60112           0             0.01        0.0  30.76 -87.24  30.77 -87.23   \n",
       "60113           0             0.05        0.0  34.88 -80.53  34.89 -80.52   \n",
       "\n",
       "        len  wid  fc  \n",
       "0      9.50  150   0  \n",
       "1      3.60  130   0  \n",
       "2      0.10   10   0  \n",
       "3      0.60   17   0  \n",
       "4      2.30  300   0  \n",
       "...     ...  ...  ..  \n",
       "60109  0.60  150   0  \n",
       "60110  5.75   40   0  \n",
       "60111  5.59  100   0  \n",
       "60112  0.78   75   0  \n",
       "60113  0.90   75   0  \n",
       "\n",
       "[60114 rows x 22 columns]"
      ]
     },
     "execution_count": 1,
     "metadata": {},
     "output_type": "execute_result"
    }
   ],
   "source": [
    "import pandas as pd\n",
    "import numpy as np\n",
    "import matplotlib.pyplot as plt\n",
    "import seaborn as sns\n",
    "import warnings\n",
    "from sklearn.model_selection import train_test_split\n",
    "from sklearn.linear_model import LinearRegression, LogisticRegression\n",
    "from sklearn.svm import SVC\n",
    "from sklearn.tree import DecisionTreeClassifier\n",
    "from sklearn.metrics import classification_report,confusion_matrix,accuracy_score,mean_squared_error,r2_score\n",
    "from sklearn.preprocessing import StandardScaler,LabelEncoder,OneHotEncoder\n",
    "from sklearn.ensemble import RandomForestClassifier\n",
    "from sklearn.neighbors import KNeighborsClassifier\n",
    "df=pd.read_csv('/kaggle/input/spctornado/Tornadoes_SPC_1950to2015.csv').rename({'yr':'Year','fat':'Fatalities','loss':'Property Losses','inj':'Injuries','mag':'EF','closs':'Crop Loss','st':'State'},axis=1)\n",
    "df"
   ]
  },
  {
   "cell_type": "code",
   "execution_count": 2,
   "id": "157841d8",
   "metadata": {
    "execution": {
     "iopub.execute_input": "2021-10-03T04:36:58.611647Z",
     "iopub.status.busy": "2021-10-03T04:36:58.611013Z",
     "iopub.status.idle": "2021-10-03T04:36:58.615017Z",
     "shell.execute_reply": "2021-10-03T04:36:58.615541Z",
     "shell.execute_reply.started": "2021-10-03T04:17:09.116702Z"
    },
    "papermill": {
     "duration": 0.050163,
     "end_time": "2021-10-03T04:36:58.615701",
     "exception": false,
     "start_time": "2021-10-03T04:36:58.565538",
     "status": "completed"
    },
    "tags": []
   },
   "outputs": [
    {
     "data": {
      "text/plain": [
       "array([3, 1, 2, 4, 0, 5])"
      ]
     },
     "execution_count": 2,
     "metadata": {},
     "output_type": "execute_result"
    }
   ],
   "source": [
    "df['EF'].unique()"
   ]
  },
  {
   "cell_type": "code",
   "execution_count": 3,
   "id": "29ed9f6b",
   "metadata": {
    "execution": {
     "iopub.execute_input": "2021-10-03T04:36:58.696734Z",
     "iopub.status.busy": "2021-10-03T04:36:58.696134Z",
     "iopub.status.idle": "2021-10-03T04:36:58.795067Z",
     "shell.execute_reply": "2021-10-03T04:36:58.794568Z",
     "shell.execute_reply.started": "2021-10-03T04:17:09.130200Z"
    },
    "papermill": {
     "duration": 0.140416,
     "end_time": "2021-10-03T04:36:58.795214",
     "exception": false,
     "start_time": "2021-10-03T04:36:58.654798",
     "status": "completed"
    },
    "tags": []
   },
   "outputs": [
    {
     "data": {
      "text/html": [
       "<div>\n",
       "<style scoped>\n",
       "    .dataframe tbody tr th:only-of-type {\n",
       "        vertical-align: middle;\n",
       "    }\n",
       "\n",
       "    .dataframe tbody tr th {\n",
       "        vertical-align: top;\n",
       "    }\n",
       "\n",
       "    .dataframe thead th {\n",
       "        text-align: right;\n",
       "    }\n",
       "</style>\n",
       "<table border=\"1\" class=\"dataframe\">\n",
       "  <thead>\n",
       "    <tr style=\"text-align: right;\">\n",
       "      <th></th>\n",
       "      <th>om</th>\n",
       "      <th>Year</th>\n",
       "      <th>mo</th>\n",
       "      <th>dy</th>\n",
       "      <th>tz</th>\n",
       "      <th>stf</th>\n",
       "      <th>stn</th>\n",
       "      <th>EF</th>\n",
       "      <th>Injuries</th>\n",
       "      <th>Fatalities</th>\n",
       "      <th>Property Losses</th>\n",
       "      <th>Crop Loss</th>\n",
       "      <th>slat</th>\n",
       "      <th>slon</th>\n",
       "      <th>elat</th>\n",
       "      <th>elon</th>\n",
       "      <th>len</th>\n",
       "      <th>wid</th>\n",
       "      <th>fc</th>\n",
       "    </tr>\n",
       "  </thead>\n",
       "  <tbody>\n",
       "    <tr>\n",
       "      <th>count</th>\n",
       "      <td>60114.000000</td>\n",
       "      <td>60114.000000</td>\n",
       "      <td>60114.000000</td>\n",
       "      <td>60114.000000</td>\n",
       "      <td>60114.000000</td>\n",
       "      <td>60114.000000</td>\n",
       "      <td>60114.000000</td>\n",
       "      <td>60114.000000</td>\n",
       "      <td>60114.000000</td>\n",
       "      <td>60114.000000</td>\n",
       "      <td>60114.000000</td>\n",
       "      <td>60114.000000</td>\n",
       "      <td>60114.000000</td>\n",
       "      <td>60114.000000</td>\n",
       "      <td>60114.000000</td>\n",
       "      <td>60114.000000</td>\n",
       "      <td>60114.000000</td>\n",
       "      <td>60114.000000</td>\n",
       "      <td>60114.000000</td>\n",
       "    </tr>\n",
       "    <tr>\n",
       "      <th>mean</th>\n",
       "      <td>41119.375753</td>\n",
       "      <td>1987.970057</td>\n",
       "      <td>5.972436</td>\n",
       "      <td>15.876368</td>\n",
       "      <td>3.001098</td>\n",
       "      <td>29.419919</td>\n",
       "      <td>26.476228</td>\n",
       "      <td>0.796154</td>\n",
       "      <td>1.561300</td>\n",
       "      <td>0.096866</td>\n",
       "      <td>2.159312</td>\n",
       "      <td>0.002134</td>\n",
       "      <td>37.155205</td>\n",
       "      <td>-92.961133</td>\n",
       "      <td>20.956247</td>\n",
       "      <td>-51.902893</td>\n",
       "      <td>3.480720</td>\n",
       "      <td>98.454603</td>\n",
       "      <td>0.030991</td>\n",
       "    </tr>\n",
       "    <tr>\n",
       "      <th>std</th>\n",
       "      <td>130865.993631</td>\n",
       "      <td>17.787883</td>\n",
       "      <td>2.388809</td>\n",
       "      <td>8.737193</td>\n",
       "      <td>0.077379</td>\n",
       "      <td>15.018850</td>\n",
       "      <td>32.672650</td>\n",
       "      <td>0.912341</td>\n",
       "      <td>19.177704</td>\n",
       "      <td>1.546215</td>\n",
       "      <td>20.284680</td>\n",
       "      <td>0.122182</td>\n",
       "      <td>5.123449</td>\n",
       "      <td>8.719121</td>\n",
       "      <td>18.890353</td>\n",
       "      <td>46.322703</td>\n",
       "      <td>8.519328</td>\n",
       "      <td>195.726277</td>\n",
       "      <td>0.173295</td>\n",
       "    </tr>\n",
       "    <tr>\n",
       "      <th>min</th>\n",
       "      <td>1.000000</td>\n",
       "      <td>1950.000000</td>\n",
       "      <td>1.000000</td>\n",
       "      <td>1.000000</td>\n",
       "      <td>0.000000</td>\n",
       "      <td>1.000000</td>\n",
       "      <td>0.000000</td>\n",
       "      <td>0.000000</td>\n",
       "      <td>0.000000</td>\n",
       "      <td>0.000000</td>\n",
       "      <td>0.000000</td>\n",
       "      <td>0.000000</td>\n",
       "      <td>18.130000</td>\n",
       "      <td>-163.530000</td>\n",
       "      <td>0.000000</td>\n",
       "      <td>-163.530000</td>\n",
       "      <td>0.000000</td>\n",
       "      <td>0.000000</td>\n",
       "      <td>0.000000</td>\n",
       "    </tr>\n",
       "    <tr>\n",
       "      <th>25%</th>\n",
       "      <td>248.000000</td>\n",
       "      <td>1974.000000</td>\n",
       "      <td>4.000000</td>\n",
       "      <td>8.000000</td>\n",
       "      <td>3.000000</td>\n",
       "      <td>18.000000</td>\n",
       "      <td>4.000000</td>\n",
       "      <td>0.000000</td>\n",
       "      <td>0.000000</td>\n",
       "      <td>0.000000</td>\n",
       "      <td>0.000000</td>\n",
       "      <td>0.000000</td>\n",
       "      <td>33.240000</td>\n",
       "      <td>-98.600000</td>\n",
       "      <td>0.000000</td>\n",
       "      <td>-94.250000</td>\n",
       "      <td>0.100000</td>\n",
       "      <td>13.000000</td>\n",
       "      <td>0.000000</td>\n",
       "    </tr>\n",
       "    <tr>\n",
       "      <th>50%</th>\n",
       "      <td>509.000000</td>\n",
       "      <td>1991.000000</td>\n",
       "      <td>6.000000</td>\n",
       "      <td>16.000000</td>\n",
       "      <td>3.000000</td>\n",
       "      <td>29.000000</td>\n",
       "      <td>15.000000</td>\n",
       "      <td>1.000000</td>\n",
       "      <td>0.000000</td>\n",
       "      <td>0.000000</td>\n",
       "      <td>0.100000</td>\n",
       "      <td>0.000000</td>\n",
       "      <td>37.085000</td>\n",
       "      <td>-93.950000</td>\n",
       "      <td>31.200000</td>\n",
       "      <td>-81.765000</td>\n",
       "      <td>0.600000</td>\n",
       "      <td>40.000000</td>\n",
       "      <td>0.000000</td>\n",
       "    </tr>\n",
       "    <tr>\n",
       "      <th>75%</th>\n",
       "      <td>845.000000</td>\n",
       "      <td>2003.000000</td>\n",
       "      <td>7.000000</td>\n",
       "      <td>24.000000</td>\n",
       "      <td>3.000000</td>\n",
       "      <td>45.000000</td>\n",
       "      <td>35.000000</td>\n",
       "      <td>1.000000</td>\n",
       "      <td>0.000000</td>\n",
       "      <td>0.000000</td>\n",
       "      <td>4.000000</td>\n",
       "      <td>0.000000</td>\n",
       "      <td>40.970000</td>\n",
       "      <td>-86.870000</td>\n",
       "      <td>38.150000</td>\n",
       "      <td>0.000000</td>\n",
       "      <td>3.000000</td>\n",
       "      <td>100.000000</td>\n",
       "      <td>0.000000</td>\n",
       "    </tr>\n",
       "    <tr>\n",
       "      <th>max</th>\n",
       "      <td>613494.000000</td>\n",
       "      <td>2015.000000</td>\n",
       "      <td>12.000000</td>\n",
       "      <td>31.000000</td>\n",
       "      <td>9.000000</td>\n",
       "      <td>72.000000</td>\n",
       "      <td>232.000000</td>\n",
       "      <td>5.000000</td>\n",
       "      <td>1740.000000</td>\n",
       "      <td>158.000000</td>\n",
       "      <td>2800.100000</td>\n",
       "      <td>23.520000</td>\n",
       "      <td>61.020000</td>\n",
       "      <td>-64.900000</td>\n",
       "      <td>61.020000</td>\n",
       "      <td>0.000000</td>\n",
       "      <td>234.700000</td>\n",
       "      <td>4576.000000</td>\n",
       "      <td>1.000000</td>\n",
       "    </tr>\n",
       "  </tbody>\n",
       "</table>\n",
       "</div>"
      ],
      "text/plain": [
       "                  om          Year            mo            dy            tz  \\\n",
       "count   60114.000000  60114.000000  60114.000000  60114.000000  60114.000000   \n",
       "mean    41119.375753   1987.970057      5.972436     15.876368      3.001098   \n",
       "std    130865.993631     17.787883      2.388809      8.737193      0.077379   \n",
       "min         1.000000   1950.000000      1.000000      1.000000      0.000000   \n",
       "25%       248.000000   1974.000000      4.000000      8.000000      3.000000   \n",
       "50%       509.000000   1991.000000      6.000000     16.000000      3.000000   \n",
       "75%       845.000000   2003.000000      7.000000     24.000000      3.000000   \n",
       "max    613494.000000   2015.000000     12.000000     31.000000      9.000000   \n",
       "\n",
       "                stf           stn            EF      Injuries    Fatalities  \\\n",
       "count  60114.000000  60114.000000  60114.000000  60114.000000  60114.000000   \n",
       "mean      29.419919     26.476228      0.796154      1.561300      0.096866   \n",
       "std       15.018850     32.672650      0.912341     19.177704      1.546215   \n",
       "min        1.000000      0.000000      0.000000      0.000000      0.000000   \n",
       "25%       18.000000      4.000000      0.000000      0.000000      0.000000   \n",
       "50%       29.000000     15.000000      1.000000      0.000000      0.000000   \n",
       "75%       45.000000     35.000000      1.000000      0.000000      0.000000   \n",
       "max       72.000000    232.000000      5.000000   1740.000000    158.000000   \n",
       "\n",
       "       Property Losses     Crop Loss          slat          slon  \\\n",
       "count     60114.000000  60114.000000  60114.000000  60114.000000   \n",
       "mean          2.159312      0.002134     37.155205    -92.961133   \n",
       "std          20.284680      0.122182      5.123449      8.719121   \n",
       "min           0.000000      0.000000     18.130000   -163.530000   \n",
       "25%           0.000000      0.000000     33.240000    -98.600000   \n",
       "50%           0.100000      0.000000     37.085000    -93.950000   \n",
       "75%           4.000000      0.000000     40.970000    -86.870000   \n",
       "max        2800.100000     23.520000     61.020000    -64.900000   \n",
       "\n",
       "               elat          elon           len           wid            fc  \n",
       "count  60114.000000  60114.000000  60114.000000  60114.000000  60114.000000  \n",
       "mean      20.956247    -51.902893      3.480720     98.454603      0.030991  \n",
       "std       18.890353     46.322703      8.519328    195.726277      0.173295  \n",
       "min        0.000000   -163.530000      0.000000      0.000000      0.000000  \n",
       "25%        0.000000    -94.250000      0.100000     13.000000      0.000000  \n",
       "50%       31.200000    -81.765000      0.600000     40.000000      0.000000  \n",
       "75%       38.150000      0.000000      3.000000    100.000000      0.000000  \n",
       "max       61.020000      0.000000    234.700000   4576.000000      1.000000  "
      ]
     },
     "execution_count": 3,
     "metadata": {},
     "output_type": "execute_result"
    }
   ],
   "source": [
    "df.describe()"
   ]
  },
  {
   "cell_type": "code",
   "execution_count": 4,
   "id": "e108361d",
   "metadata": {
    "execution": {
     "iopub.execute_input": "2021-10-03T04:36:58.880344Z",
     "iopub.status.busy": "2021-10-03T04:36:58.879656Z",
     "iopub.status.idle": "2021-10-03T04:36:58.906309Z",
     "shell.execute_reply": "2021-10-03T04:36:58.905763Z",
     "shell.execute_reply.started": "2021-10-03T04:17:09.265298Z"
    },
    "papermill": {
     "duration": 0.071092,
     "end_time": "2021-10-03T04:36:58.906449",
     "exception": false,
     "start_time": "2021-10-03T04:36:58.835357",
     "status": "completed"
    },
    "tags": []
   },
   "outputs": [
    {
     "data": {
      "text/plain": [
       "om                 False\n",
       "Year               False\n",
       "mo                 False\n",
       "dy                 False\n",
       "date               False\n",
       "time               False\n",
       "tz                 False\n",
       "State              False\n",
       "stf                False\n",
       "stn                False\n",
       "EF                 False\n",
       "Injuries           False\n",
       "Fatalities         False\n",
       "Property Losses    False\n",
       "Crop Loss          False\n",
       "slat               False\n",
       "slon               False\n",
       "elat               False\n",
       "elon               False\n",
       "len                False\n",
       "wid                False\n",
       "fc                 False\n",
       "dtype: bool"
      ]
     },
     "execution_count": 4,
     "metadata": {},
     "output_type": "execute_result"
    }
   ],
   "source": [
    "df.isnull().any()"
   ]
  },
  {
   "cell_type": "code",
   "execution_count": 5,
   "id": "e7ca34d3",
   "metadata": {
    "execution": {
     "iopub.execute_input": "2021-10-03T04:36:58.993898Z",
     "iopub.status.busy": "2021-10-03T04:36:58.993111Z",
     "iopub.status.idle": "2021-10-03T04:36:59.991457Z",
     "shell.execute_reply": "2021-10-03T04:36:59.990887Z",
     "shell.execute_reply.started": "2021-10-03T04:17:09.295931Z"
    },
    "papermill": {
     "duration": 1.044949,
     "end_time": "2021-10-03T04:36:59.991603",
     "exception": false,
     "start_time": "2021-10-03T04:36:58.946654",
     "status": "completed"
    },
    "tags": []
   },
   "outputs": [
    {
     "data": {
      "text/html": [
       "<div>\n",
       "<style scoped>\n",
       "    .dataframe tbody tr th:only-of-type {\n",
       "        vertical-align: middle;\n",
       "    }\n",
       "\n",
       "    .dataframe tbody tr th {\n",
       "        vertical-align: top;\n",
       "    }\n",
       "\n",
       "    .dataframe thead th {\n",
       "        text-align: right;\n",
       "    }\n",
       "</style>\n",
       "<table border=\"1\" class=\"dataframe\">\n",
       "  <thead>\n",
       "    <tr style=\"text-align: right;\">\n",
       "      <th></th>\n",
       "      <th>Year</th>\n",
       "      <th>mo</th>\n",
       "      <th>dy</th>\n",
       "      <th>State</th>\n",
       "      <th>EF</th>\n",
       "      <th>Injuries</th>\n",
       "      <th>Fatalities</th>\n",
       "      <th>Property Losses</th>\n",
       "      <th>Crop Loss</th>\n",
       "      <th>slat</th>\n",
       "      <th>slon</th>\n",
       "      <th>elat</th>\n",
       "      <th>elon</th>\n",
       "      <th>len</th>\n",
       "      <th>wid</th>\n",
       "      <th>hour</th>\n",
       "      <th>minute</th>\n",
       "    </tr>\n",
       "  </thead>\n",
       "  <tbody>\n",
       "    <tr>\n",
       "      <th>0</th>\n",
       "      <td>1950</td>\n",
       "      <td>1</td>\n",
       "      <td>3</td>\n",
       "      <td>MO</td>\n",
       "      <td>3</td>\n",
       "      <td>3</td>\n",
       "      <td>0</td>\n",
       "      <td>6.00</td>\n",
       "      <td>0.0</td>\n",
       "      <td>38.77</td>\n",
       "      <td>-90.22</td>\n",
       "      <td>38.83</td>\n",
       "      <td>-90.03</td>\n",
       "      <td>9.50</td>\n",
       "      <td>150</td>\n",
       "      <td>11</td>\n",
       "      <td>0</td>\n",
       "    </tr>\n",
       "    <tr>\n",
       "      <th>1</th>\n",
       "      <td>1950</td>\n",
       "      <td>1</td>\n",
       "      <td>3</td>\n",
       "      <td>IL</td>\n",
       "      <td>3</td>\n",
       "      <td>3</td>\n",
       "      <td>0</td>\n",
       "      <td>5.00</td>\n",
       "      <td>0.0</td>\n",
       "      <td>39.10</td>\n",
       "      <td>-89.30</td>\n",
       "      <td>39.12</td>\n",
       "      <td>-89.23</td>\n",
       "      <td>3.60</td>\n",
       "      <td>130</td>\n",
       "      <td>11</td>\n",
       "      <td>55</td>\n",
       "    </tr>\n",
       "    <tr>\n",
       "      <th>2</th>\n",
       "      <td>1950</td>\n",
       "      <td>1</td>\n",
       "      <td>3</td>\n",
       "      <td>OH</td>\n",
       "      <td>1</td>\n",
       "      <td>1</td>\n",
       "      <td>0</td>\n",
       "      <td>4.00</td>\n",
       "      <td>0.0</td>\n",
       "      <td>40.88</td>\n",
       "      <td>-84.58</td>\n",
       "      <td>0.00</td>\n",
       "      <td>0.00</td>\n",
       "      <td>0.10</td>\n",
       "      <td>10</td>\n",
       "      <td>16</td>\n",
       "      <td>0</td>\n",
       "    </tr>\n",
       "    <tr>\n",
       "      <th>3</th>\n",
       "      <td>1950</td>\n",
       "      <td>1</td>\n",
       "      <td>13</td>\n",
       "      <td>AR</td>\n",
       "      <td>3</td>\n",
       "      <td>1</td>\n",
       "      <td>1</td>\n",
       "      <td>3.00</td>\n",
       "      <td>0.0</td>\n",
       "      <td>34.40</td>\n",
       "      <td>-94.37</td>\n",
       "      <td>0.00</td>\n",
       "      <td>0.00</td>\n",
       "      <td>0.60</td>\n",
       "      <td>17</td>\n",
       "      <td>5</td>\n",
       "      <td>25</td>\n",
       "    </tr>\n",
       "    <tr>\n",
       "      <th>4</th>\n",
       "      <td>1950</td>\n",
       "      <td>1</td>\n",
       "      <td>25</td>\n",
       "      <td>MO</td>\n",
       "      <td>2</td>\n",
       "      <td>5</td>\n",
       "      <td>0</td>\n",
       "      <td>5.00</td>\n",
       "      <td>0.0</td>\n",
       "      <td>37.60</td>\n",
       "      <td>-90.68</td>\n",
       "      <td>37.63</td>\n",
       "      <td>-90.65</td>\n",
       "      <td>2.30</td>\n",
       "      <td>300</td>\n",
       "      <td>19</td>\n",
       "      <td>30</td>\n",
       "    </tr>\n",
       "    <tr>\n",
       "      <th>...</th>\n",
       "      <td>...</td>\n",
       "      <td>...</td>\n",
       "      <td>...</td>\n",
       "      <td>...</td>\n",
       "      <td>...</td>\n",
       "      <td>...</td>\n",
       "      <td>...</td>\n",
       "      <td>...</td>\n",
       "      <td>...</td>\n",
       "      <td>...</td>\n",
       "      <td>...</td>\n",
       "      <td>...</td>\n",
       "      <td>...</td>\n",
       "      <td>...</td>\n",
       "      <td>...</td>\n",
       "      <td>...</td>\n",
       "      <td>...</td>\n",
       "    </tr>\n",
       "    <tr>\n",
       "      <th>60109</th>\n",
       "      <td>2015</td>\n",
       "      <td>12</td>\n",
       "      <td>28</td>\n",
       "      <td>LA</td>\n",
       "      <td>1</td>\n",
       "      <td>0</td>\n",
       "      <td>0</td>\n",
       "      <td>0.00</td>\n",
       "      <td>0.0</td>\n",
       "      <td>30.08</td>\n",
       "      <td>-90.54</td>\n",
       "      <td>30.08</td>\n",
       "      <td>-90.53</td>\n",
       "      <td>0.60</td>\n",
       "      <td>150</td>\n",
       "      <td>3</td>\n",
       "      <td>20</td>\n",
       "    </tr>\n",
       "    <tr>\n",
       "      <th>60110</th>\n",
       "      <td>2015</td>\n",
       "      <td>12</td>\n",
       "      <td>28</td>\n",
       "      <td>AR</td>\n",
       "      <td>2</td>\n",
       "      <td>0</td>\n",
       "      <td>0</td>\n",
       "      <td>0.05</td>\n",
       "      <td>0.0</td>\n",
       "      <td>34.70</td>\n",
       "      <td>-90.92</td>\n",
       "      <td>34.78</td>\n",
       "      <td>-90.90</td>\n",
       "      <td>5.75</td>\n",
       "      <td>40</td>\n",
       "      <td>4</td>\n",
       "      <td>46</td>\n",
       "    </tr>\n",
       "    <tr>\n",
       "      <th>60111</th>\n",
       "      <td>2015</td>\n",
       "      <td>12</td>\n",
       "      <td>28</td>\n",
       "      <td>MS</td>\n",
       "      <td>1</td>\n",
       "      <td>0</td>\n",
       "      <td>0</td>\n",
       "      <td>0.10</td>\n",
       "      <td>0.0</td>\n",
       "      <td>31.54</td>\n",
       "      <td>-89.53</td>\n",
       "      <td>31.61</td>\n",
       "      <td>-89.49</td>\n",
       "      <td>5.59</td>\n",
       "      <td>100</td>\n",
       "      <td>5</td>\n",
       "      <td>43</td>\n",
       "    </tr>\n",
       "    <tr>\n",
       "      <th>60112</th>\n",
       "      <td>2015</td>\n",
       "      <td>12</td>\n",
       "      <td>28</td>\n",
       "      <td>FL</td>\n",
       "      <td>1</td>\n",
       "      <td>0</td>\n",
       "      <td>0</td>\n",
       "      <td>0.01</td>\n",
       "      <td>0.0</td>\n",
       "      <td>30.76</td>\n",
       "      <td>-87.24</td>\n",
       "      <td>30.77</td>\n",
       "      <td>-87.23</td>\n",
       "      <td>0.78</td>\n",
       "      <td>75</td>\n",
       "      <td>8</td>\n",
       "      <td>30</td>\n",
       "    </tr>\n",
       "    <tr>\n",
       "      <th>60113</th>\n",
       "      <td>2015</td>\n",
       "      <td>12</td>\n",
       "      <td>28</td>\n",
       "      <td>NC</td>\n",
       "      <td>0</td>\n",
       "      <td>0</td>\n",
       "      <td>0</td>\n",
       "      <td>0.05</td>\n",
       "      <td>0.0</td>\n",
       "      <td>34.88</td>\n",
       "      <td>-80.53</td>\n",
       "      <td>34.89</td>\n",
       "      <td>-80.52</td>\n",
       "      <td>0.90</td>\n",
       "      <td>75</td>\n",
       "      <td>15</td>\n",
       "      <td>58</td>\n",
       "    </tr>\n",
       "  </tbody>\n",
       "</table>\n",
       "<p>60114 rows × 17 columns</p>\n",
       "</div>"
      ],
      "text/plain": [
       "       Year  mo  dy State  EF  Injuries  Fatalities  Property Losses  \\\n",
       "0      1950   1   3    MO   3         3           0             6.00   \n",
       "1      1950   1   3    IL   3         3           0             5.00   \n",
       "2      1950   1   3    OH   1         1           0             4.00   \n",
       "3      1950   1  13    AR   3         1           1             3.00   \n",
       "4      1950   1  25    MO   2         5           0             5.00   \n",
       "...     ...  ..  ..   ...  ..       ...         ...              ...   \n",
       "60109  2015  12  28    LA   1         0           0             0.00   \n",
       "60110  2015  12  28    AR   2         0           0             0.05   \n",
       "60111  2015  12  28    MS   1         0           0             0.10   \n",
       "60112  2015  12  28    FL   1         0           0             0.01   \n",
       "60113  2015  12  28    NC   0         0           0             0.05   \n",
       "\n",
       "       Crop Loss   slat   slon   elat   elon   len  wid  hour  minute  \n",
       "0            0.0  38.77 -90.22  38.83 -90.03  9.50  150    11       0  \n",
       "1            0.0  39.10 -89.30  39.12 -89.23  3.60  130    11      55  \n",
       "2            0.0  40.88 -84.58   0.00   0.00  0.10   10    16       0  \n",
       "3            0.0  34.40 -94.37   0.00   0.00  0.60   17     5      25  \n",
       "4            0.0  37.60 -90.68  37.63 -90.65  2.30  300    19      30  \n",
       "...          ...    ...    ...    ...    ...   ...  ...   ...     ...  \n",
       "60109        0.0  30.08 -90.54  30.08 -90.53  0.60  150     3      20  \n",
       "60110        0.0  34.70 -90.92  34.78 -90.90  5.75   40     4      46  \n",
       "60111        0.0  31.54 -89.53  31.61 -89.49  5.59  100     5      43  \n",
       "60112        0.0  30.76 -87.24  30.77 -87.23  0.78   75     8      30  \n",
       "60113        0.0  34.88 -80.53  34.89 -80.52  0.90   75    15      58  \n",
       "\n",
       "[60114 rows x 17 columns]"
      ]
     },
     "execution_count": 5,
     "metadata": {},
     "output_type": "execute_result"
    }
   ],
   "source": [
    "df=df.copy()\n",
    "df=df.drop(['date','stn','om','fc','tz','stf'],axis=1)\n",
    "df['time']=pd.to_datetime(df['time'])\n",
    "df['hour']=df['time'].apply(lambda x:x.hour)\n",
    "df['minute']=df['time'].apply(lambda x:x.minute)\n",
    "df=df.drop('time',axis=1)\n",
    "df"
   ]
  },
  {
   "cell_type": "code",
   "execution_count": 6,
   "id": "57193013",
   "metadata": {
    "execution": {
     "iopub.execute_input": "2021-10-03T04:37:00.080682Z",
     "iopub.status.busy": "2021-10-03T04:37:00.079720Z",
     "iopub.status.idle": "2021-10-03T04:37:00.133632Z",
     "shell.execute_reply": "2021-10-03T04:37:00.132932Z",
     "shell.execute_reply.started": "2021-10-03T04:17:10.463572Z"
    },
    "papermill": {
     "duration": 0.100902,
     "end_time": "2021-10-03T04:37:00.133794",
     "exception": false,
     "start_time": "2021-10-03T04:37:00.032892",
     "status": "completed"
    },
    "tags": []
   },
   "outputs": [
    {
     "name": "stdout",
     "output_type": "stream",
     "text": [
      "Zero/Unknown Values in column Year =  0\n",
      "Zero/Unknown Values in column mo =  0\n",
      "Zero/Unknown Values in column dy =  0\n",
      "Zero/Unknown Values in column State =  0\n",
      "Zero/Unknown Values in column EF =  27933\n",
      "Zero/Unknown Values in column Injuries =  52796\n",
      "Zero/Unknown Values in column Fatalities =  58640\n",
      "Zero/Unknown Values in column Property Losses =  23795\n",
      "Zero/Unknown Values in column Crop Loss =  59631\n",
      "Zero/Unknown Values in column slat =  0\n",
      "Zero/Unknown Values in column slon =  0\n",
      "Zero/Unknown Values in column elat =  26363\n",
      "Zero/Unknown Values in column elon =  26363\n",
      "Zero/Unknown Values in column len =  123\n",
      "Zero/Unknown Values in column wid =  473\n",
      "Zero/Unknown Values in column hour =  852\n",
      "Zero/Unknown Values in column minute =  8775\n"
     ]
    }
   ],
   "source": [
    "for column in df.columns:\n",
    "    missing_cnt = df[column][df[column] == 0].count()\n",
    "    print('Zero/Unknown Values in column {col} = '.format(col = column) , missing_cnt )"
   ]
  },
  {
   "cell_type": "code",
   "execution_count": 7,
   "id": "e1347119",
   "metadata": {
    "execution": {
     "iopub.execute_input": "2021-10-03T04:37:00.223219Z",
     "iopub.status.busy": "2021-10-03T04:37:00.222303Z",
     "iopub.status.idle": "2021-10-03T04:37:00.237328Z",
     "shell.execute_reply": "2021-10-03T04:37:00.236774Z",
     "shell.execute_reply.started": "2021-10-03T04:17:10.534216Z"
    },
    "papermill": {
     "duration": 0.061366,
     "end_time": "2021-10-03T04:37:00.237464",
     "exception": false,
     "start_time": "2021-10-03T04:37:00.176098",
     "status": "completed"
    },
    "tags": []
   },
   "outputs": [
    {
     "data": {
      "text/html": [
       "<div>\n",
       "<style scoped>\n",
       "    .dataframe tbody tr th:only-of-type {\n",
       "        vertical-align: middle;\n",
       "    }\n",
       "\n",
       "    .dataframe tbody tr th {\n",
       "        vertical-align: top;\n",
       "    }\n",
       "\n",
       "    .dataframe thead th {\n",
       "        text-align: right;\n",
       "    }\n",
       "</style>\n",
       "<table border=\"1\" class=\"dataframe\">\n",
       "  <thead>\n",
       "    <tr style=\"text-align: right;\">\n",
       "      <th></th>\n",
       "      <th>EF</th>\n",
       "      <th>Property Losses</th>\n",
       "    </tr>\n",
       "  </thead>\n",
       "  <tbody>\n",
       "    <tr>\n",
       "      <th>0</th>\n",
       "      <td>3</td>\n",
       "      <td>6.0</td>\n",
       "    </tr>\n",
       "    <tr>\n",
       "      <th>1</th>\n",
       "      <td>3</td>\n",
       "      <td>5.0</td>\n",
       "    </tr>\n",
       "    <tr>\n",
       "      <th>2</th>\n",
       "      <td>1</td>\n",
       "      <td>4.0</td>\n",
       "    </tr>\n",
       "    <tr>\n",
       "      <th>3</th>\n",
       "      <td>3</td>\n",
       "      <td>3.0</td>\n",
       "    </tr>\n",
       "    <tr>\n",
       "      <th>4</th>\n",
       "      <td>2</td>\n",
       "      <td>5.0</td>\n",
       "    </tr>\n",
       "  </tbody>\n",
       "</table>\n",
       "</div>"
      ],
      "text/plain": [
       "   EF  Property Losses\n",
       "0   3              6.0\n",
       "1   3              5.0\n",
       "2   1              4.0\n",
       "3   3              3.0\n",
       "4   2              5.0"
      ]
     },
     "execution_count": 7,
     "metadata": {},
     "output_type": "execute_result"
    }
   ],
   "source": [
    "df.loc[df['Year']<1996,['EF','Property Losses']].head()"
   ]
  },
  {
   "cell_type": "code",
   "execution_count": 8,
   "id": "52a0cdbe",
   "metadata": {
    "execution": {
     "iopub.execute_input": "2021-10-03T04:37:00.326815Z",
     "iopub.status.busy": "2021-10-03T04:37:00.326091Z",
     "iopub.status.idle": "2021-10-03T04:37:00.338401Z",
     "shell.execute_reply": "2021-10-03T04:37:00.337654Z",
     "shell.execute_reply.started": "2021-10-03T04:17:10.563976Z"
    },
    "papermill": {
     "duration": 0.059478,
     "end_time": "2021-10-03T04:37:00.338546",
     "exception": false,
     "start_time": "2021-10-03T04:37:00.279068",
     "status": "completed"
    },
    "tags": []
   },
   "outputs": [
    {
     "data": {
      "text/html": [
       "<div>\n",
       "<style scoped>\n",
       "    .dataframe tbody tr th:only-of-type {\n",
       "        vertical-align: middle;\n",
       "    }\n",
       "\n",
       "    .dataframe tbody tr th {\n",
       "        vertical-align: top;\n",
       "    }\n",
       "\n",
       "    .dataframe thead th {\n",
       "        text-align: right;\n",
       "    }\n",
       "</style>\n",
       "<table border=\"1\" class=\"dataframe\">\n",
       "  <thead>\n",
       "    <tr style=\"text-align: right;\">\n",
       "      <th></th>\n",
       "      <th>EF</th>\n",
       "      <th>Property Losses</th>\n",
       "    </tr>\n",
       "  </thead>\n",
       "  <tbody>\n",
       "    <tr>\n",
       "      <th>35431</th>\n",
       "      <td>0</td>\n",
       "      <td>0.04</td>\n",
       "    </tr>\n",
       "    <tr>\n",
       "      <th>35432</th>\n",
       "      <td>0</td>\n",
       "      <td>0.03</td>\n",
       "    </tr>\n",
       "    <tr>\n",
       "      <th>35433</th>\n",
       "      <td>0</td>\n",
       "      <td>0.00</td>\n",
       "    </tr>\n",
       "    <tr>\n",
       "      <th>35434</th>\n",
       "      <td>1</td>\n",
       "      <td>1.20</td>\n",
       "    </tr>\n",
       "    <tr>\n",
       "      <th>35435</th>\n",
       "      <td>0</td>\n",
       "      <td>0.10</td>\n",
       "    </tr>\n",
       "  </tbody>\n",
       "</table>\n",
       "</div>"
      ],
      "text/plain": [
       "       EF  Property Losses\n",
       "35431   0             0.04\n",
       "35432   0             0.03\n",
       "35433   0             0.00\n",
       "35434   1             1.20\n",
       "35435   0             0.10"
      ]
     },
     "execution_count": 8,
     "metadata": {},
     "output_type": "execute_result"
    }
   ],
   "source": [
    "df.loc[df['Year']>=1996,['EF','Property Losses']].head()"
   ]
  },
  {
   "cell_type": "code",
   "execution_count": 9,
   "id": "c1e1a44d",
   "metadata": {
    "execution": {
     "iopub.execute_input": "2021-10-03T04:37:00.428953Z",
     "iopub.status.busy": "2021-10-03T04:37:00.428315Z",
     "iopub.status.idle": "2021-10-03T04:37:00.449023Z",
     "shell.execute_reply": "2021-10-03T04:37:00.449512Z",
     "shell.execute_reply.started": "2021-10-03T04:17:10.585962Z"
    },
    "papermill": {
     "duration": 0.068668,
     "end_time": "2021-10-03T04:37:00.449673",
     "exception": false,
     "start_time": "2021-10-03T04:37:00.381005",
     "status": "completed"
    },
    "tags": []
   },
   "outputs": [
    {
     "data": {
      "text/html": [
       "<div>\n",
       "<style scoped>\n",
       "    .dataframe tbody tr th:only-of-type {\n",
       "        vertical-align: middle;\n",
       "    }\n",
       "\n",
       "    .dataframe tbody tr th {\n",
       "        vertical-align: top;\n",
       "    }\n",
       "\n",
       "    .dataframe thead th {\n",
       "        text-align: right;\n",
       "    }\n",
       "</style>\n",
       "<table border=\"1\" class=\"dataframe\">\n",
       "  <thead>\n",
       "    <tr style=\"text-align: right;\">\n",
       "      <th></th>\n",
       "      <th>mean</th>\n",
       "      <th>amax</th>\n",
       "      <th>std</th>\n",
       "    </tr>\n",
       "    <tr>\n",
       "      <th>EF</th>\n",
       "      <th></th>\n",
       "      <th></th>\n",
       "      <th></th>\n",
       "    </tr>\n",
       "  </thead>\n",
       "  <tbody>\n",
       "    <tr>\n",
       "      <th>0</th>\n",
       "      <td>1.230739</td>\n",
       "      <td>7.0</td>\n",
       "      <td>1.644207</td>\n",
       "    </tr>\n",
       "    <tr>\n",
       "      <th>1</th>\n",
       "      <td>3.216340</td>\n",
       "      <td>8.0</td>\n",
       "      <td>1.713685</td>\n",
       "    </tr>\n",
       "    <tr>\n",
       "      <th>2</th>\n",
       "      <td>4.015239</td>\n",
       "      <td>8.0</td>\n",
       "      <td>1.607244</td>\n",
       "    </tr>\n",
       "    <tr>\n",
       "      <th>3</th>\n",
       "      <td>4.749320</td>\n",
       "      <td>8.0</td>\n",
       "      <td>1.639328</td>\n",
       "    </tr>\n",
       "    <tr>\n",
       "      <th>4</th>\n",
       "      <td>5.480638</td>\n",
       "      <td>8.0</td>\n",
       "      <td>1.774750</td>\n",
       "    </tr>\n",
       "    <tr>\n",
       "      <th>5</th>\n",
       "      <td>5.822222</td>\n",
       "      <td>8.0</td>\n",
       "      <td>2.269250</td>\n",
       "    </tr>\n",
       "  </tbody>\n",
       "</table>\n",
       "</div>"
      ],
      "text/plain": [
       "        mean  amax       std\n",
       "EF                          \n",
       "0   1.230739   7.0  1.644207\n",
       "1   3.216340   8.0  1.713685\n",
       "2   4.015239   8.0  1.607244\n",
       "3   4.749320   8.0  1.639328\n",
       "4   5.480638   8.0  1.774750\n",
       "5   5.822222   8.0  2.269250"
      ]
     },
     "execution_count": 9,
     "metadata": {},
     "output_type": "execute_result"
    }
   ],
   "source": [
    "df.loc[df['Year']<1996].groupby('EF')['Property Losses'].agg([np.mean,np.max,np.std])"
   ]
  },
  {
   "cell_type": "code",
   "execution_count": 10,
   "id": "f600d93f",
   "metadata": {
    "execution": {
     "iopub.execute_input": "2021-10-03T04:37:00.537306Z",
     "iopub.status.busy": "2021-10-03T04:37:00.536692Z",
     "iopub.status.idle": "2021-10-03T04:37:00.556159Z",
     "shell.execute_reply": "2021-10-03T04:37:00.556703Z",
     "shell.execute_reply.started": "2021-10-03T04:17:10.619679Z"
    },
    "papermill": {
     "duration": 0.064794,
     "end_time": "2021-10-03T04:37:00.556869",
     "exception": false,
     "start_time": "2021-10-03T04:37:00.492075",
     "status": "completed"
    },
    "tags": []
   },
   "outputs": [
    {
     "data": {
      "text/html": [
       "<div>\n",
       "<style scoped>\n",
       "    .dataframe tbody tr th:only-of-type {\n",
       "        vertical-align: middle;\n",
       "    }\n",
       "\n",
       "    .dataframe tbody tr th {\n",
       "        vertical-align: top;\n",
       "    }\n",
       "\n",
       "    .dataframe thead th {\n",
       "        text-align: right;\n",
       "    }\n",
       "</style>\n",
       "<table border=\"1\" class=\"dataframe\">\n",
       "  <thead>\n",
       "    <tr style=\"text-align: right;\">\n",
       "      <th></th>\n",
       "      <th>mean</th>\n",
       "      <th>amax</th>\n",
       "      <th>std</th>\n",
       "    </tr>\n",
       "    <tr>\n",
       "      <th>EF</th>\n",
       "      <th></th>\n",
       "      <th></th>\n",
       "      <th></th>\n",
       "    </tr>\n",
       "  </thead>\n",
       "  <tbody>\n",
       "    <tr>\n",
       "      <th>0</th>\n",
       "      <td>0.022021</td>\n",
       "      <td>30.0</td>\n",
       "      <td>0.345901</td>\n",
       "    </tr>\n",
       "    <tr>\n",
       "      <th>1</th>\n",
       "      <td>0.613716</td>\n",
       "      <td>750.0</td>\n",
       "      <td>13.243392</td>\n",
       "    </tr>\n",
       "    <tr>\n",
       "      <th>2</th>\n",
       "      <td>2.509558</td>\n",
       "      <td>400.0</td>\n",
       "      <td>13.900840</td>\n",
       "    </tr>\n",
       "    <tr>\n",
       "      <th>3</th>\n",
       "      <td>11.810541</td>\n",
       "      <td>500.0</td>\n",
       "      <td>32.949188</td>\n",
       "    </tr>\n",
       "    <tr>\n",
       "      <th>4</th>\n",
       "      <td>61.657143</td>\n",
       "      <td>2450.0</td>\n",
       "      <td>239.814954</td>\n",
       "    </tr>\n",
       "    <tr>\n",
       "      <th>5</th>\n",
       "      <td>553.441429</td>\n",
       "      <td>2800.1</td>\n",
       "      <td>891.524425</td>\n",
       "    </tr>\n",
       "  </tbody>\n",
       "</table>\n",
       "</div>"
      ],
      "text/plain": [
       "          mean    amax         std\n",
       "EF                                \n",
       "0     0.022021    30.0    0.345901\n",
       "1     0.613716   750.0   13.243392\n",
       "2     2.509558   400.0   13.900840\n",
       "3    11.810541   500.0   32.949188\n",
       "4    61.657143  2450.0  239.814954\n",
       "5   553.441429  2800.1  891.524425"
      ]
     },
     "execution_count": 10,
     "metadata": {},
     "output_type": "execute_result"
    }
   ],
   "source": [
    "df.loc[df['Year']>=1996].groupby('EF')['Property Losses'].agg([np.mean,np.max,np.std])"
   ]
  },
  {
   "cell_type": "code",
   "execution_count": 11,
   "id": "4e33284e",
   "metadata": {
    "execution": {
     "iopub.execute_input": "2021-10-03T04:37:00.645054Z",
     "iopub.status.busy": "2021-10-03T04:37:00.644432Z",
     "iopub.status.idle": "2021-10-03T04:37:01.796486Z",
     "shell.execute_reply": "2021-10-03T04:37:01.795961Z",
     "shell.execute_reply.started": "2021-10-03T04:17:10.647590Z"
    },
    "papermill": {
     "duration": 1.196969,
     "end_time": "2021-10-03T04:37:01.796630",
     "exception": false,
     "start_time": "2021-10-03T04:37:00.599661",
     "status": "completed"
    },
    "tags": []
   },
   "outputs": [
    {
     "name": "stdout",
     "output_type": "stream",
     "text": [
      "Number of Missing Property Losses Values:\n",
      "Empty DataFrame\n",
      "Columns: [EF, Year, Property Losses]\n",
      "Index: []\n",
      "Property Losses after data processing:\n"
     ]
    },
    {
     "data": {
      "text/html": [
       "<div>\n",
       "<style scoped>\n",
       "    .dataframe tbody tr th:only-of-type {\n",
       "        vertical-align: middle;\n",
       "    }\n",
       "\n",
       "    .dataframe tbody tr th {\n",
       "        vertical-align: top;\n",
       "    }\n",
       "\n",
       "    .dataframe thead th {\n",
       "        text-align: right;\n",
       "    }\n",
       "</style>\n",
       "<table border=\"1\" class=\"dataframe\">\n",
       "  <thead>\n",
       "    <tr style=\"text-align: right;\">\n",
       "      <th></th>\n",
       "      <th>EF</th>\n",
       "      <th>Year</th>\n",
       "      <th>Property Losses</th>\n",
       "    </tr>\n",
       "  </thead>\n",
       "  <tbody>\n",
       "    <tr>\n",
       "      <th>0</th>\n",
       "      <td>3</td>\n",
       "      <td>1950</td>\n",
       "      <td>6</td>\n",
       "    </tr>\n",
       "    <tr>\n",
       "      <th>1</th>\n",
       "      <td>3</td>\n",
       "      <td>1950</td>\n",
       "      <td>5</td>\n",
       "    </tr>\n",
       "    <tr>\n",
       "      <th>2</th>\n",
       "      <td>1</td>\n",
       "      <td>1950</td>\n",
       "      <td>4</td>\n",
       "    </tr>\n",
       "    <tr>\n",
       "      <th>3</th>\n",
       "      <td>3</td>\n",
       "      <td>1950</td>\n",
       "      <td>3</td>\n",
       "    </tr>\n",
       "    <tr>\n",
       "      <th>4</th>\n",
       "      <td>2</td>\n",
       "      <td>1950</td>\n",
       "      <td>5</td>\n",
       "    </tr>\n",
       "  </tbody>\n",
       "</table>\n",
       "</div>"
      ],
      "text/plain": [
       "   EF  Year  Property Losses\n",
       "0   3  1950                6\n",
       "1   3  1950                5\n",
       "2   1  1950                4\n",
       "3   3  1950                3\n",
       "4   2  1950                5"
      ]
     },
     "execution_count": 11,
     "metadata": {},
     "output_type": "execute_result"
    }
   ],
   "source": [
    "def LossApprox(cols):\n",
    "    Loss=cols[0]\n",
    "    EF=cols[1]\n",
    "    Year=cols[2]\n",
    "    if Year>1995:\n",
    "        if Loss<0.00005:\n",
    "            Loss=1\n",
    "        elif Loss>=0.00005 and Loss<0.0005:\n",
    "            Loss=2\n",
    "        elif Loss>=0.0005 and Loss<0.005:\n",
    "            Loss=3\n",
    "        elif Loss>=0.005 and Loss<0.05:\n",
    "            Loss=4\n",
    "        elif Loss>=0.05 and Loss<0.5:\n",
    "            Loss=5\n",
    "        elif Loss>=0.5 and Loss<5: \n",
    "            Loss=6\n",
    "        elif  Loss>=5 and Loss<50: \n",
    "            Loss=7\n",
    "        elif Loss>=50 and Loss<500: \n",
    "            Loss=8\n",
    "        elif Loss>=500 and Loss<5000: \n",
    "            Loss=9\n",
    "    if Loss==0:\n",
    "        if EF==0:\n",
    "            Loss=1\n",
    "        elif EF==1:\n",
    "            Loss=3\n",
    "        elif EF==2:\n",
    "            Loss=4\n",
    "        elif EF==3:\n",
    "            Loss=5\n",
    "        elif EF==4:\n",
    "            Loss=6\n",
    "        elif EF==5:\n",
    "            Loss=7\n",
    "    return int(Loss)\n",
    "df['Property Losses'] = df[['Property Losses', 'EF','Year']].apply(LossApprox, axis=1)\n",
    "print('Number of Missing Property Losses Values:')\n",
    "print(df.loc[df['Property Losses']==0,['EF','Year','Property Losses']].head(10))\n",
    "print('Property Losses after data processing:')\n",
    "df.loc[:,['EF','Year','Property Losses']].head()"
   ]
  },
  {
   "cell_type": "code",
   "execution_count": 12,
   "id": "bcd4c806",
   "metadata": {
    "execution": {
     "iopub.execute_input": "2021-10-03T04:37:01.891286Z",
     "iopub.status.busy": "2021-10-03T04:37:01.890580Z",
     "iopub.status.idle": "2021-10-03T04:37:01.910374Z",
     "shell.execute_reply": "2021-10-03T04:37:01.910848Z",
     "shell.execute_reply.started": "2021-10-03T04:17:11.808409Z"
    },
    "papermill": {
     "duration": 0.069886,
     "end_time": "2021-10-03T04:37:01.911025",
     "exception": false,
     "start_time": "2021-10-03T04:37:01.841139",
     "status": "completed"
    },
    "tags": []
   },
   "outputs": [
    {
     "data": {
      "text/html": [
       "<div>\n",
       "<style scoped>\n",
       "    .dataframe tbody tr th:only-of-type {\n",
       "        vertical-align: middle;\n",
       "    }\n",
       "\n",
       "    .dataframe tbody tr th {\n",
       "        vertical-align: top;\n",
       "    }\n",
       "\n",
       "    .dataframe thead th {\n",
       "        text-align: right;\n",
       "    }\n",
       "</style>\n",
       "<table border=\"1\" class=\"dataframe\">\n",
       "  <thead>\n",
       "    <tr style=\"text-align: right;\">\n",
       "      <th></th>\n",
       "      <th>mean</th>\n",
       "      <th>amax</th>\n",
       "      <th>std</th>\n",
       "    </tr>\n",
       "    <tr>\n",
       "      <th>EF</th>\n",
       "      <th></th>\n",
       "      <th></th>\n",
       "      <th></th>\n",
       "    </tr>\n",
       "  </thead>\n",
       "  <tbody>\n",
       "    <tr>\n",
       "      <th>0</th>\n",
       "      <td>0.000000</td>\n",
       "      <td>0.0</td>\n",
       "      <td>0.000000</td>\n",
       "    </tr>\n",
       "    <tr>\n",
       "      <th>1</th>\n",
       "      <td>0.000000</td>\n",
       "      <td>0.0</td>\n",
       "      <td>0.000000</td>\n",
       "    </tr>\n",
       "    <tr>\n",
       "      <th>2</th>\n",
       "      <td>0.000051</td>\n",
       "      <td>0.4</td>\n",
       "      <td>0.004531</td>\n",
       "    </tr>\n",
       "    <tr>\n",
       "      <th>3</th>\n",
       "      <td>0.000000</td>\n",
       "      <td>0.0</td>\n",
       "      <td>0.000000</td>\n",
       "    </tr>\n",
       "    <tr>\n",
       "      <th>4</th>\n",
       "      <td>0.000000</td>\n",
       "      <td>0.0</td>\n",
       "      <td>0.000000</td>\n",
       "    </tr>\n",
       "    <tr>\n",
       "      <th>5</th>\n",
       "      <td>0.000000</td>\n",
       "      <td>0.0</td>\n",
       "      <td>0.000000</td>\n",
       "    </tr>\n",
       "  </tbody>\n",
       "</table>\n",
       "</div>"
      ],
      "text/plain": [
       "        mean  amax       std\n",
       "EF                          \n",
       "0   0.000000   0.0  0.000000\n",
       "1   0.000000   0.0  0.000000\n",
       "2   0.000051   0.4  0.004531\n",
       "3   0.000000   0.0  0.000000\n",
       "4   0.000000   0.0  0.000000\n",
       "5   0.000000   0.0  0.000000"
      ]
     },
     "execution_count": 12,
     "metadata": {},
     "output_type": "execute_result"
    }
   ],
   "source": [
    "df.loc[df['Year']<2005].groupby('EF')['Crop Loss'].agg([np.mean,np.max,np.std])"
   ]
  },
  {
   "cell_type": "code",
   "execution_count": 13,
   "id": "623984cd",
   "metadata": {
    "execution": {
     "iopub.execute_input": "2021-10-03T04:37:02.005248Z",
     "iopub.status.busy": "2021-10-03T04:37:02.004615Z",
     "iopub.status.idle": "2021-10-03T04:37:02.020513Z",
     "shell.execute_reply": "2021-10-03T04:37:02.019933Z",
     "shell.execute_reply.started": "2021-10-03T04:17:11.837196Z"
    },
    "papermill": {
     "duration": 0.065607,
     "end_time": "2021-10-03T04:37:02.020651",
     "exception": false,
     "start_time": "2021-10-03T04:37:01.955044",
     "status": "completed"
    },
    "tags": []
   },
   "outputs": [
    {
     "data": {
      "text/html": [
       "<div>\n",
       "<style scoped>\n",
       "    .dataframe tbody tr th:only-of-type {\n",
       "        vertical-align: middle;\n",
       "    }\n",
       "\n",
       "    .dataframe tbody tr th {\n",
       "        vertical-align: top;\n",
       "    }\n",
       "\n",
       "    .dataframe thead th {\n",
       "        text-align: right;\n",
       "    }\n",
       "</style>\n",
       "<table border=\"1\" class=\"dataframe\">\n",
       "  <thead>\n",
       "    <tr style=\"text-align: right;\">\n",
       "      <th></th>\n",
       "      <th>mean</th>\n",
       "      <th>amax</th>\n",
       "      <th>std</th>\n",
       "    </tr>\n",
       "    <tr>\n",
       "      <th>EF</th>\n",
       "      <th></th>\n",
       "      <th></th>\n",
       "      <th></th>\n",
       "    </tr>\n",
       "  </thead>\n",
       "  <tbody>\n",
       "    <tr>\n",
       "      <th>0</th>\n",
       "      <td>0.000621</td>\n",
       "      <td>1.00</td>\n",
       "      <td>0.013499</td>\n",
       "    </tr>\n",
       "    <tr>\n",
       "      <th>1</th>\n",
       "      <td>0.004097</td>\n",
       "      <td>3.00</td>\n",
       "      <td>0.056363</td>\n",
       "    </tr>\n",
       "    <tr>\n",
       "      <th>2</th>\n",
       "      <td>0.024889</td>\n",
       "      <td>13.00</td>\n",
       "      <td>0.354368</td>\n",
       "    </tr>\n",
       "    <tr>\n",
       "      <th>3</th>\n",
       "      <td>0.057703</td>\n",
       "      <td>3.50</td>\n",
       "      <td>0.302729</td>\n",
       "    </tr>\n",
       "    <tr>\n",
       "      <th>4</th>\n",
       "      <td>0.402340</td>\n",
       "      <td>23.52</td>\n",
       "      <td>2.614833</td>\n",
       "    </tr>\n",
       "    <tr>\n",
       "      <th>5</th>\n",
       "      <td>0.025556</td>\n",
       "      <td>0.23</td>\n",
       "      <td>0.076667</td>\n",
       "    </tr>\n",
       "  </tbody>\n",
       "</table>\n",
       "</div>"
      ],
      "text/plain": [
       "        mean   amax       std\n",
       "EF                           \n",
       "0   0.000621   1.00  0.013499\n",
       "1   0.004097   3.00  0.056363\n",
       "2   0.024889  13.00  0.354368\n",
       "3   0.057703   3.50  0.302729\n",
       "4   0.402340  23.52  2.614833\n",
       "5   0.025556   0.23  0.076667"
      ]
     },
     "execution_count": 13,
     "metadata": {},
     "output_type": "execute_result"
    }
   ],
   "source": [
    "df.loc[df['Year']>2000].groupby('EF')['Crop Loss'].agg([np.mean,np.max,np.std])"
   ]
  },
  {
   "cell_type": "code",
   "execution_count": 14,
   "id": "ba3a6f27",
   "metadata": {
    "execution": {
     "iopub.execute_input": "2021-10-03T04:37:02.116387Z",
     "iopub.status.busy": "2021-10-03T04:37:02.115766Z",
     "iopub.status.idle": "2021-10-03T04:37:03.339869Z",
     "shell.execute_reply": "2021-10-03T04:37:03.339333Z",
     "shell.execute_reply.started": "2021-10-03T04:17:11.866248Z"
    },
    "papermill": {
     "duration": 1.273416,
     "end_time": "2021-10-03T04:37:03.340005",
     "exception": false,
     "start_time": "2021-10-03T04:37:02.066589",
     "status": "completed"
    },
    "tags": []
   },
   "outputs": [
    {
     "name": "stdout",
     "output_type": "stream",
     "text": [
      "Number of Missing Crop Loss Values:\n",
      "Empty DataFrame\n",
      "Columns: [EF, Year, Crop Loss]\n",
      "Index: []\n",
      "Property Losses after data processing:\n"
     ]
    },
    {
     "data": {
      "text/html": [
       "<div>\n",
       "<style scoped>\n",
       "    .dataframe tbody tr th:only-of-type {\n",
       "        vertical-align: middle;\n",
       "    }\n",
       "\n",
       "    .dataframe tbody tr th {\n",
       "        vertical-align: top;\n",
       "    }\n",
       "\n",
       "    .dataframe thead th {\n",
       "        text-align: right;\n",
       "    }\n",
       "</style>\n",
       "<table border=\"1\" class=\"dataframe\">\n",
       "  <thead>\n",
       "    <tr style=\"text-align: right;\">\n",
       "      <th></th>\n",
       "      <th>EF</th>\n",
       "      <th>Year</th>\n",
       "      <th>Crop Loss</th>\n",
       "    </tr>\n",
       "  </thead>\n",
       "  <tbody>\n",
       "    <tr>\n",
       "      <th>0</th>\n",
       "      <td>3</td>\n",
       "      <td>1950</td>\n",
       "      <td>5</td>\n",
       "    </tr>\n",
       "    <tr>\n",
       "      <th>1</th>\n",
       "      <td>3</td>\n",
       "      <td>1950</td>\n",
       "      <td>5</td>\n",
       "    </tr>\n",
       "    <tr>\n",
       "      <th>2</th>\n",
       "      <td>1</td>\n",
       "      <td>1950</td>\n",
       "      <td>4</td>\n",
       "    </tr>\n",
       "    <tr>\n",
       "      <th>3</th>\n",
       "      <td>3</td>\n",
       "      <td>1950</td>\n",
       "      <td>5</td>\n",
       "    </tr>\n",
       "    <tr>\n",
       "      <th>4</th>\n",
       "      <td>2</td>\n",
       "      <td>1950</td>\n",
       "      <td>4</td>\n",
       "    </tr>\n",
       "  </tbody>\n",
       "</table>\n",
       "</div>"
      ],
      "text/plain": [
       "   EF  Year  Crop Loss\n",
       "0   3  1950          5\n",
       "1   3  1950          5\n",
       "2   1  1950          4\n",
       "3   3  1950          5\n",
       "4   2  1950          4"
      ]
     },
     "execution_count": 14,
     "metadata": {},
     "output_type": "execute_result"
    }
   ],
   "source": [
    "def croplossapprox(cols):\n",
    "    closs=cols[0]\n",
    "    EF=cols[1]\n",
    "    Year=cols[2]\n",
    "    closs=closs*10**6\n",
    "    if Year>1999:\n",
    "        if closs<50:\n",
    "            closs=1\n",
    "        elif closs>=50 and closs<500:\n",
    "            closs=2\n",
    "        elif closs>=500 and closs<5000:\n",
    "            closs=3\n",
    "        elif closs>=5000 and closs<50000:\n",
    "            closs=4\n",
    "        elif closs>=50000 and closs<500000:\n",
    "            closs=5\n",
    "        elif closs>=500000 and closs<5000000:\n",
    "            closs=6\n",
    "        elif closs>=5000000 and closs<50000000:\n",
    "            closs=7\n",
    "    if closs==0:\n",
    "        if EF==0:\n",
    "            closs=3\n",
    "        elif EF==1:\n",
    "            closs=4\n",
    "        elif EF==2:\n",
    "            closs=4\n",
    "        elif EF==3:\n",
    "            closs=5\n",
    "        elif EF==4:\n",
    "            closs=6\n",
    "        elif EF==5:\n",
    "            closs=4\n",
    "    return int(closs)\n",
    "df['Crop Loss'] = df[['Crop Loss', 'EF','Year']].apply(croplossapprox, axis=1)\n",
    "print('Number of Missing Crop Loss Values:')\n",
    "print(df.loc[df['Crop Loss']==0,['EF','Year','Crop Loss']].head(10))\n",
    "print('Property Losses after data processing:')\n",
    "df.loc[:,['EF','Year','Crop Loss']].head()"
   ]
  },
  {
   "cell_type": "code",
   "execution_count": 15,
   "id": "cae46d41",
   "metadata": {
    "execution": {
     "iopub.execute_input": "2021-10-03T04:37:03.436974Z",
     "iopub.status.busy": "2021-10-03T04:37:03.436288Z",
     "iopub.status.idle": "2021-10-03T04:37:03.450278Z",
     "shell.execute_reply": "2021-10-03T04:37:03.450786Z",
     "shell.execute_reply.started": "2021-10-03T04:17:13.101565Z"
    },
    "papermill": {
     "duration": 0.065239,
     "end_time": "2021-10-03T04:37:03.450956",
     "exception": false,
     "start_time": "2021-10-03T04:37:03.385717",
     "status": "completed"
    },
    "tags": []
   },
   "outputs": [
    {
     "data": {
      "text/html": [
       "<div>\n",
       "<style scoped>\n",
       "    .dataframe tbody tr th:only-of-type {\n",
       "        vertical-align: middle;\n",
       "    }\n",
       "\n",
       "    .dataframe tbody tr th {\n",
       "        vertical-align: top;\n",
       "    }\n",
       "\n",
       "    .dataframe thead th {\n",
       "        text-align: right;\n",
       "    }\n",
       "</style>\n",
       "<table border=\"1\" class=\"dataframe\">\n",
       "  <thead>\n",
       "    <tr style=\"text-align: right;\">\n",
       "      <th></th>\n",
       "      <th>mean</th>\n",
       "      <th>amax</th>\n",
       "      <th>std</th>\n",
       "    </tr>\n",
       "    <tr>\n",
       "      <th>EF</th>\n",
       "      <th></th>\n",
       "      <th></th>\n",
       "      <th></th>\n",
       "    </tr>\n",
       "  </thead>\n",
       "  <tbody>\n",
       "    <tr>\n",
       "      <th>0</th>\n",
       "      <td>1.020364</td>\n",
       "      <td>103.5</td>\n",
       "      <td>2.680975</td>\n",
       "    </tr>\n",
       "    <tr>\n",
       "      <th>1</th>\n",
       "      <td>3.197955</td>\n",
       "      <td>176.4</td>\n",
       "      <td>6.046221</td>\n",
       "    </tr>\n",
       "    <tr>\n",
       "      <th>2</th>\n",
       "      <td>6.959467</td>\n",
       "      <td>234.7</td>\n",
       "      <td>11.370321</td>\n",
       "    </tr>\n",
       "    <tr>\n",
       "      <th>3</th>\n",
       "      <td>14.963802</td>\n",
       "      <td>169.7</td>\n",
       "      <td>17.481426</td>\n",
       "    </tr>\n",
       "    <tr>\n",
       "      <th>4</th>\n",
       "      <td>27.560850</td>\n",
       "      <td>202.1</td>\n",
       "      <td>28.677197</td>\n",
       "    </tr>\n",
       "    <tr>\n",
       "      <th>5</th>\n",
       "      <td>39.007797</td>\n",
       "      <td>202.5</td>\n",
       "      <td>34.723600</td>\n",
       "    </tr>\n",
       "  </tbody>\n",
       "</table>\n",
       "</div>"
      ],
      "text/plain": [
       "         mean   amax        std\n",
       "EF                             \n",
       "0    1.020364  103.5   2.680975\n",
       "1    3.197955  176.4   6.046221\n",
       "2    6.959467  234.7  11.370321\n",
       "3   14.963802  169.7  17.481426\n",
       "4   27.560850  202.1  28.677197\n",
       "5   39.007797  202.5  34.723600"
      ]
     },
     "execution_count": 15,
     "metadata": {},
     "output_type": "execute_result"
    }
   ],
   "source": [
    "df.groupby('EF')['len'].agg([np.mean,np.max,np.std])"
   ]
  },
  {
   "cell_type": "code",
   "execution_count": 16,
   "id": "9cf3b275",
   "metadata": {
    "execution": {
     "iopub.execute_input": "2021-10-03T04:37:03.549109Z",
     "iopub.status.busy": "2021-10-03T04:37:03.548459Z",
     "iopub.status.idle": "2021-10-03T04:37:03.564996Z",
     "shell.execute_reply": "2021-10-03T04:37:03.565509Z",
     "shell.execute_reply.started": "2021-10-03T04:17:13.124844Z"
    },
    "papermill": {
     "duration": 0.068525,
     "end_time": "2021-10-03T04:37:03.565699",
     "exception": false,
     "start_time": "2021-10-03T04:37:03.497174",
     "status": "completed"
    },
    "tags": []
   },
   "outputs": [
    {
     "data": {
      "text/html": [
       "<div>\n",
       "<style scoped>\n",
       "    .dataframe tbody tr th:only-of-type {\n",
       "        vertical-align: middle;\n",
       "    }\n",
       "\n",
       "    .dataframe tbody tr th {\n",
       "        vertical-align: top;\n",
       "    }\n",
       "\n",
       "    .dataframe thead th {\n",
       "        text-align: right;\n",
       "    }\n",
       "</style>\n",
       "<table border=\"1\" class=\"dataframe\">\n",
       "  <thead>\n",
       "    <tr style=\"text-align: right;\">\n",
       "      <th></th>\n",
       "      <th>mean</th>\n",
       "      <th>amax</th>\n",
       "      <th>std</th>\n",
       "    </tr>\n",
       "    <tr>\n",
       "      <th>EF</th>\n",
       "      <th></th>\n",
       "      <th></th>\n",
       "      <th></th>\n",
       "    </tr>\n",
       "  </thead>\n",
       "  <tbody>\n",
       "    <tr>\n",
       "      <th>0</th>\n",
       "      <td>41.561379</td>\n",
       "      <td>2500</td>\n",
       "      <td>65.380177</td>\n",
       "    </tr>\n",
       "    <tr>\n",
       "      <th>1</th>\n",
       "      <td>95.522922</td>\n",
       "      <td>3000</td>\n",
       "      <td>148.651471</td>\n",
       "    </tr>\n",
       "    <tr>\n",
       "      <th>2</th>\n",
       "      <td>175.658897</td>\n",
       "      <td>3520</td>\n",
       "      <td>256.255289</td>\n",
       "    </tr>\n",
       "    <tr>\n",
       "      <th>3</th>\n",
       "      <td>363.320066</td>\n",
       "      <td>4576</td>\n",
       "      <td>441.522527</td>\n",
       "    </tr>\n",
       "    <tr>\n",
       "      <th>4</th>\n",
       "      <td>588.644248</td>\n",
       "      <td>4400</td>\n",
       "      <td>563.137395</td>\n",
       "    </tr>\n",
       "    <tr>\n",
       "      <th>5</th>\n",
       "      <td>839.067797</td>\n",
       "      <td>3000</td>\n",
       "      <td>597.833643</td>\n",
       "    </tr>\n",
       "  </tbody>\n",
       "</table>\n",
       "</div>"
      ],
      "text/plain": [
       "          mean  amax         std\n",
       "EF                              \n",
       "0    41.561379  2500   65.380177\n",
       "1    95.522922  3000  148.651471\n",
       "2   175.658897  3520  256.255289\n",
       "3   363.320066  4576  441.522527\n",
       "4   588.644248  4400  563.137395\n",
       "5   839.067797  3000  597.833643"
      ]
     },
     "execution_count": 16,
     "metadata": {},
     "output_type": "execute_result"
    }
   ],
   "source": [
    "df.groupby('EF')['wid'].agg([np.mean,np.max,np.std])"
   ]
  },
  {
   "cell_type": "code",
   "execution_count": 17,
   "id": "cfacc5df",
   "metadata": {
    "execution": {
     "iopub.execute_input": "2021-10-03T04:37:03.669045Z",
     "iopub.status.busy": "2021-10-03T04:37:03.668043Z",
     "iopub.status.idle": "2021-10-03T04:37:04.535164Z",
     "shell.execute_reply": "2021-10-03T04:37:04.534555Z",
     "shell.execute_reply.started": "2021-10-03T04:17:13.150693Z"
    },
    "papermill": {
     "duration": 0.923014,
     "end_time": "2021-10-03T04:37:04.535313",
     "exception": false,
     "start_time": "2021-10-03T04:37:03.612299",
     "status": "completed"
    },
    "tags": []
   },
   "outputs": [
    {
     "name": "stdout",
     "output_type": "stream",
     "text": [
      "Number of Missing Length Values:\n",
      "Empty DataFrame\n",
      "Columns: [EF, Year, len]\n",
      "Index: []\n",
      "Length after data processing:\n"
     ]
    },
    {
     "data": {
      "text/html": [
       "<div>\n",
       "<style scoped>\n",
       "    .dataframe tbody tr th:only-of-type {\n",
       "        vertical-align: middle;\n",
       "    }\n",
       "\n",
       "    .dataframe tbody tr th {\n",
       "        vertical-align: top;\n",
       "    }\n",
       "\n",
       "    .dataframe thead th {\n",
       "        text-align: right;\n",
       "    }\n",
       "</style>\n",
       "<table border=\"1\" class=\"dataframe\">\n",
       "  <thead>\n",
       "    <tr style=\"text-align: right;\">\n",
       "      <th></th>\n",
       "      <th>EF</th>\n",
       "      <th>Year</th>\n",
       "      <th>len</th>\n",
       "    </tr>\n",
       "  </thead>\n",
       "  <tbody>\n",
       "    <tr>\n",
       "      <th>0</th>\n",
       "      <td>3</td>\n",
       "      <td>1950</td>\n",
       "      <td>9.5</td>\n",
       "    </tr>\n",
       "    <tr>\n",
       "      <th>1</th>\n",
       "      <td>3</td>\n",
       "      <td>1950</td>\n",
       "      <td>3.6</td>\n",
       "    </tr>\n",
       "    <tr>\n",
       "      <th>2</th>\n",
       "      <td>1</td>\n",
       "      <td>1950</td>\n",
       "      <td>0.1</td>\n",
       "    </tr>\n",
       "    <tr>\n",
       "      <th>3</th>\n",
       "      <td>3</td>\n",
       "      <td>1950</td>\n",
       "      <td>0.6</td>\n",
       "    </tr>\n",
       "    <tr>\n",
       "      <th>4</th>\n",
       "      <td>2</td>\n",
       "      <td>1950</td>\n",
       "      <td>2.3</td>\n",
       "    </tr>\n",
       "    <tr>\n",
       "      <th>5</th>\n",
       "      <td>2</td>\n",
       "      <td>1950</td>\n",
       "      <td>0.1</td>\n",
       "    </tr>\n",
       "    <tr>\n",
       "      <th>6</th>\n",
       "      <td>2</td>\n",
       "      <td>1950</td>\n",
       "      <td>4.7</td>\n",
       "    </tr>\n",
       "    <tr>\n",
       "      <th>7</th>\n",
       "      <td>2</td>\n",
       "      <td>1950</td>\n",
       "      <td>9.9</td>\n",
       "    </tr>\n",
       "    <tr>\n",
       "      <th>8</th>\n",
       "      <td>3</td>\n",
       "      <td>1950</td>\n",
       "      <td>12.0</td>\n",
       "    </tr>\n",
       "    <tr>\n",
       "      <th>9</th>\n",
       "      <td>2</td>\n",
       "      <td>1950</td>\n",
       "      <td>4.6</td>\n",
       "    </tr>\n",
       "  </tbody>\n",
       "</table>\n",
       "</div>"
      ],
      "text/plain": [
       "   EF  Year   len\n",
       "0   3  1950   9.5\n",
       "1   3  1950   3.6\n",
       "2   1  1950   0.1\n",
       "3   3  1950   0.6\n",
       "4   2  1950   2.3\n",
       "5   2  1950   0.1\n",
       "6   2  1950   4.7\n",
       "7   2  1950   9.9\n",
       "8   3  1950  12.0\n",
       "9   2  1950   4.6"
      ]
     },
     "execution_count": 17,
     "metadata": {},
     "output_type": "execute_result"
    }
   ],
   "source": [
    "def lenapprox(col):\n",
    "    len=col[0]\n",
    "    EF=col[1]\n",
    "    if len==0:\n",
    "        if EF==0:\n",
    "            len=1.020364\n",
    "        elif EF==1:\n",
    "            len=3.197955\n",
    "        elif EF==2:\n",
    "            len=6.959467\n",
    "        elif EF==3:\n",
    "            len=14.963802\n",
    "        elif EF==5:\n",
    "            len=27.560850\n",
    "    return len\n",
    "df['len'] = df[['len', 'EF']].apply(lenapprox, axis=1)\n",
    "print('Number of Missing Length Values:')\n",
    "print(df.loc[df['len']==0,['EF','Year','len']].head(10))\n",
    "print('Length after data processing:')\n",
    "df.loc[:,['EF','Year','len']].head(10)"
   ]
  },
  {
   "cell_type": "code",
   "execution_count": 18,
   "id": "0b734d90",
   "metadata": {
    "execution": {
     "iopub.execute_input": "2021-10-03T04:37:04.664561Z",
     "iopub.status.busy": "2021-10-03T04:37:04.659258Z",
     "iopub.status.idle": "2021-10-03T04:37:05.518069Z",
     "shell.execute_reply": "2021-10-03T04:37:05.517552Z",
     "shell.execute_reply.started": "2021-10-03T04:17:14.040657Z"
    },
    "papermill": {
     "duration": 0.93563,
     "end_time": "2021-10-03T04:37:05.518213",
     "exception": false,
     "start_time": "2021-10-03T04:37:04.582583",
     "status": "completed"
    },
    "tags": []
   },
   "outputs": [
    {
     "name": "stdout",
     "output_type": "stream",
     "text": [
      "Number of Missing Width Values:\n",
      "Empty DataFrame\n",
      "Columns: [EF, Year, wid]\n",
      "Index: []\n",
      "Width after data processing:\n"
     ]
    },
    {
     "data": {
      "text/html": [
       "<div>\n",
       "<style scoped>\n",
       "    .dataframe tbody tr th:only-of-type {\n",
       "        vertical-align: middle;\n",
       "    }\n",
       "\n",
       "    .dataframe tbody tr th {\n",
       "        vertical-align: top;\n",
       "    }\n",
       "\n",
       "    .dataframe thead th {\n",
       "        text-align: right;\n",
       "    }\n",
       "</style>\n",
       "<table border=\"1\" class=\"dataframe\">\n",
       "  <thead>\n",
       "    <tr style=\"text-align: right;\">\n",
       "      <th></th>\n",
       "      <th>EF</th>\n",
       "      <th>Year</th>\n",
       "      <th>wid</th>\n",
       "    </tr>\n",
       "  </thead>\n",
       "  <tbody>\n",
       "    <tr>\n",
       "      <th>0</th>\n",
       "      <td>3</td>\n",
       "      <td>1950</td>\n",
       "      <td>150.0</td>\n",
       "    </tr>\n",
       "    <tr>\n",
       "      <th>1</th>\n",
       "      <td>3</td>\n",
       "      <td>1950</td>\n",
       "      <td>130.0</td>\n",
       "    </tr>\n",
       "    <tr>\n",
       "      <th>2</th>\n",
       "      <td>1</td>\n",
       "      <td>1950</td>\n",
       "      <td>10.0</td>\n",
       "    </tr>\n",
       "    <tr>\n",
       "      <th>3</th>\n",
       "      <td>3</td>\n",
       "      <td>1950</td>\n",
       "      <td>17.0</td>\n",
       "    </tr>\n",
       "    <tr>\n",
       "      <th>4</th>\n",
       "      <td>2</td>\n",
       "      <td>1950</td>\n",
       "      <td>300.0</td>\n",
       "    </tr>\n",
       "  </tbody>\n",
       "</table>\n",
       "</div>"
      ],
      "text/plain": [
       "   EF  Year    wid\n",
       "0   3  1950  150.0\n",
       "1   3  1950  130.0\n",
       "2   1  1950   10.0\n",
       "3   3  1950   17.0\n",
       "4   2  1950  300.0"
      ]
     },
     "execution_count": 18,
     "metadata": {},
     "output_type": "execute_result"
    }
   ],
   "source": [
    "def widapprox(col):\n",
    "    wid=col[0]\n",
    "    EF=col[1]\n",
    "    if wid==0:\n",
    "        if EF==0:\n",
    "            wid=42\n",
    "        elif EF==1:\n",
    "            wid=96\n",
    "        elif EF==2:\n",
    "            wid=176\n",
    "        elif EF==3:\n",
    "            wid=363\n",
    "        elif EF==4:\n",
    "            wid=589\n",
    "        elif EF==5:\n",
    "            wid=839\n",
    "    return wid\n",
    "df['wid'] = df[['wid', 'EF']].apply(lenapprox, axis=1)\n",
    "print('Number of Missing Width Values:')\n",
    "print(df.loc[df['len']==0,['EF','Year','wid']].head(10))\n",
    "print('Width after data processing:')\n",
    "df.loc[:,['EF','Year','wid']].head()"
   ]
  },
  {
   "cell_type": "code",
   "execution_count": 19,
   "id": "601e174f",
   "metadata": {
    "execution": {
     "iopub.execute_input": "2021-10-03T04:37:05.641950Z",
     "iopub.status.busy": "2021-10-03T04:37:05.640921Z",
     "iopub.status.idle": "2021-10-03T04:37:07.801824Z",
     "shell.execute_reply": "2021-10-03T04:37:07.801102Z",
     "shell.execute_reply.started": "2021-10-03T04:17:14.928176Z"
    },
    "papermill": {
     "duration": 2.235137,
     "end_time": "2021-10-03T04:37:07.802011",
     "exception": false,
     "start_time": "2021-10-03T04:37:05.566874",
     "status": "completed"
    },
    "tags": []
   },
   "outputs": [
    {
     "name": "stdout",
     "output_type": "stream",
     "text": [
      "Number of Mi End Latitude Values:\n",
      "Empty DataFrame\n",
      "Columns: [elat, slat]\n",
      "Index: []\n",
      "Number of Missing End Longitude Values:\n",
      "Empty DataFrame\n",
      "Columns: [elon, slat]\n",
      "Index: []\n",
      "End Latitude and Logitudes after data processing:\n"
     ]
    },
    {
     "data": {
      "text/html": [
       "<div>\n",
       "<style scoped>\n",
       "    .dataframe tbody tr th:only-of-type {\n",
       "        vertical-align: middle;\n",
       "    }\n",
       "\n",
       "    .dataframe tbody tr th {\n",
       "        vertical-align: top;\n",
       "    }\n",
       "\n",
       "    .dataframe thead th {\n",
       "        text-align: right;\n",
       "    }\n",
       "</style>\n",
       "<table border=\"1\" class=\"dataframe\">\n",
       "  <thead>\n",
       "    <tr style=\"text-align: right;\">\n",
       "      <th></th>\n",
       "      <th>elat</th>\n",
       "      <th>elon</th>\n",
       "      <th>slat</th>\n",
       "      <th>slon</th>\n",
       "    </tr>\n",
       "  </thead>\n",
       "  <tbody>\n",
       "    <tr>\n",
       "      <th>0</th>\n",
       "      <td>38.830000</td>\n",
       "      <td>-90.030000</td>\n",
       "      <td>38.77</td>\n",
       "      <td>-90.22</td>\n",
       "    </tr>\n",
       "    <tr>\n",
       "      <th>1</th>\n",
       "      <td>39.120000</td>\n",
       "      <td>-89.230000</td>\n",
       "      <td>39.10</td>\n",
       "      <td>-89.30</td>\n",
       "    </tr>\n",
       "    <tr>\n",
       "      <th>2</th>\n",
       "      <td>40.950711</td>\n",
       "      <td>-84.509289</td>\n",
       "      <td>40.88</td>\n",
       "      <td>-84.58</td>\n",
       "    </tr>\n",
       "    <tr>\n",
       "      <th>3</th>\n",
       "      <td>34.824264</td>\n",
       "      <td>-93.945736</td>\n",
       "      <td>34.40</td>\n",
       "      <td>-94.37</td>\n",
       "    </tr>\n",
       "    <tr>\n",
       "      <th>4</th>\n",
       "      <td>37.630000</td>\n",
       "      <td>-90.650000</td>\n",
       "      <td>37.60</td>\n",
       "      <td>-90.68</td>\n",
       "    </tr>\n",
       "    <tr>\n",
       "      <th>5</th>\n",
       "      <td>41.240711</td>\n",
       "      <td>-87.259289</td>\n",
       "      <td>41.17</td>\n",
       "      <td>-87.33</td>\n",
       "    </tr>\n",
       "    <tr>\n",
       "      <th>6</th>\n",
       "      <td>26.880000</td>\n",
       "      <td>-98.050000</td>\n",
       "      <td>26.88</td>\n",
       "      <td>-98.12</td>\n",
       "    </tr>\n",
       "    <tr>\n",
       "      <th>7</th>\n",
       "      <td>29.520000</td>\n",
       "      <td>-95.130000</td>\n",
       "      <td>29.42</td>\n",
       "      <td>-95.25</td>\n",
       "    </tr>\n",
       "    <tr>\n",
       "      <th>8</th>\n",
       "      <td>29.830000</td>\n",
       "      <td>-95.000000</td>\n",
       "      <td>29.67</td>\n",
       "      <td>-95.05</td>\n",
       "    </tr>\n",
       "    <tr>\n",
       "      <th>9</th>\n",
       "      <td>32.420000</td>\n",
       "      <td>-95.200000</td>\n",
       "      <td>32.35</td>\n",
       "      <td>-95.20</td>\n",
       "    </tr>\n",
       "  </tbody>\n",
       "</table>\n",
       "</div>"
      ],
      "text/plain": [
       "        elat       elon   slat   slon\n",
       "0  38.830000 -90.030000  38.77 -90.22\n",
       "1  39.120000 -89.230000  39.10 -89.30\n",
       "2  40.950711 -84.509289  40.88 -84.58\n",
       "3  34.824264 -93.945736  34.40 -94.37\n",
       "4  37.630000 -90.650000  37.60 -90.68\n",
       "5  41.240711 -87.259289  41.17 -87.33\n",
       "6  26.880000 -98.050000  26.88 -98.12\n",
       "7  29.520000 -95.130000  29.42 -95.25\n",
       "8  29.830000 -95.000000  29.67 -95.05\n",
       "9  32.420000 -95.200000  32.35 -95.20"
      ]
     },
     "execution_count": 19,
     "metadata": {},
     "output_type": "execute_result"
    }
   ],
   "source": [
    "def elatapprox(col):\n",
    "    elat=col[0]\n",
    "    slat=col[1]\n",
    "    len=col[2]\n",
    "    div=2**0.5\n",
    "    if elat==0:\n",
    "        elat=slat+len/div\n",
    "    return elat\n",
    "def elongapprox(col):\n",
    "    elong=col[0]\n",
    "    slong=col[1]\n",
    "    len=col[2]\n",
    "    div=2**0.5\n",
    "    if elong==0:\n",
    "        elong=slong+len/div\n",
    "    return elong\n",
    "df['elat'] = df[['elat', 'slat','len']].apply(elatapprox, axis=1)\n",
    "df['elon'] = df[['elon', 'slon','len']].apply(elongapprox, axis=1)\n",
    "print('Number of Mi End Latitude Values:')\n",
    "print(df.loc[df['elat']==0,['elat','slat']].head(10))\n",
    "print('Number of Missing End Longitude Values:')\n",
    "print(df.loc[df['elon']==0,['elon','slat']].head(10))\n",
    "print('End Latitude and Logitudes after data processing:')\n",
    "df.loc[:,['elat','elon','slat','slon']].head(10)"
   ]
  },
  {
   "cell_type": "code",
   "execution_count": 20,
   "id": "fda86dfe",
   "metadata": {
    "execution": {
     "iopub.execute_input": "2021-10-03T04:37:07.908092Z",
     "iopub.status.busy": "2021-10-03T04:37:07.907294Z",
     "iopub.status.idle": "2021-10-03T04:37:07.938632Z",
     "shell.execute_reply": "2021-10-03T04:37:07.939161Z",
     "shell.execute_reply.started": "2021-10-03T04:17:17.115771Z"
    },
    "papermill": {
     "duration": 0.087877,
     "end_time": "2021-10-03T04:37:07.939367",
     "exception": false,
     "start_time": "2021-10-03T04:37:07.851490",
     "status": "completed"
    },
    "tags": []
   },
   "outputs": [
    {
     "name": "stdout",
     "output_type": "stream",
     "text": [
      "Zero/Unknown Values in column Year =  0\n",
      "Zero/Unknown Values in column mo =  0\n",
      "Zero/Unknown Values in column dy =  0\n",
      "Zero/Unknown Values in column State =  0\n",
      "Zero/Unknown Values in column EF =  27933\n",
      "Zero/Unknown Values in column Injuries =  52796\n",
      "Zero/Unknown Values in column Fatalities =  58640\n",
      "Zero/Unknown Values in column Property Losses =  0\n",
      "Zero/Unknown Values in column Crop Loss =  0\n",
      "Zero/Unknown Values in column slat =  0\n",
      "Zero/Unknown Values in column slon =  0\n",
      "Zero/Unknown Values in column elat =  0\n",
      "Zero/Unknown Values in column elon =  0\n",
      "Zero/Unknown Values in column len =  0\n",
      "Zero/Unknown Values in column wid =  0\n",
      "Zero/Unknown Values in column hour =  852\n",
      "Zero/Unknown Values in column minute =  8775\n"
     ]
    }
   ],
   "source": [
    "for column in df.columns:\n",
    "    missing_cnt = df[column][df[column] == 0].count()\n",
    "    print('Zero/Unknown Values in column {col} = '.format(col = column) , missing_cnt )"
   ]
  },
  {
   "cell_type": "code",
   "execution_count": 21,
   "id": "090fdf42",
   "metadata": {
    "execution": {
     "iopub.execute_input": "2021-10-03T04:37:08.043459Z",
     "iopub.status.busy": "2021-10-03T04:37:08.042820Z",
     "iopub.status.idle": "2021-10-03T04:37:08.070511Z",
     "shell.execute_reply": "2021-10-03T04:37:08.069723Z",
     "shell.execute_reply.started": "2021-10-03T04:17:17.157189Z"
    },
    "papermill": {
     "duration": 0.081858,
     "end_time": "2021-10-03T04:37:08.070658",
     "exception": false,
     "start_time": "2021-10-03T04:37:07.988800",
     "status": "completed"
    },
    "tags": []
   },
   "outputs": [
    {
     "data": {
      "text/html": [
       "<div>\n",
       "<style scoped>\n",
       "    .dataframe tbody tr th:only-of-type {\n",
       "        vertical-align: middle;\n",
       "    }\n",
       "\n",
       "    .dataframe tbody tr th {\n",
       "        vertical-align: top;\n",
       "    }\n",
       "\n",
       "    .dataframe thead th {\n",
       "        text-align: right;\n",
       "    }\n",
       "</style>\n",
       "<table border=\"1\" class=\"dataframe\">\n",
       "  <thead>\n",
       "    <tr style=\"text-align: right;\">\n",
       "      <th></th>\n",
       "      <th>Year</th>\n",
       "      <th>mo</th>\n",
       "      <th>dy</th>\n",
       "      <th>State</th>\n",
       "      <th>EF</th>\n",
       "      <th>Property Losses</th>\n",
       "      <th>Crop Loss</th>\n",
       "      <th>slat</th>\n",
       "      <th>slon</th>\n",
       "      <th>elat</th>\n",
       "      <th>elon</th>\n",
       "      <th>len</th>\n",
       "      <th>wid</th>\n",
       "      <th>hour</th>\n",
       "      <th>minute</th>\n",
       "      <th>Casualties</th>\n",
       "    </tr>\n",
       "  </thead>\n",
       "  <tbody>\n",
       "    <tr>\n",
       "      <th>0</th>\n",
       "      <td>1950</td>\n",
       "      <td>1</td>\n",
       "      <td>3</td>\n",
       "      <td>MO</td>\n",
       "      <td>3</td>\n",
       "      <td>6</td>\n",
       "      <td>5</td>\n",
       "      <td>38.77</td>\n",
       "      <td>-90.22</td>\n",
       "      <td>38.830000</td>\n",
       "      <td>-90.030000</td>\n",
       "      <td>9.5</td>\n",
       "      <td>150.0</td>\n",
       "      <td>11</td>\n",
       "      <td>0</td>\n",
       "      <td>3</td>\n",
       "    </tr>\n",
       "    <tr>\n",
       "      <th>1</th>\n",
       "      <td>1950</td>\n",
       "      <td>1</td>\n",
       "      <td>3</td>\n",
       "      <td>IL</td>\n",
       "      <td>3</td>\n",
       "      <td>5</td>\n",
       "      <td>5</td>\n",
       "      <td>39.10</td>\n",
       "      <td>-89.30</td>\n",
       "      <td>39.120000</td>\n",
       "      <td>-89.230000</td>\n",
       "      <td>3.6</td>\n",
       "      <td>130.0</td>\n",
       "      <td>11</td>\n",
       "      <td>55</td>\n",
       "      <td>3</td>\n",
       "    </tr>\n",
       "    <tr>\n",
       "      <th>2</th>\n",
       "      <td>1950</td>\n",
       "      <td>1</td>\n",
       "      <td>3</td>\n",
       "      <td>OH</td>\n",
       "      <td>1</td>\n",
       "      <td>4</td>\n",
       "      <td>4</td>\n",
       "      <td>40.88</td>\n",
       "      <td>-84.58</td>\n",
       "      <td>40.950711</td>\n",
       "      <td>-84.509289</td>\n",
       "      <td>0.1</td>\n",
       "      <td>10.0</td>\n",
       "      <td>16</td>\n",
       "      <td>0</td>\n",
       "      <td>1</td>\n",
       "    </tr>\n",
       "    <tr>\n",
       "      <th>3</th>\n",
       "      <td>1950</td>\n",
       "      <td>1</td>\n",
       "      <td>13</td>\n",
       "      <td>AR</td>\n",
       "      <td>3</td>\n",
       "      <td>3</td>\n",
       "      <td>5</td>\n",
       "      <td>34.40</td>\n",
       "      <td>-94.37</td>\n",
       "      <td>34.824264</td>\n",
       "      <td>-93.945736</td>\n",
       "      <td>0.6</td>\n",
       "      <td>17.0</td>\n",
       "      <td>5</td>\n",
       "      <td>25</td>\n",
       "      <td>2</td>\n",
       "    </tr>\n",
       "    <tr>\n",
       "      <th>4</th>\n",
       "      <td>1950</td>\n",
       "      <td>1</td>\n",
       "      <td>25</td>\n",
       "      <td>MO</td>\n",
       "      <td>2</td>\n",
       "      <td>5</td>\n",
       "      <td>4</td>\n",
       "      <td>37.60</td>\n",
       "      <td>-90.68</td>\n",
       "      <td>37.630000</td>\n",
       "      <td>-90.650000</td>\n",
       "      <td>2.3</td>\n",
       "      <td>300.0</td>\n",
       "      <td>19</td>\n",
       "      <td>30</td>\n",
       "      <td>5</td>\n",
       "    </tr>\n",
       "  </tbody>\n",
       "</table>\n",
       "</div>"
      ],
      "text/plain": [
       "   Year  mo  dy State  EF  Property Losses  Crop Loss   slat   slon  \\\n",
       "0  1950   1   3    MO   3                6          5  38.77 -90.22   \n",
       "1  1950   1   3    IL   3                5          5  39.10 -89.30   \n",
       "2  1950   1   3    OH   1                4          4  40.88 -84.58   \n",
       "3  1950   1  13    AR   3                3          5  34.40 -94.37   \n",
       "4  1950   1  25    MO   2                5          4  37.60 -90.68   \n",
       "\n",
       "        elat       elon  len    wid  hour  minute  Casualties  \n",
       "0  38.830000 -90.030000  9.5  150.0    11       0           3  \n",
       "1  39.120000 -89.230000  3.6  130.0    11      55           3  \n",
       "2  40.950711 -84.509289  0.1   10.0    16       0           1  \n",
       "3  34.824264 -93.945736  0.6   17.0     5      25           2  \n",
       "4  37.630000 -90.650000  2.3  300.0    19      30           5  "
      ]
     },
     "execution_count": 21,
     "metadata": {},
     "output_type": "execute_result"
    }
   ],
   "source": [
    "df['Casualties']=df['Fatalities']+df['Injuries']\n",
    "df=df.drop(['Fatalities','Injuries'],axis=1)\n",
    "df.head()"
   ]
  },
  {
   "cell_type": "code",
   "execution_count": 22,
   "id": "7629d8f5",
   "metadata": {
    "execution": {
     "iopub.execute_input": "2021-10-03T04:37:08.177900Z",
     "iopub.status.busy": "2021-10-03T04:37:08.176633Z",
     "iopub.status.idle": "2021-10-03T04:37:10.029649Z",
     "shell.execute_reply": "2021-10-03T04:37:10.030137Z",
     "shell.execute_reply.started": "2021-10-03T04:17:17.193641Z"
    },
    "papermill": {
     "duration": 1.909197,
     "end_time": "2021-10-03T04:37:10.030348",
     "exception": false,
     "start_time": "2021-10-03T04:37:08.121151",
     "status": "completed"
    },
    "tags": []
   },
   "outputs": [
    {
     "data": {
      "text/plain": [
       "<AxesSubplot:>"
      ]
     },
     "execution_count": 22,
     "metadata": {},
     "output_type": "execute_result"
    },
    {
     "data": {
      "image/png": "[encoded data removed]",
      "text/plain": [
       "<Figure size 1440x720 with 2 Axes>"
      ]
     },
     "metadata": {
      "needs_background": "light"
     },
     "output_type": "display_data"
    }
   ],
   "source": [
    "corr = df.corr()\n",
    "corr = (corr)\n",
    "a4_dims=(20,10)\n",
    "fig, ax = plt.subplots(figsize=a4_dims)\n",
    "sns.heatmap(corr,annot=True,fmt='f',xticklabels=corr.columns.values,yticklabels=corr.columns.values)"
   ]
  },
  {
   "cell_type": "code",
   "execution_count": 23,
   "id": "5841b532",
   "metadata": {
    "execution": {
     "iopub.execute_input": "2021-10-03T04:37:10.203032Z",
     "iopub.status.busy": "2021-10-03T04:37:10.183534Z",
     "iopub.status.idle": "2021-10-03T04:37:10.980827Z",
     "shell.execute_reply": "2021-10-03T04:37:10.980280Z",
     "shell.execute_reply.started": "2021-10-03T04:17:19.126791Z"
    },
    "papermill": {
     "duration": 0.893029,
     "end_time": "2021-10-03T04:37:10.980975",
     "exception": false,
     "start_time": "2021-10-03T04:37:10.087946",
     "status": "completed"
    },
    "tags": []
   },
   "outputs": [
    {
     "data": {
      "text/plain": [
       "Text(336.9714285714286, 0.5, 'Tornado Magnitude in EF Scale')"
      ]
     },
     "execution_count": 23,
     "metadata": {},
     "output_type": "execute_result"
    },
    {
     "data": {
      "image/png": "[encoded data removed]",
      "text/plain": [
       "<Figure size 432x432 with 3 Axes>"
      ]
     },
     "metadata": {
      "needs_background": "light"
     },
     "output_type": "display_data"
    }
   ],
   "source": [
    "sns.jointplot(x=df['Year'],y=df['EF'],joint_kws={'alpha':0.1,'s':5,'color':'blue'},marginal_kws={'color':'red'})\n",
    "fig.suptitle(\"Tornado Magnitude in EF Scale vs Year\")\n",
    "plt.xlabel('Year')\n",
    "plt.ylabel('Tornado Magnitude in EF Scale')\n"
   ]
  },
  {
   "cell_type": "code",
   "execution_count": 24,
   "id": "6b0f2aeb",
   "metadata": {
    "execution": {
     "iopub.execute_input": "2021-10-03T04:37:11.127758Z",
     "iopub.status.busy": "2021-10-03T04:37:11.120119Z",
     "iopub.status.idle": "2021-10-03T04:37:11.582190Z",
     "shell.execute_reply": "2021-10-03T04:37:11.581625Z",
     "shell.execute_reply.started": "2021-10-03T04:17:20.130319Z"
    },
    "papermill": {
     "duration": 0.543277,
     "end_time": "2021-10-03T04:37:11.582360",
     "exception": false,
     "start_time": "2021-10-03T04:37:11.039083",
     "status": "completed"
    },
    "tags": []
   },
   "outputs": [
    {
     "data": {
      "image/png": "[encoded data removed]",
      "text/plain": [
       "<Figure size 360x360 with 1 Axes>"
      ]
     },
     "metadata": {
      "needs_background": "light"
     },
     "output_type": "display_data"
    }
   ],
   "source": [
    "sns.lmplot(data=df,x='Year',y='EF',lowess=True,scatter_kws={'alpha':0.01,'s':5,'color':'blue'},line_kws={'color':'red'})\n",
    "fig.suptitle(\"Tornado Magnitude in EF Scale vs Year\")\n",
    "plt.xlabel('Year')\n",
    "plt.ylabel('Tornado Magnitude in EF Scale')\n",
    "plt.show()"
   ]
  },
  {
   "cell_type": "code",
   "execution_count": 25,
   "id": "16ed615f",
   "metadata": {
    "execution": {
     "iopub.execute_input": "2021-10-03T04:37:11.729860Z",
     "iopub.status.busy": "2021-10-03T04:37:11.729106Z",
     "iopub.status.idle": "2021-10-03T04:37:11.856343Z",
     "shell.execute_reply": "2021-10-03T04:37:11.855810Z",
     "shell.execute_reply.started": "2021-10-03T04:36:29.046187Z"
    },
    "papermill": {
     "duration": 0.214356,
     "end_time": "2021-10-03T04:37:11.856472",
     "exception": false,
     "start_time": "2021-10-03T04:37:11.642116",
     "status": "completed"
    },
    "tags": []
   },
   "outputs": [
    {
     "data": {
      "image/png": "[encoded data removed]",
      "text/plain": [
       "<Figure size 720x720 with 1 Axes>"
      ]
     },
     "metadata": {},
     "output_type": "display_data"
    }
   ],
   "source": [
    "fig = plt.figure(figsize=(10,10))\n",
    "ax = fig.add_axes([0,0,1,1])\n",
    "ax.axis('equal')\n",
    "Mag = ['EF0', 'EF1', 'EF2', 'EF3', 'EF4','EF5']\n",
    "ax.pie(df['EF'].value_counts(), labels = Mag,autopct='%1.2f%%')\n",
    "plt.show()"
   ]
  },
  {
   "cell_type": "code",
   "execution_count": 26,
   "id": "82b0147c",
   "metadata": {
    "execution": {
     "iopub.execute_input": "2021-10-03T04:37:11.982919Z",
     "iopub.status.busy": "2021-10-03T04:37:11.981872Z",
     "iopub.status.idle": "2021-10-03T04:37:13.769113Z",
     "shell.execute_reply": "2021-10-03T04:37:13.768575Z",
     "shell.execute_reply.started": "2021-10-03T04:17:20.850400Z"
    },
    "papermill": {
     "duration": 1.852455,
     "end_time": "2021-10-03T04:37:13.769279",
     "exception": false,
     "start_time": "2021-10-03T04:37:11.916824",
     "status": "completed"
    },
    "tags": []
   },
   "outputs": [
    {
     "name": "stderr",
     "output_type": "stream",
     "text": [
      "/opt/conda/lib/python3.7/site-packages/seaborn/_decorators.py:43: FutureWarning: Pass the following variables as keyword args: x, y. From version 0.12, the only valid positional argument will be `data`, and passing other arguments without an explicit keyword will result in an error or misinterpretation.\n",
      "  FutureWarning\n"
     ]
    },
    {
     "data": {
      "image/png": "[encoded data removed]",
      "text/plain": [
       "<Figure size 2880x720 with 1 Axes>"
      ]
     },
     "metadata": {
      "needs_background": "light"
     },
     "output_type": "display_data"
    }
   ],
   "source": [
    "plt.rcParams['figure.figsize']=(40, 10)\n",
    "plt.style.use('seaborn-dark-palette')\n",
    "sns.boxenplot(df['Year'],df['EF'])\n",
    "plt.xlabel('Year')\n",
    "plt.ylabel('Tornado Magnitude in EF Scale')\n",
    "plt.title('Tornado Magnitude in EF Scale vs Year',fontsize=20)\n",
    "plt.show()"
   ]
  },
  {
   "cell_type": "code",
   "execution_count": 27,
   "id": "387017b9",
   "metadata": {
    "execution": {
     "iopub.execute_input": "2021-10-03T04:37:13.920479Z",
     "iopub.status.busy": "2021-10-03T04:37:13.919799Z",
     "iopub.status.idle": "2021-10-03T04:37:15.179394Z",
     "shell.execute_reply": "2021-10-03T04:37:15.178791Z",
     "shell.execute_reply.started": "2021-10-03T04:17:22.918068Z"
    },
    "papermill": {
     "duration": 1.345966,
     "end_time": "2021-10-03T04:37:15.179535",
     "exception": false,
     "start_time": "2021-10-03T04:37:13.833569",
     "status": "completed"
    },
    "tags": []
   },
   "outputs": [
    {
     "name": "stderr",
     "output_type": "stream",
     "text": [
      "/opt/conda/lib/python3.7/site-packages/seaborn/_decorators.py:43: FutureWarning: Pass the following variables as keyword args: x, y. From version 0.12, the only valid positional argument will be `data`, and passing other arguments without an explicit keyword will result in an error or misinterpretation.\n",
      "  FutureWarning\n"
     ]
    },
    {
     "data": {
      "image/png": "[encoded data removed]",
      "text/plain": [
       "<Figure size 2160x720 with 1 Axes>"
      ]
     },
     "metadata": {
      "needs_background": "light"
     },
     "output_type": "display_data"
    }
   ],
   "source": [
    "plt.rcParams['figure.figsize']=(30, 10)\n",
    "plt.style.use('seaborn-dark-palette')\n",
    "sns.boxenplot(df['State'],df['EF'])\n",
    "plt.title('Tornado Magnitude in EF Scale vs State',fontsize=20)\n",
    "plt.xlabel('State')\n",
    "plt.ylabel('Tornado Magnitude in EF Scale')\n",
    "plt.show()"
   ]
  },
  {
   "cell_type": "code",
   "execution_count": 28,
   "id": "12e88dc0",
   "metadata": {
    "execution": {
     "iopub.execute_input": "2021-10-03T04:37:15.317845Z",
     "iopub.status.busy": "2021-10-03T04:37:15.316907Z",
     "iopub.status.idle": "2021-10-03T04:37:16.029762Z",
     "shell.execute_reply": "2021-10-03T04:37:16.029113Z",
     "shell.execute_reply.started": "2021-10-03T04:17:24.311752Z"
    },
    "papermill": {
     "duration": 0.78551,
     "end_time": "2021-10-03T04:37:16.029893",
     "exception": false,
     "start_time": "2021-10-03T04:37:15.244383",
     "status": "completed"
    },
    "tags": []
   },
   "outputs": [
    {
     "data": {
      "image/png": "[encoded data removed]",
      "text/plain": [
       "<Figure size 2160x720 with 1 Axes>"
      ]
     },
     "metadata": {
      "needs_background": "light"
     },
     "output_type": "display_data"
    }
   ],
   "source": [
    "plt.style.use('seaborn-dark-palette')\n",
    "plt.bar(df['State'].unique(),df['State'].value_counts(),color='r')\n",
    "plt.xlabel('States')\n",
    "plt.ylabel('Number of Tornadoes till date')\n",
    "plt.title('Number of Tornadoes in Each State')\n",
    "plt.show()"
   ]
  },
  {
   "cell_type": "code",
   "execution_count": 29,
   "id": "0f64ad00",
   "metadata": {
    "execution": {
     "iopub.execute_input": "2021-10-03T04:37:16.167486Z",
     "iopub.status.busy": "2021-10-03T04:37:16.166746Z",
     "iopub.status.idle": "2021-10-03T04:37:16.425366Z",
     "shell.execute_reply": "2021-10-03T04:37:16.424809Z",
     "shell.execute_reply.started": "2021-10-03T04:17:25.074235Z"
    },
    "papermill": {
     "duration": 0.330256,
     "end_time": "2021-10-03T04:37:16.425499",
     "exception": false,
     "start_time": "2021-10-03T04:37:16.095243",
     "status": "completed"
    },
    "tags": []
   },
   "outputs": [
    {
     "name": "stderr",
     "output_type": "stream",
     "text": [
      "/opt/conda/lib/python3.7/site-packages/seaborn/_decorators.py:43: FutureWarning: Pass the following variables as keyword args: x, y. From version 0.12, the only valid positional argument will be `data`, and passing other arguments without an explicit keyword will result in an error or misinterpretation.\n",
      "  FutureWarning\n"
     ]
    },
    {
     "data": {
      "image/png": "[encoded data removed]",
      "text/plain": [
       "<Figure size 720x1080 with 1 Axes>"
      ]
     },
     "metadata": {
      "needs_background": "light"
     },
     "output_type": "display_data"
    }
   ],
   "source": [
    "plt.rcParams['figure.figsize']=(10, 15)\n",
    "plt.style.use('seaborn-dark-palette')\n",
    "sns.boxenplot(df['EF'],df['Casualties'])\n",
    "plt.xlabel('Tornado Magnitude in EF Scale')\n",
    "plt.ylabel('Tornado Inflicted Casualties')\n",
    "plt.title('Magnitude-wise Tornado Inflicted Casualties',fontsize=20)\n",
    "plt.show()"
   ]
  },
  {
   "cell_type": "code",
   "execution_count": 30,
   "id": "fa10e38b",
   "metadata": {
    "execution": {
     "iopub.execute_input": "2021-10-03T04:37:16.565081Z",
     "iopub.status.busy": "2021-10-03T04:37:16.564414Z",
     "iopub.status.idle": "2021-10-03T04:37:16.802951Z",
     "shell.execute_reply": "2021-10-03T04:37:16.803409Z",
     "shell.execute_reply.started": "2021-10-03T04:17:25.365722Z"
    },
    "papermill": {
     "duration": 0.311538,
     "end_time": "2021-10-03T04:37:16.803581",
     "exception": false,
     "start_time": "2021-10-03T04:37:16.492043",
     "status": "completed"
    },
    "tags": []
   },
   "outputs": [
    {
     "name": "stderr",
     "output_type": "stream",
     "text": [
      "/opt/conda/lib/python3.7/site-packages/seaborn/_decorators.py:43: FutureWarning: Pass the following variables as keyword args: x, y. From version 0.12, the only valid positional argument will be `data`, and passing other arguments without an explicit keyword will result in an error or misinterpretation.\n",
      "  FutureWarning\n"
     ]
    },
    {
     "data": {
      "image/png": "[encoded data removed]",
      "text/plain": [
       "<Figure size 720x1080 with 1 Axes>"
      ]
     },
     "metadata": {
      "needs_background": "light"
     },
     "output_type": "display_data"
    }
   ],
   "source": [
    "plt.rcParams['figure.figsize']=(10, 15)\n",
    "plt.style.use('seaborn-dark-palette')\n",
    "sns.boxenplot(df['EF'],df['Crop Loss'])\n",
    "plt.xlabel('Tornado Magnitude in EF Scale')\n",
    "plt.ylabel('Tornado Inflicted Crop Losses Level')\n",
    "plt.title('Magnitude-wise Tornado Inflicted Crop Losses',fontsize=20)\n",
    "plt.show()"
   ]
  },
  {
   "cell_type": "code",
   "execution_count": 31,
   "id": "ec582300",
   "metadata": {
    "execution": {
     "iopub.execute_input": "2021-10-03T04:37:16.951391Z",
     "iopub.status.busy": "2021-10-03T04:37:16.950684Z",
     "iopub.status.idle": "2021-10-03T04:37:17.210350Z",
     "shell.execute_reply": "2021-10-03T04:37:17.210848Z",
     "shell.execute_reply.started": "2021-10-03T04:17:25.653315Z"
    },
    "papermill": {
     "duration": 0.336475,
     "end_time": "2021-10-03T04:37:17.211019",
     "exception": false,
     "start_time": "2021-10-03T04:37:16.874544",
     "status": "completed"
    },
    "tags": []
   },
   "outputs": [
    {
     "name": "stderr",
     "output_type": "stream",
     "text": [
      "/opt/conda/lib/python3.7/site-packages/seaborn/_decorators.py:43: FutureWarning: Pass the following variables as keyword args: x, y. From version 0.12, the only valid positional argument will be `data`, and passing other arguments without an explicit keyword will result in an error or misinterpretation.\n",
      "  FutureWarning\n"
     ]
    },
    {
     "data": {
      "image/png": "[encoded data removed]",
      "text/plain": [
       "<Figure size 720x1080 with 1 Axes>"
      ]
     },
     "metadata": {
      "needs_background": "light"
     },
     "output_type": "display_data"
    }
   ],
   "source": [
    "plt.rcParams['figure.figsize']=(10, 15)\n",
    "plt.style.use('seaborn-dark-palette')\n",
    "sns.boxenplot(df['EF'],df['Property Losses'])\n",
    "plt.xlabel('Tornado Magnitude in EF Scale')\n",
    "plt.ylabel('Tornado Inflicted Property Losses Level')\n",
    "plt.title('Magnitude-wise Tornado Inflicted Property Losses',fontsize=20)\n",
    "plt.show()"
   ]
  },
  {
   "cell_type": "code",
   "execution_count": 32,
   "id": "ac657df3",
   "metadata": {
    "execution": {
     "iopub.execute_input": "2021-10-03T04:37:17.352667Z",
     "iopub.status.busy": "2021-10-03T04:37:17.352051Z",
     "iopub.status.idle": "2021-10-03T04:37:17.604743Z",
     "shell.execute_reply": "2021-10-03T04:37:17.605208Z",
     "shell.execute_reply.started": "2021-10-03T04:17:25.950929Z"
    },
    "papermill": {
     "duration": 0.325246,
     "end_time": "2021-10-03T04:37:17.605392",
     "exception": false,
     "start_time": "2021-10-03T04:37:17.280146",
     "status": "completed"
    },
    "tags": []
   },
   "outputs": [
    {
     "name": "stderr",
     "output_type": "stream",
     "text": [
      "/opt/conda/lib/python3.7/site-packages/seaborn/_decorators.py:43: FutureWarning: Pass the following variables as keyword args: x, y. From version 0.12, the only valid positional argument will be `data`, and passing other arguments without an explicit keyword will result in an error or misinterpretation.\n",
      "  FutureWarning\n"
     ]
    },
    {
     "data": {
      "image/png": "[encoded data removed]",
      "text/plain": [
       "<Figure size 720x1080 with 1 Axes>"
      ]
     },
     "metadata": {
      "needs_background": "light"
     },
     "output_type": "display_data"
    }
   ],
   "source": [
    "plt.rcParams['figure.figsize']=(10, 15)\n",
    "plt.style.use('seaborn-dark-palette')\n",
    "sns.boxenplot(df['EF'],df['len'])\n",
    "plt.xlabel('Tornado Magnitude in EF Scale')\n",
    "plt.ylabel('Length covered by the Tornado in miles')\n",
    "plt.title('Magnitude-wise Distance Travelled by Tornado in miles',fontsize=20)\n",
    "plt.show()"
   ]
  },
  {
   "cell_type": "code",
   "execution_count": 33,
   "id": "3ab4c648",
   "metadata": {
    "execution": {
     "iopub.execute_input": "2021-10-03T04:37:17.752041Z",
     "iopub.status.busy": "2021-10-03T04:37:17.751451Z",
     "iopub.status.idle": "2021-10-03T04:37:18.000152Z",
     "shell.execute_reply": "2021-10-03T04:37:18.000698Z",
     "shell.execute_reply.started": "2021-10-03T04:17:26.243089Z"
    },
    "papermill": {
     "duration": 0.322731,
     "end_time": "2021-10-03T04:37:18.000868",
     "exception": false,
     "start_time": "2021-10-03T04:37:17.678137",
     "status": "completed"
    },
    "tags": []
   },
   "outputs": [
    {
     "name": "stderr",
     "output_type": "stream",
     "text": [
      "/opt/conda/lib/python3.7/site-packages/seaborn/_decorators.py:43: FutureWarning: Pass the following variables as keyword args: x, y. From version 0.12, the only valid positional argument will be `data`, and passing other arguments without an explicit keyword will result in an error or misinterpretation.\n",
      "  FutureWarning\n"
     ]
    },
    {
     "data": {
      "image/png": "[encoded data removed]",
      "text/plain": [
       "<Figure size 720x1080 with 1 Axes>"
      ]
     },
     "metadata": {
      "needs_background": "light"
     },
     "output_type": "display_data"
    }
   ],
   "source": [
    "plt.rcParams['figure.figsize']=(10, 15)\n",
    "plt.style.use('seaborn-dark-palette')\n",
    "sns.boxenplot(df['EF'],df['wid'])\n",
    "plt.xlabel('Tornado Magnitude in EF Scale')\n",
    "plt.ylabel('Width the Tornado in yards')\n",
    "plt.title('Magnitude-wise width of the Tornado in yards',fontsize=20)\n",
    "plt.show()"
   ]
  },
  {
   "cell_type": "code",
   "execution_count": 34,
   "id": "e713c7df",
   "metadata": {
    "execution": {
     "iopub.execute_input": "2021-10-03T04:37:18.149747Z",
     "iopub.status.busy": "2021-10-03T04:37:18.149122Z",
     "iopub.status.idle": "2021-10-03T04:37:18.383653Z",
     "shell.execute_reply": "2021-10-03T04:37:18.383147Z",
     "shell.execute_reply.started": "2021-10-03T04:17:26.521600Z"
    },
    "papermill": {
     "duration": 0.309907,
     "end_time": "2021-10-03T04:37:18.383787",
     "exception": false,
     "start_time": "2021-10-03T04:37:18.073880",
     "status": "completed"
    },
    "tags": []
   },
   "outputs": [
    {
     "name": "stderr",
     "output_type": "stream",
     "text": [
      "/opt/conda/lib/python3.7/site-packages/seaborn/_decorators.py:43: FutureWarning: Pass the following variables as keyword args: x, y. From version 0.12, the only valid positional argument will be `data`, and passing other arguments without an explicit keyword will result in an error or misinterpretation.\n",
      "  FutureWarning\n"
     ]
    },
    {
     "data": {
      "image/png": "[encoded data removed]",
      "text/plain": [
       "<Figure size 720x1080 with 1 Axes>"
      ]
     },
     "metadata": {
      "needs_background": "light"
     },
     "output_type": "display_data"
    }
   ],
   "source": [
    "plt.rcParams['figure.figsize']=(10, 15)\n",
    "plt.style.use('seaborn-dark-palette')\n",
    "sns.boxenplot(df['EF'],df['hour'])\n",
    "plt.xlabel('Tornado Magnitude in EF Scale')\n",
    "plt.ylabel('Hourwise Tornado Occurance')\n",
    "plt.title('Hourwise Tornado Magnitude',fontsize=20)\n",
    "plt.show()"
   ]
  },
  {
   "cell_type": "code",
   "execution_count": 35,
   "id": "7c0ddcec",
   "metadata": {
    "execution": {
     "iopub.execute_input": "2021-10-03T04:37:18.538247Z",
     "iopub.status.busy": "2021-10-03T04:37:18.537571Z",
     "iopub.status.idle": "2021-10-03T04:37:18.576729Z",
     "shell.execute_reply": "2021-10-03T04:37:18.576142Z",
     "shell.execute_reply.started": "2021-10-03T04:17:26.784472Z"
    },
    "papermill": {
     "duration": 0.118539,
     "end_time": "2021-10-03T04:37:18.576869",
     "exception": false,
     "start_time": "2021-10-03T04:37:18.458330",
     "status": "completed"
    },
    "tags": []
   },
   "outputs": [],
   "source": [
    "df1=df.copy()\n",
    "df1= pd.get_dummies(df1, columns=['State'])"
   ]
  },
  {
   "cell_type": "code",
   "execution_count": 36,
   "id": "dc12efeb",
   "metadata": {
    "execution": {
     "iopub.execute_input": "2021-10-03T04:37:18.738782Z",
     "iopub.status.busy": "2021-10-03T04:37:18.737624Z",
     "iopub.status.idle": "2021-10-03T04:37:18.868435Z",
     "shell.execute_reply": "2021-10-03T04:37:18.867756Z",
     "shell.execute_reply.started": "2021-10-03T04:17:26.842202Z"
    },
    "papermill": {
     "duration": 0.215117,
     "end_time": "2021-10-03T04:37:18.868591",
     "exception": false,
     "start_time": "2021-10-03T04:37:18.653474",
     "status": "completed"
    },
    "tags": []
   },
   "outputs": [],
   "source": [
    "y1=df1['EF']\n",
    "X1=df1.drop(['EF'],axis=1)\n",
    "X1_train,X1_test,y1_train,y1_test=train_test_split(X1,y1,train_size=0.7,shuffle=True,random_state=1)\n",
    "scaler=StandardScaler()\n",
    "scaler.fit(X1_train,X1_test)\n",
    "X1_train_scaled=pd.DataFrame(scaler.transform(X1_train), index=X1_train.index, columns=X1_train.columns)\n",
    "X1_test_scaled=pd.DataFrame(scaler.transform(X1_test), index=X1_test.index, columns=X1_test.columns)"
   ]
  },
  {
   "cell_type": "code",
   "execution_count": 37,
   "id": "37dd25e1",
   "metadata": {
    "execution": {
     "iopub.execute_input": "2021-10-03T04:37:19.031012Z",
     "iopub.status.busy": "2021-10-03T04:37:19.030056Z",
     "iopub.status.idle": "2021-10-03T04:37:31.343575Z",
     "shell.execute_reply": "2021-10-03T04:37:31.352905Z",
     "shell.execute_reply.started": "2021-10-03T04:17:27.038076Z"
    },
    "papermill": {
     "duration": 12.406913,
     "end_time": "2021-10-03T04:37:31.353247",
     "exception": false,
     "start_time": "2021-10-03T04:37:18.946334",
     "status": "completed"
    },
    "tags": []
   },
   "outputs": [
    {
     "name": "stdout",
     "output_type": "stream",
     "text": [
      "[[7437  838   50    0    0    0]\n",
      " [1424 4415  248    2    1    0]\n",
      " [ 176 1934  593   24    2    0]\n",
      " [   8  336  218  122    8    0]\n",
      " [   3   20   38   91   28    3]\n",
      " [   0    0    1    7    8    0]]\n",
      "              precision    recall  f1-score   support\n",
      "\n",
      "           0       0.82      0.89      0.86      8325\n",
      "           1       0.59      0.72      0.65      6090\n",
      "           2       0.52      0.22      0.31      2729\n",
      "           3       0.50      0.18      0.26       692\n",
      "           4       0.60      0.15      0.24       183\n",
      "           5       0.00      0.00      0.00        16\n",
      "\n",
      "    accuracy                           0.70     18035\n",
      "   macro avg       0.50      0.36      0.39     18035\n",
      "weighted avg       0.68      0.70      0.67     18035\n",
      "\n",
      "Train Score:  0.7017752323011478\n",
      "Test Score:  0.698364291655115\n",
      "Accuracy acheived by Logistic Regression: 69.8364291655115\n"
     ]
    }
   ],
   "source": [
    "LogReg = LogisticRegression(solver='liblinear')\n",
    "LogReg.fit(X1_train_scaled, y1_train)\n",
    "y1_pred_logreg = LogReg.predict(X1_test_scaled)\n",
    "confusion_matrix1_s_lr = confusion_matrix(y1_test, y1_pred_logreg)\n",
    "print(confusion_matrix1_s_lr)\n",
    "print(classification_report(y1_test, y1_pred_logreg))\n",
    "print('Train Score: ', LogReg.score(X1_train_scaled, y1_train))  \n",
    "print('Test Score: ', LogReg.score(X1_test_scaled, y1_test))\n",
    "logreg_accuracy_s_lr = accuracy_score(y1_test,y1_pred_logreg)*100\n",
    "print('Accuracy acheived by Logistic Regression:',logreg_accuracy_s_lr)"
   ]
  },
  {
   "cell_type": "code",
   "execution_count": 38,
   "id": "5a16953a",
   "metadata": {
    "execution": {
     "iopub.execute_input": "2021-10-03T04:37:31.566473Z",
     "iopub.status.busy": "2021-10-03T04:37:31.565754Z",
     "iopub.status.idle": "2021-10-03T04:43:39.786398Z",
     "shell.execute_reply": "2021-10-03T04:43:39.787431Z",
     "shell.execute_reply.started": "2021-10-03T04:17:46.258806Z"
    },
    "papermill": {
     "duration": 368.305777,
     "end_time": "2021-10-03T04:43:39.787935",
     "exception": false,
     "start_time": "2021-10-03T04:37:31.482158",
     "status": "completed"
    },
    "tags": []
   },
   "outputs": [
    {
     "name": "stdout",
     "output_type": "stream",
     "text": [
      "Train Score:  0.7209296798878301\n",
      "Test Score:  0.7006376490158026\n",
      "[[7403  893   27    2    0    0]\n",
      " [1220 4576  289    5    0    0]\n",
      " [ 178 1963  558   30    0    0]\n",
      " [   8  321  276   84    2    1]\n",
      " [   3   31   61   70   15    3]\n",
      " [   0    0    3    3   10    0]]\n",
      "              precision    recall  f1-score   support\n",
      "\n",
      "           0       0.84      0.89      0.86      8325\n",
      "           1       0.59      0.75      0.66      6090\n",
      "           2       0.46      0.20      0.28      2729\n",
      "           3       0.43      0.12      0.19       692\n",
      "           4       0.56      0.08      0.14       183\n",
      "           5       0.00      0.00      0.00        16\n",
      "\n",
      "    accuracy                           0.70     18035\n",
      "   macro avg       0.48      0.34      0.36     18035\n",
      "weighted avg       0.68      0.70      0.67     18035\n",
      "\n",
      "Accuracy acheived by KNN Neighbour Classifier 70.06376490158026\n"
     ]
    }
   ],
   "source": [
    "clf3 = KNeighborsClassifier(n_neighbors=25)\n",
    "clf3.fit(X1_train_scaled, y1_train)\n",
    "knc_y1_pred = clf3.predict(X1_test_scaled)\n",
    "print('Train Score: ', clf3.score(X1_train_scaled, y1_train))  \n",
    "print('Test Score: ', clf3.score(X1_test_scaled, y1_test))\n",
    "confusion_matrix1_s_knn = confusion_matrix(y1_test, knc_y1_pred)\n",
    "print(confusion_matrix1_s_knn)\n",
    "print(classification_report(y1_test, knc_y1_pred))\n",
    "print(\"Accuracy acheived by KNN Neighbour Classifier\",(accuracy_score(y1_test,knc_y1_pred)*100))"
   ]
  },
  {
   "cell_type": "code",
   "execution_count": 39,
   "id": "045d25c3",
   "metadata": {
    "execution": {
     "iopub.execute_input": "2021-10-03T04:43:39.950594Z",
     "iopub.status.busy": "2021-10-03T04:43:39.949839Z",
     "iopub.status.idle": "2021-10-03T04:43:40.671498Z",
     "shell.execute_reply": "2021-10-03T04:43:40.672505Z",
     "shell.execute_reply.started": "2021-10-03T04:24:55.469078Z"
    },
    "papermill": {
     "duration": 0.807635,
     "end_time": "2021-10-03T04:43:40.672771",
     "exception": false,
     "start_time": "2021-10-03T04:43:39.865136",
     "status": "completed"
    },
    "tags": []
   },
   "outputs": [
    {
     "name": "stdout",
     "output_type": "stream",
     "text": [
      "Train Score:  0.999952470353383\n",
      "Test Score:  0.03088439146104796\n",
      "[[7727  530   61    7    0    0]\n",
      " [ 576 4260 1211   35    7    1]\n",
      " [  72 1260 1336   49    6    6]\n",
      " [   2   23   33  626    7    1]\n",
      " [   1    6   11    6  158    1]\n",
      " [   0    2    4    0    1    9]]\n",
      "              precision    recall  f1-score   support\n",
      "\n",
      "           0       0.92      0.93      0.93      8325\n",
      "           1       0.70      0.70      0.70      6090\n",
      "           2       0.50      0.49      0.50      2729\n",
      "           3       0.87      0.90      0.88       692\n",
      "           4       0.88      0.86      0.87       183\n",
      "           5       0.50      0.56      0.53        16\n",
      "\n",
      "    accuracy                           0.78     18035\n",
      "   macro avg       0.73      0.74      0.73     18035\n",
      "weighted avg       0.78      0.78      0.78     18035\n",
      "\n",
      "Accuracy acheived by decision tree classifier: 78.27003049625728\n"
     ]
    }
   ],
   "source": [
    "dtc = DecisionTreeClassifier()\n",
    "dtc = dtc.fit(X1_train_scaled, y1_train)\n",
    "y1_pred_dtc_ws = dtc.predict(X1_test_scaled)\n",
    "print('Train Score: ', dtc.score(X1_train_scaled, y1_train))  \n",
    "print('Test Score: ', dtc.score(X1_test, y1_test))\n",
    "confusion_matrix1_s_dtc = confusion_matrix(y1_test, y1_pred_dtc_ws)\n",
    "print(confusion_matrix1_s_dtc)\n",
    "print(classification_report(y1_test, y1_pred_dtc_ws))\n",
    "dtc_accuracy = accuracy_score(y1_test,y1_pred_dtc_ws)*100\n",
    "print(\"Accuracy acheived by decision tree classifier:\",dtc_accuracy)"
   ]
  },
  {
   "cell_type": "code",
   "execution_count": 40,
   "id": "8d9eac39",
   "metadata": {
    "execution": {
     "iopub.execute_input": "2021-10-03T04:43:40.836240Z",
     "iopub.status.busy": "2021-10-03T04:43:40.834860Z",
     "iopub.status.idle": "2021-10-03T04:43:52.512720Z",
     "shell.execute_reply": "2021-10-03T04:43:52.512095Z",
     "shell.execute_reply.started": "2021-10-03T04:24:56.279887Z"
    },
    "papermill": {
     "duration": 11.763311,
     "end_time": "2021-10-03T04:43:52.512863",
     "exception": false,
     "start_time": "2021-10-03T04:43:40.749552",
     "status": "completed"
    },
    "tags": []
   },
   "outputs": [
    {
     "name": "stdout",
     "output_type": "stream",
     "text": [
      "Confusion Matrix:\n",
      "[[7989  332    4    0    0    0]\n",
      " [ 525 5089  472    4    0    0]\n",
      " [  43 1476 1188   22    0    0]\n",
      " [   1   36   42  611    2    0]\n",
      " [   1    6    9   59  108    0]\n",
      " [   0    0   12    0    2    2]]\n",
      "Classification Report:\n",
      "              precision    recall  f1-score   support\n",
      "\n",
      "           0       0.93      0.96      0.95      8325\n",
      "           1       0.73      0.84      0.78      6090\n",
      "           2       0.69      0.44      0.53      2729\n",
      "           3       0.88      0.88      0.88       692\n",
      "           4       0.96      0.59      0.73       183\n",
      "           5       1.00      0.12      0.22        16\n",
      "\n",
      "    accuracy                           0.83     18035\n",
      "   macro avg       0.87      0.64      0.68     18035\n",
      "weighted avg       0.83      0.83      0.82     18035\n",
      "\n",
      "Accuracy by random forest classifier: 83.09952869420572\n"
     ]
    }
   ],
   "source": [
    "rfc=RandomForestClassifier(n_estimators=150,max_features=5)\n",
    "rfc.fit(X1_train_scaled,y1_train)\n",
    "y1_pred_rfc=rfc.predict(X1_test_scaled)\n",
    "rfc_result1 = confusion_matrix(y1_test, y1_pred_rfc)\n",
    "print(\"Confusion Matrix:\")\n",
    "print(rfc_result1)\n",
    "result_rfc1 = classification_report(y1_test, y1_pred_rfc)\n",
    "print(\"Classification Report:\",)\n",
    "print (result_rfc1)\n",
    "rfc_accuracy1 = accuracy_score(y1_test,y1_pred_rfc)\n",
    "print(\"Accuracy by random forest classifier:\",rfc_accuracy1*100)"
   ]
  },
  {
   "cell_type": "code",
   "execution_count": 41,
   "id": "92613b0a",
   "metadata": {
    "execution": {
     "iopub.execute_input": "2021-10-03T04:43:52.694868Z",
     "iopub.status.busy": "2021-10-03T04:43:52.692519Z",
     "iopub.status.idle": "2021-10-03T04:43:53.103608Z",
     "shell.execute_reply": "2021-10-03T04:43:53.102955Z",
     "shell.execute_reply.started": "2021-10-03T04:25:09.823762Z"
    },
    "papermill": {
     "duration": 0.51375,
     "end_time": "2021-10-03T04:43:53.103749",
     "exception": false,
     "start_time": "2021-10-03T04:43:52.589999",
     "status": "completed"
    },
    "tags": []
   },
   "outputs": [
    {
     "data": {
      "image/png": "[encoded data removed]",
      "text/plain": [
       "<Figure size 720x1080 with 2 Axes>"
      ]
     },
     "metadata": {
      "needs_background": "light"
     },
     "output_type": "display_data"
    }
   ],
   "source": [
    "sns.heatmap(rfc_result1,annot=True,fmt=\"d\",cmap='coolwarm')\n",
    "plt.title('Prediction Matrix:')\n",
    "plt.ylabel('Actual Magnitute in EF Scale')\n",
    "plt.xlabel('Predicted Magnitute in EF Scale')\n",
    "plt.show()"
   ]
  },
  {
   "cell_type": "code",
   "execution_count": 42,
   "id": "e97b9023",
   "metadata": {
    "execution": {
     "iopub.execute_input": "2021-10-03T04:43:53.292533Z",
     "iopub.status.busy": "2021-10-03T04:43:53.291456Z",
     "iopub.status.idle": "2021-10-03T04:43:54.723456Z",
     "shell.execute_reply": "2021-10-03T04:43:54.722824Z",
     "shell.execute_reply.started": "2021-10-03T04:25:10.330897Z"
    },
    "papermill": {
     "duration": 1.539544,
     "end_time": "2021-10-03T04:43:54.723606",
     "exception": false,
     "start_time": "2021-10-03T04:43:53.184062",
     "status": "completed"
    },
    "tags": []
   },
   "outputs": [
    {
     "data": {
      "text/plain": [
       "<matplotlib.legend.Legend at 0x7f5fb3118090>"
      ]
     },
     "execution_count": 42,
     "metadata": {},
     "output_type": "execute_result"
    },
    {
     "data": {
      "image/png": "[encoded data removed]",
      "text/plain": [
       "<Figure size 1080x360 with 1 Axes>"
      ]
     },
     "metadata": {
      "needs_background": "light"
     },
     "output_type": "display_data"
    }
   ],
   "source": [
    "plt.figure(figsize=(15,5))\n",
    "plt.scatter(X1_test['Year'],y1_test, color='blue', label='Actual')\n",
    "plt.scatter(X1_test['Year'],y1_pred_rfc, color='red', label='Predicted')\n",
    "plt.xlabel('Year')\n",
    "plt.ylabel('Tornado Magnitude in EF Scale')\n",
    "plt.title('Tornado Magnitude in EF Scale vs Year')\n",
    "plt.legend()"
   ]
  },
  {
   "cell_type": "code",
   "execution_count": 43,
   "id": "f4d925a1",
   "metadata": {
    "execution": {
     "iopub.execute_input": "2021-10-03T04:43:54.911543Z",
     "iopub.status.busy": "2021-10-03T04:43:54.905682Z",
     "iopub.status.idle": "2021-10-03T04:43:55.862326Z",
     "shell.execute_reply": "2021-10-03T04:43:55.861774Z",
     "shell.execute_reply.started": "2021-10-03T04:25:11.876613Z"
    },
    "papermill": {
     "duration": 1.059317,
     "end_time": "2021-10-03T04:43:55.862473",
     "exception": false,
     "start_time": "2021-10-03T04:43:54.803156",
     "status": "completed"
    },
    "tags": []
   },
   "outputs": [
    {
     "data": {
      "image/png": "[encoded data removed]",
      "text/plain": [
       "<Figure size 1080x360 with 1 Axes>"
      ]
     },
     "metadata": {
      "needs_background": "light"
     },
     "output_type": "display_data"
    }
   ],
   "source": [
    "plt.figure(figsize=(15,5))\n",
    "plt.scatter(X1_test['Casualties'],y1_test, color='blue', label='Actual')\n",
    "plt.scatter(X1_test['Casualties'],y1_pred_rfc, color='red', label='Predicted')\n",
    "plt.xlabel('Casualties')\n",
    "plt.ylabel('Tornado Magnitude in EF Scale')\n",
    "plt.title('Tornado Magnitude in EF Scale vs Casualties Inflicted')\n",
    "plt.legend()\n",
    "plt.show()"
   ]
  },
  {
   "cell_type": "code",
   "execution_count": 44,
   "id": "a74807c9",
   "metadata": {
    "execution": {
     "iopub.execute_input": "2021-10-03T04:43:56.046973Z",
     "iopub.status.busy": "2021-10-03T04:43:56.041068Z",
     "iopub.status.idle": "2021-10-03T04:43:56.761409Z",
     "shell.execute_reply": "2021-10-03T04:43:56.760829Z",
     "shell.execute_reply.started": "2021-10-03T04:25:12.917324Z"
    },
    "papermill": {
     "duration": 0.81717,
     "end_time": "2021-10-03T04:43:56.761559",
     "exception": false,
     "start_time": "2021-10-03T04:43:55.944389",
     "status": "completed"
    },
    "tags": []
   },
   "outputs": [
    {
     "data": {
      "image/png": "[encoded data removed]",
      "text/plain": [
       "<Figure size 1080x360 with 1 Axes>"
      ]
     },
     "metadata": {
      "needs_background": "light"
     },
     "output_type": "display_data"
    }
   ],
   "source": [
    "plt.figure(figsize=(15,5))\n",
    "plt.scatter(X1_test['Property Losses'],y1_test, color='blue', label='Actual')\n",
    "plt.scatter(X1_test['Property Losses'],y1_pred_rfc, color='red', label='Predicted')\n",
    "plt.xlabel('Property Losses Level')\n",
    "plt.ylabel('Tornado Magnitude in EF Scale')\n",
    "plt.title('Tornado Magnitude in EF Scale vs Property Losses Inflicted')\n",
    "plt.legend()\n",
    "plt.show()"
   ]
  },
  {
   "cell_type": "code",
   "execution_count": 45,
   "id": "f1afffed",
   "metadata": {
    "execution": {
     "iopub.execute_input": "2021-10-03T04:43:57.173423Z",
     "iopub.status.busy": "2021-10-03T04:43:57.172750Z",
     "iopub.status.idle": "2021-10-03T04:43:57.700330Z",
     "shell.execute_reply": "2021-10-03T04:43:57.699680Z",
     "shell.execute_reply.started": "2021-10-03T04:25:13.677130Z"
    },
    "papermill": {
     "duration": 0.855851,
     "end_time": "2021-10-03T04:43:57.700469",
     "exception": false,
     "start_time": "2021-10-03T04:43:56.844618",
     "status": "completed"
    },
    "tags": []
   },
   "outputs": [
    {
     "data": {
      "image/png": "[encoded data removed]",
      "text/plain": [
       "<Figure size 1080x360 with 1 Axes>"
      ]
     },
     "metadata": {
      "needs_background": "light"
     },
     "output_type": "display_data"
    }
   ],
   "source": [
    "plt.figure(figsize=(15,5))\n",
    "plt.scatter(X1_test['Crop Loss'],y1_test, color='blue', label='Actual')\n",
    "plt.scatter(X1_test['Crop Loss'],y1_pred_rfc, color='red', label='Predicted')\n",
    "plt.xlabel('Crop Losses Level')\n",
    "plt.ylabel('Tornado Magnitude in EF Scale')\n",
    "plt.title('Tornado Magnitude in EF Scale vs Crop Losses Inflicted')\n",
    "plt.legend()\n",
    "plt.show()"
   ]
  },
  {
   "cell_type": "code",
   "execution_count": null,
   "id": "a08e9a17",
   "metadata": {
    "papermill": {
     "duration": 0.084302,
     "end_time": "2021-10-03T04:43:57.868129",
     "exception": false,
     "start_time": "2021-10-03T04:43:57.783827",
     "status": "completed"
    },
    "tags": []
   },
   "outputs": [],
   "source": []
  }
 ],
 "metadata": {
  "kernelspec": {
   "display_name": "Python 3",
   "language": "python",
   "name": "python3"
  },
  "language_info": {
   "codemirror_mode": {
    "name": "ipython",
    "version": 3
   },
   "file_extension": ".py",
   "mimetype": "text/x-python",
   "name": "python",
   "nbconvert_exporter": "python",
   "pygments_lexer": "ipython3",
   "version": "3.7.10"
  },
  "papermill": {
   "default_parameters": {},
   "duration": 429.754619,
   "end_time": "2021-10-03T04:43:58.763678",
   "environment_variables": {},
   "exception": null,
   "input_path": "__notebook__.ipynb",
   "output_path": "__notebook__.ipynb",
   "parameters": {},
   "start_time": "2021-10-03T04:36:49.009059",
   "version": "2.3.3"
  }
 },
 "nbformat": 4,
 "nbformat_minor": 5
}
