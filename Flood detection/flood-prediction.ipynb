{
 "cells": [
  {
   "cell_type": "markdown",
   "id": "c6ffe180",
   "metadata": {
    "papermill": {
     "duration": 0.009925,
     "end_time": "2024-07-18T09:25:37.370262",
     "exception": false,
     "start_time": "2024-07-18T09:25:37.360337",
     "status": "completed"
    },
    "tags": []
   },
   "source": [
    "# Flood Prediction using Support Vector Regressor\n",
    "The dataset contains multiple features relevant to flood prediction, including environmental factors and socio-economic indicators. The Dataset has 50000 rows and 21 columns.\n",
    "Link to Dataset is [Flood Prediction Dataset ](https://www.kaggle.com/datasets/naiyakhalid/flood-prediction-dataset)\n",
    "\n",
    "# Techniques\n",
    "### **1**. **Support Vector Regressor**\n",
    "### **2**. **Decision Tree  Regressor**\n",
    "\n",
    "\n"
   ]
  },
  {
   "cell_type": "markdown",
   "id": "a7025731",
   "metadata": {
    "papermill": {
     "duration": 0.009601,
     "end_time": "2024-07-18T09:25:37.389980",
     "exception": false,
     "start_time": "2024-07-18T09:25:37.380379",
     "status": "completed"
    },
    "tags": []
   },
   "source": [
    "## Step 1.Loading Dataset and Importing Libraries"
   ]
  },
  {
   "cell_type": "code",
   "execution_count": 1,
   "id": "45cbe343",
   "metadata": {
    "execution": {
     "iopub.execute_input": "2024-07-18T09:25:37.411215Z",
     "iopub.status.busy": "2024-07-18T09:25:37.410796Z",
     "iopub.status.idle": "2024-07-18T09:25:39.802980Z",
     "shell.execute_reply": "2024-07-18T09:25:39.801806Z"
    },
    "papermill": {
     "duration": 2.406073,
     "end_time": "2024-07-18T09:25:39.805914",
     "exception": false,
     "start_time": "2024-07-18T09:25:37.399841",
     "status": "completed"
    },
    "tags": []
   },
   "outputs": [],
   "source": [
    "import numpy as np \n",
    "import matplotlib.pyplot as plt\n",
    "import seaborn as sns\n",
    "import pandas as pd\n"
   ]
  },
  {
   "cell_type": "markdown",
   "id": "d7157fb9",
   "metadata": {
    "papermill": {
     "duration": 0.009578,
     "end_time": "2024-07-18T09:25:39.825136",
     "exception": false,
     "start_time": "2024-07-18T09:25:39.815558",
     "status": "completed"
    },
    "tags": []
   },
   "source": [
    "### loading dataset"
   ]
  },
  {
   "cell_type": "code",
   "execution_count": 2,
   "id": "b328cb26",
   "metadata": {
    "collapsed": true,
    "execution": {
     "iopub.execute_input": "2024-07-18T09:25:39.846131Z",
     "iopub.status.busy": "2024-07-18T09:25:39.845607Z",
     "iopub.status.idle": "2024-07-18T09:25:40.033334Z",
     "shell.execute_reply": "2024-07-18T09:25:40.032068Z"
    },
    "jupyter": {
     "outputs_hidden": true
    },
    "papermill": {
     "duration": 0.201427,
     "end_time": "2024-07-18T09:25:40.036202",
     "exception": false,
     "start_time": "2024-07-18T09:25:39.834775",
     "status": "completed"
    },
    "tags": []
   },
   "outputs": [
    {
     "data": {
      "text/html": [
       "<div>\n",
       "<style scoped>\n",
       "    .dataframe tbody tr th:only-of-type {\n",
       "        vertical-align: middle;\n",
       "    }\n",
       "\n",
       "    .dataframe tbody tr th {\n",
       "        vertical-align: top;\n",
       "    }\n",
       "\n",
       "    .dataframe thead th {\n",
       "        text-align: right;\n",
       "    }\n",
       "</style>\n",
       "<table border=\"1\" class=\"dataframe\">\n",
       "  <thead>\n",
       "    <tr style=\"text-align: right;\">\n",
       "      <th></th>\n",
       "      <th>MonsoonIntensity</th>\n",
       "      <th>TopographyDrainage</th>\n",
       "      <th>RiverManagement</th>\n",
       "      <th>Deforestation</th>\n",
       "      <th>Urbanization</th>\n",
       "      <th>ClimateChange</th>\n",
       "      <th>DamsQuality</th>\n",
       "      <th>Siltation</th>\n",
       "      <th>AgriculturalPractices</th>\n",
       "      <th>Encroachments</th>\n",
       "      <th>...</th>\n",
       "      <th>DrainageSystems</th>\n",
       "      <th>CoastalVulnerability</th>\n",
       "      <th>Landslides</th>\n",
       "      <th>Watersheds</th>\n",
       "      <th>DeterioratingInfrastructure</th>\n",
       "      <th>PopulationScore</th>\n",
       "      <th>WetlandLoss</th>\n",
       "      <th>InadequatePlanning</th>\n",
       "      <th>PoliticalFactors</th>\n",
       "      <th>FloodProbability</th>\n",
       "    </tr>\n",
       "  </thead>\n",
       "  <tbody>\n",
       "    <tr>\n",
       "      <th>0</th>\n",
       "      <td>3</td>\n",
       "      <td>8</td>\n",
       "      <td>6</td>\n",
       "      <td>6</td>\n",
       "      <td>4</td>\n",
       "      <td>4</td>\n",
       "      <td>6</td>\n",
       "      <td>2</td>\n",
       "      <td>3</td>\n",
       "      <td>2</td>\n",
       "      <td>...</td>\n",
       "      <td>10</td>\n",
       "      <td>7</td>\n",
       "      <td>4</td>\n",
       "      <td>2</td>\n",
       "      <td>3</td>\n",
       "      <td>4</td>\n",
       "      <td>3</td>\n",
       "      <td>2</td>\n",
       "      <td>6</td>\n",
       "      <td>0.450</td>\n",
       "    </tr>\n",
       "    <tr>\n",
       "      <th>1</th>\n",
       "      <td>8</td>\n",
       "      <td>4</td>\n",
       "      <td>5</td>\n",
       "      <td>7</td>\n",
       "      <td>7</td>\n",
       "      <td>9</td>\n",
       "      <td>1</td>\n",
       "      <td>5</td>\n",
       "      <td>5</td>\n",
       "      <td>4</td>\n",
       "      <td>...</td>\n",
       "      <td>9</td>\n",
       "      <td>2</td>\n",
       "      <td>6</td>\n",
       "      <td>2</td>\n",
       "      <td>1</td>\n",
       "      <td>1</td>\n",
       "      <td>9</td>\n",
       "      <td>1</td>\n",
       "      <td>3</td>\n",
       "      <td>0.475</td>\n",
       "    </tr>\n",
       "    <tr>\n",
       "      <th>2</th>\n",
       "      <td>3</td>\n",
       "      <td>10</td>\n",
       "      <td>4</td>\n",
       "      <td>1</td>\n",
       "      <td>7</td>\n",
       "      <td>5</td>\n",
       "      <td>4</td>\n",
       "      <td>7</td>\n",
       "      <td>4</td>\n",
       "      <td>9</td>\n",
       "      <td>...</td>\n",
       "      <td>7</td>\n",
       "      <td>4</td>\n",
       "      <td>4</td>\n",
       "      <td>8</td>\n",
       "      <td>6</td>\n",
       "      <td>1</td>\n",
       "      <td>8</td>\n",
       "      <td>3</td>\n",
       "      <td>6</td>\n",
       "      <td>0.515</td>\n",
       "    </tr>\n",
       "    <tr>\n",
       "      <th>3</th>\n",
       "      <td>4</td>\n",
       "      <td>4</td>\n",
       "      <td>2</td>\n",
       "      <td>7</td>\n",
       "      <td>3</td>\n",
       "      <td>4</td>\n",
       "      <td>1</td>\n",
       "      <td>4</td>\n",
       "      <td>6</td>\n",
       "      <td>4</td>\n",
       "      <td>...</td>\n",
       "      <td>4</td>\n",
       "      <td>2</td>\n",
       "      <td>6</td>\n",
       "      <td>6</td>\n",
       "      <td>8</td>\n",
       "      <td>8</td>\n",
       "      <td>6</td>\n",
       "      <td>6</td>\n",
       "      <td>10</td>\n",
       "      <td>0.520</td>\n",
       "    </tr>\n",
       "    <tr>\n",
       "      <th>4</th>\n",
       "      <td>3</td>\n",
       "      <td>7</td>\n",
       "      <td>5</td>\n",
       "      <td>2</td>\n",
       "      <td>5</td>\n",
       "      <td>8</td>\n",
       "      <td>5</td>\n",
       "      <td>2</td>\n",
       "      <td>7</td>\n",
       "      <td>5</td>\n",
       "      <td>...</td>\n",
       "      <td>7</td>\n",
       "      <td>6</td>\n",
       "      <td>5</td>\n",
       "      <td>3</td>\n",
       "      <td>3</td>\n",
       "      <td>4</td>\n",
       "      <td>4</td>\n",
       "      <td>3</td>\n",
       "      <td>4</td>\n",
       "      <td>0.475</td>\n",
       "    </tr>\n",
       "  </tbody>\n",
       "</table>\n",
       "<p>5 rows × 21 columns</p>\n",
       "</div>"
      ],
      "text/plain": [
       "   MonsoonIntensity  TopographyDrainage  RiverManagement  Deforestation  \\\n",
       "0                 3                   8                6              6   \n",
       "1                 8                   4                5              7   \n",
       "2                 3                  10                4              1   \n",
       "3                 4                   4                2              7   \n",
       "4                 3                   7                5              2   \n",
       "\n",
       "   Urbanization  ClimateChange  DamsQuality  Siltation  AgriculturalPractices  \\\n",
       "0             4              4            6          2                      3   \n",
       "1             7              9            1          5                      5   \n",
       "2             7              5            4          7                      4   \n",
       "3             3              4            1          4                      6   \n",
       "4             5              8            5          2                      7   \n",
       "\n",
       "   Encroachments  ...  DrainageSystems  CoastalVulnerability  Landslides  \\\n",
       "0              2  ...               10                     7           4   \n",
       "1              4  ...                9                     2           6   \n",
       "2              9  ...                7                     4           4   \n",
       "3              4  ...                4                     2           6   \n",
       "4              5  ...                7                     6           5   \n",
       "\n",
       "   Watersheds  DeterioratingInfrastructure  PopulationScore  WetlandLoss  \\\n",
       "0           2                            3                4            3   \n",
       "1           2                            1                1            9   \n",
       "2           8                            6                1            8   \n",
       "3           6                            8                8            6   \n",
       "4           3                            3                4            4   \n",
       "\n",
       "   InadequatePlanning  PoliticalFactors  FloodProbability  \n",
       "0                   2                 6             0.450  \n",
       "1                   1                 3             0.475  \n",
       "2                   3                 6             0.515  \n",
       "3                   6                10             0.520  \n",
       "4                   3                 4             0.475  \n",
       "\n",
       "[5 rows x 21 columns]"
      ]
     },
     "execution_count": 2,
     "metadata": {},
     "output_type": "execute_result"
    }
   ],
   "source": [
    "df=pd.read_csv(\"/kaggle/input/flood-prediction-dataset/flood.csv\")\n",
    "df.head(5)  #viewing first 5 rows "
   ]
  },
  {
   "cell_type": "markdown",
   "id": "efab3218",
   "metadata": {
    "papermill": {
     "duration": 0.009802,
     "end_time": "2024-07-18T09:25:40.056056",
     "exception": false,
     "start_time": "2024-07-18T09:25:40.046254",
     "status": "completed"
    },
    "tags": []
   },
   "source": [
    "## Step 2.Pre-processsing the dataset"
   ]
  },
  {
   "cell_type": "markdown",
   "id": "e48f6384",
   "metadata": {
    "papermill": {
     "duration": 0.009695,
     "end_time": "2024-07-18T09:25:40.075696",
     "exception": false,
     "start_time": "2024-07-18T09:25:40.066001",
     "status": "completed"
    },
    "tags": []
   },
   "source": [
    "**To Get Quick Summary about dataset .To find**\n",
    "> 1. data types\n",
    "> 2. any missing values\n"
   ]
  },
  {
   "cell_type": "code",
   "execution_count": 3,
   "id": "b4b3d628",
   "metadata": {
    "_cell_guid": "b1076dfc-b9ad-4769-8c92-a6c4dae69d19",
    "_uuid": "8f2839f25d086af736a60e9eeb907d3b93b6e0e5",
    "collapsed": true,
    "execution": {
     "iopub.execute_input": "2024-07-18T09:25:40.098472Z",
     "iopub.status.busy": "2024-07-18T09:25:40.098093Z",
     "iopub.status.idle": "2024-07-18T09:25:40.122002Z",
     "shell.execute_reply": "2024-07-18T09:25:40.120832Z"
    },
    "jupyter": {
     "outputs_hidden": true
    },
    "papermill": {
     "duration": 0.039102,
     "end_time": "2024-07-18T09:25:40.124713",
     "exception": false,
     "start_time": "2024-07-18T09:25:40.085611",
     "status": "completed"
    },
    "tags": []
   },
   "outputs": [
    {
     "name": "stdout",
     "output_type": "stream",
     "text": [
      "<class 'pandas.core.frame.DataFrame'>\n",
      "RangeIndex: 50000 entries, 0 to 49999\n",
      "Data columns (total 21 columns):\n",
      " #   Column                           Non-Null Count  Dtype  \n",
      "---  ------                           --------------  -----  \n",
      " 0   MonsoonIntensity                 50000 non-null  int64  \n",
      " 1   TopographyDrainage               50000 non-null  int64  \n",
      " 2   RiverManagement                  50000 non-null  int64  \n",
      " 3   Deforestation                    50000 non-null  int64  \n",
      " 4   Urbanization                     50000 non-null  int64  \n",
      " 5   ClimateChange                    50000 non-null  int64  \n",
      " 6   DamsQuality                      50000 non-null  int64  \n",
      " 7   Siltation                        50000 non-null  int64  \n",
      " 8   AgriculturalPractices            50000 non-null  int64  \n",
      " 9   Encroachments                    50000 non-null  int64  \n",
      " 10  IneffectiveDisasterPreparedness  50000 non-null  int64  \n",
      " 11  DrainageSystems                  50000 non-null  int64  \n",
      " 12  CoastalVulnerability             50000 non-null  int64  \n",
      " 13  Landslides                       50000 non-null  int64  \n",
      " 14  Watersheds                       50000 non-null  int64  \n",
      " 15  DeterioratingInfrastructure      50000 non-null  int64  \n",
      " 16  PopulationScore                  50000 non-null  int64  \n",
      " 17  WetlandLoss                      50000 non-null  int64  \n",
      " 18  InadequatePlanning               50000 non-null  int64  \n",
      " 19  PoliticalFactors                 50000 non-null  int64  \n",
      " 20  FloodProbability                 50000 non-null  float64\n",
      "dtypes: float64(1), int64(20)\n",
      "memory usage: 8.0 MB\n"
     ]
    }
   ],
   "source": [
    "df.info()"
   ]
  },
  {
   "cell_type": "code",
   "execution_count": 4,
   "id": "76efdb8f",
   "metadata": {
    "collapsed": true,
    "execution": {
     "iopub.execute_input": "2024-07-18T09:25:40.146584Z",
     "iopub.status.busy": "2024-07-18T09:25:40.146158Z",
     "iopub.status.idle": "2024-07-18T09:25:40.255084Z",
     "shell.execute_reply": "2024-07-18T09:25:40.253935Z"
    },
    "jupyter": {
     "outputs_hidden": true
    },
    "papermill": {
     "duration": 0.123286,
     "end_time": "2024-07-18T09:25:40.258111",
     "exception": false,
     "start_time": "2024-07-18T09:25:40.134825",
     "status": "completed"
    },
    "tags": []
   },
   "outputs": [
    {
     "data": {
      "text/html": [
       "<div>\n",
       "<style scoped>\n",
       "    .dataframe tbody tr th:only-of-type {\n",
       "        vertical-align: middle;\n",
       "    }\n",
       "\n",
       "    .dataframe tbody tr th {\n",
       "        vertical-align: top;\n",
       "    }\n",
       "\n",
       "    .dataframe thead th {\n",
       "        text-align: right;\n",
       "    }\n",
       "</style>\n",
       "<table border=\"1\" class=\"dataframe\">\n",
       "  <thead>\n",
       "    <tr style=\"text-align: right;\">\n",
       "      <th></th>\n",
       "      <th>MonsoonIntensity</th>\n",
       "      <th>TopographyDrainage</th>\n",
       "      <th>RiverManagement</th>\n",
       "      <th>Deforestation</th>\n",
       "      <th>Urbanization</th>\n",
       "      <th>ClimateChange</th>\n",
       "      <th>DamsQuality</th>\n",
       "      <th>Siltation</th>\n",
       "      <th>AgriculturalPractices</th>\n",
       "      <th>Encroachments</th>\n",
       "      <th>...</th>\n",
       "      <th>DrainageSystems</th>\n",
       "      <th>CoastalVulnerability</th>\n",
       "      <th>Landslides</th>\n",
       "      <th>Watersheds</th>\n",
       "      <th>DeterioratingInfrastructure</th>\n",
       "      <th>PopulationScore</th>\n",
       "      <th>WetlandLoss</th>\n",
       "      <th>InadequatePlanning</th>\n",
       "      <th>PoliticalFactors</th>\n",
       "      <th>FloodProbability</th>\n",
       "    </tr>\n",
       "  </thead>\n",
       "  <tbody>\n",
       "    <tr>\n",
       "      <th>count</th>\n",
       "      <td>50000.000000</td>\n",
       "      <td>50000.000000</td>\n",
       "      <td>50000.00000</td>\n",
       "      <td>50000.000000</td>\n",
       "      <td>50000.000000</td>\n",
       "      <td>50000.000000</td>\n",
       "      <td>50000.00000</td>\n",
       "      <td>50000.000000</td>\n",
       "      <td>50000.000000</td>\n",
       "      <td>50000.000000</td>\n",
       "      <td>...</td>\n",
       "      <td>50000.000000</td>\n",
       "      <td>50000.000000</td>\n",
       "      <td>50000.000000</td>\n",
       "      <td>50000.00000</td>\n",
       "      <td>50000.000000</td>\n",
       "      <td>50000.000000</td>\n",
       "      <td>50000.00000</td>\n",
       "      <td>50000.000000</td>\n",
       "      <td>50000.000000</td>\n",
       "      <td>50000.000000</td>\n",
       "    </tr>\n",
       "    <tr>\n",
       "      <th>mean</th>\n",
       "      <td>4.991480</td>\n",
       "      <td>4.984100</td>\n",
       "      <td>5.01594</td>\n",
       "      <td>5.008480</td>\n",
       "      <td>4.989060</td>\n",
       "      <td>4.988340</td>\n",
       "      <td>5.01536</td>\n",
       "      <td>4.988600</td>\n",
       "      <td>5.006120</td>\n",
       "      <td>5.006380</td>\n",
       "      <td>...</td>\n",
       "      <td>5.006060</td>\n",
       "      <td>4.999920</td>\n",
       "      <td>4.984220</td>\n",
       "      <td>4.97982</td>\n",
       "      <td>4.988200</td>\n",
       "      <td>4.984980</td>\n",
       "      <td>5.00512</td>\n",
       "      <td>4.994360</td>\n",
       "      <td>4.990520</td>\n",
       "      <td>0.499660</td>\n",
       "    </tr>\n",
       "    <tr>\n",
       "      <th>std</th>\n",
       "      <td>2.236834</td>\n",
       "      <td>2.246488</td>\n",
       "      <td>2.23131</td>\n",
       "      <td>2.222743</td>\n",
       "      <td>2.243159</td>\n",
       "      <td>2.226761</td>\n",
       "      <td>2.24500</td>\n",
       "      <td>2.232642</td>\n",
       "      <td>2.234588</td>\n",
       "      <td>2.241633</td>\n",
       "      <td>...</td>\n",
       "      <td>2.238107</td>\n",
       "      <td>2.247101</td>\n",
       "      <td>2.227741</td>\n",
       "      <td>2.23219</td>\n",
       "      <td>2.231134</td>\n",
       "      <td>2.238279</td>\n",
       "      <td>2.23176</td>\n",
       "      <td>2.230011</td>\n",
       "      <td>2.246075</td>\n",
       "      <td>0.050034</td>\n",
       "    </tr>\n",
       "    <tr>\n",
       "      <th>min</th>\n",
       "      <td>0.000000</td>\n",
       "      <td>0.000000</td>\n",
       "      <td>0.00000</td>\n",
       "      <td>0.000000</td>\n",
       "      <td>0.000000</td>\n",
       "      <td>0.000000</td>\n",
       "      <td>0.00000</td>\n",
       "      <td>0.000000</td>\n",
       "      <td>0.000000</td>\n",
       "      <td>0.000000</td>\n",
       "      <td>...</td>\n",
       "      <td>0.000000</td>\n",
       "      <td>0.000000</td>\n",
       "      <td>0.000000</td>\n",
       "      <td>0.00000</td>\n",
       "      <td>0.000000</td>\n",
       "      <td>0.000000</td>\n",
       "      <td>0.00000</td>\n",
       "      <td>0.000000</td>\n",
       "      <td>0.000000</td>\n",
       "      <td>0.285000</td>\n",
       "    </tr>\n",
       "    <tr>\n",
       "      <th>25%</th>\n",
       "      <td>3.000000</td>\n",
       "      <td>3.000000</td>\n",
       "      <td>3.00000</td>\n",
       "      <td>3.000000</td>\n",
       "      <td>3.000000</td>\n",
       "      <td>3.000000</td>\n",
       "      <td>3.00000</td>\n",
       "      <td>3.000000</td>\n",
       "      <td>3.000000</td>\n",
       "      <td>3.000000</td>\n",
       "      <td>...</td>\n",
       "      <td>3.000000</td>\n",
       "      <td>3.000000</td>\n",
       "      <td>3.000000</td>\n",
       "      <td>3.00000</td>\n",
       "      <td>3.000000</td>\n",
       "      <td>3.000000</td>\n",
       "      <td>3.00000</td>\n",
       "      <td>3.000000</td>\n",
       "      <td>3.000000</td>\n",
       "      <td>0.465000</td>\n",
       "    </tr>\n",
       "    <tr>\n",
       "      <th>50%</th>\n",
       "      <td>5.000000</td>\n",
       "      <td>5.000000</td>\n",
       "      <td>5.00000</td>\n",
       "      <td>5.000000</td>\n",
       "      <td>5.000000</td>\n",
       "      <td>5.000000</td>\n",
       "      <td>5.00000</td>\n",
       "      <td>5.000000</td>\n",
       "      <td>5.000000</td>\n",
       "      <td>5.000000</td>\n",
       "      <td>...</td>\n",
       "      <td>5.000000</td>\n",
       "      <td>5.000000</td>\n",
       "      <td>5.000000</td>\n",
       "      <td>5.00000</td>\n",
       "      <td>5.000000</td>\n",
       "      <td>5.000000</td>\n",
       "      <td>5.00000</td>\n",
       "      <td>5.000000</td>\n",
       "      <td>5.000000</td>\n",
       "      <td>0.500000</td>\n",
       "    </tr>\n",
       "    <tr>\n",
       "      <th>75%</th>\n",
       "      <td>6.000000</td>\n",
       "      <td>6.000000</td>\n",
       "      <td>6.00000</td>\n",
       "      <td>6.000000</td>\n",
       "      <td>6.000000</td>\n",
       "      <td>6.000000</td>\n",
       "      <td>6.00000</td>\n",
       "      <td>6.000000</td>\n",
       "      <td>6.000000</td>\n",
       "      <td>6.000000</td>\n",
       "      <td>...</td>\n",
       "      <td>6.000000</td>\n",
       "      <td>6.000000</td>\n",
       "      <td>6.000000</td>\n",
       "      <td>6.00000</td>\n",
       "      <td>6.000000</td>\n",
       "      <td>6.000000</td>\n",
       "      <td>6.00000</td>\n",
       "      <td>6.000000</td>\n",
       "      <td>6.000000</td>\n",
       "      <td>0.535000</td>\n",
       "    </tr>\n",
       "    <tr>\n",
       "      <th>max</th>\n",
       "      <td>16.000000</td>\n",
       "      <td>18.000000</td>\n",
       "      <td>16.00000</td>\n",
       "      <td>17.000000</td>\n",
       "      <td>17.000000</td>\n",
       "      <td>17.000000</td>\n",
       "      <td>16.00000</td>\n",
       "      <td>16.000000</td>\n",
       "      <td>16.000000</td>\n",
       "      <td>18.000000</td>\n",
       "      <td>...</td>\n",
       "      <td>17.000000</td>\n",
       "      <td>17.000000</td>\n",
       "      <td>16.000000</td>\n",
       "      <td>16.00000</td>\n",
       "      <td>17.000000</td>\n",
       "      <td>19.000000</td>\n",
       "      <td>22.00000</td>\n",
       "      <td>16.000000</td>\n",
       "      <td>16.000000</td>\n",
       "      <td>0.725000</td>\n",
       "    </tr>\n",
       "  </tbody>\n",
       "</table>\n",
       "<p>8 rows × 21 columns</p>\n",
       "</div>"
      ],
      "text/plain": [
       "       MonsoonIntensity  TopographyDrainage  RiverManagement  Deforestation  \\\n",
       "count      50000.000000        50000.000000      50000.00000   50000.000000   \n",
       "mean           4.991480            4.984100          5.01594       5.008480   \n",
       "std            2.236834            2.246488          2.23131       2.222743   \n",
       "min            0.000000            0.000000          0.00000       0.000000   \n",
       "25%            3.000000            3.000000          3.00000       3.000000   \n",
       "50%            5.000000            5.000000          5.00000       5.000000   \n",
       "75%            6.000000            6.000000          6.00000       6.000000   \n",
       "max           16.000000           18.000000         16.00000      17.000000   \n",
       "\n",
       "       Urbanization  ClimateChange  DamsQuality     Siltation  \\\n",
       "count  50000.000000   50000.000000  50000.00000  50000.000000   \n",
       "mean       4.989060       4.988340      5.01536      4.988600   \n",
       "std        2.243159       2.226761      2.24500      2.232642   \n",
       "min        0.000000       0.000000      0.00000      0.000000   \n",
       "25%        3.000000       3.000000      3.00000      3.000000   \n",
       "50%        5.000000       5.000000      5.00000      5.000000   \n",
       "75%        6.000000       6.000000      6.00000      6.000000   \n",
       "max       17.000000      17.000000     16.00000     16.000000   \n",
       "\n",
       "       AgriculturalPractices  Encroachments  ...  DrainageSystems  \\\n",
       "count           50000.000000   50000.000000  ...     50000.000000   \n",
       "mean                5.006120       5.006380  ...         5.006060   \n",
       "std                 2.234588       2.241633  ...         2.238107   \n",
       "min                 0.000000       0.000000  ...         0.000000   \n",
       "25%                 3.000000       3.000000  ...         3.000000   \n",
       "50%                 5.000000       5.000000  ...         5.000000   \n",
       "75%                 6.000000       6.000000  ...         6.000000   \n",
       "max                16.000000      18.000000  ...        17.000000   \n",
       "\n",
       "       CoastalVulnerability    Landslides   Watersheds  \\\n",
       "count          50000.000000  50000.000000  50000.00000   \n",
       "mean               4.999920      4.984220      4.97982   \n",
       "std                2.247101      2.227741      2.23219   \n",
       "min                0.000000      0.000000      0.00000   \n",
       "25%                3.000000      3.000000      3.00000   \n",
       "50%                5.000000      5.000000      5.00000   \n",
       "75%                6.000000      6.000000      6.00000   \n",
       "max               17.000000     16.000000     16.00000   \n",
       "\n",
       "       DeterioratingInfrastructure  PopulationScore  WetlandLoss  \\\n",
       "count                 50000.000000     50000.000000  50000.00000   \n",
       "mean                      4.988200         4.984980      5.00512   \n",
       "std                       2.231134         2.238279      2.23176   \n",
       "min                       0.000000         0.000000      0.00000   \n",
       "25%                       3.000000         3.000000      3.00000   \n",
       "50%                       5.000000         5.000000      5.00000   \n",
       "75%                       6.000000         6.000000      6.00000   \n",
       "max                      17.000000        19.000000     22.00000   \n",
       "\n",
       "       InadequatePlanning  PoliticalFactors  FloodProbability  \n",
       "count        50000.000000      50000.000000      50000.000000  \n",
       "mean             4.994360          4.990520          0.499660  \n",
       "std              2.230011          2.246075          0.050034  \n",
       "min              0.000000          0.000000          0.285000  \n",
       "25%              3.000000          3.000000          0.465000  \n",
       "50%              5.000000          5.000000          0.500000  \n",
       "75%              6.000000          6.000000          0.535000  \n",
       "max             16.000000         16.000000          0.725000  \n",
       "\n",
       "[8 rows x 21 columns]"
      ]
     },
     "execution_count": 4,
     "metadata": {},
     "output_type": "execute_result"
    }
   ],
   "source": [
    "df.describe()"
   ]
  },
  {
   "cell_type": "code",
   "execution_count": 5,
   "id": "7b88ca36",
   "metadata": {
    "execution": {
     "iopub.execute_input": "2024-07-18T09:25:40.281434Z",
     "iopub.status.busy": "2024-07-18T09:25:40.281027Z",
     "iopub.status.idle": "2024-07-18T09:25:40.310210Z",
     "shell.execute_reply": "2024-07-18T09:25:40.309038Z"
    },
    "papermill": {
     "duration": 0.044123,
     "end_time": "2024-07-18T09:25:40.313128",
     "exception": false,
     "start_time": "2024-07-18T09:25:40.269005",
     "status": "completed"
    },
    "tags": []
   },
   "outputs": [],
   "source": [
    "df.drop_duplicates(inplace=True)"
   ]
  },
  {
   "cell_type": "markdown",
   "id": "9fd1eeb0",
   "metadata": {
    "papermill": {
     "duration": 0.010586,
     "end_time": "2024-07-18T09:25:40.335135",
     "exception": false,
     "start_time": "2024-07-18T09:25:40.324549",
     "status": "completed"
    },
    "tags": []
   },
   "source": [
    "**Visualizing Data**"
   ]
  },
  {
   "cell_type": "code",
   "execution_count": 6,
   "id": "e71dde65",
   "metadata": {
    "collapsed": true,
    "execution": {
     "iopub.execute_input": "2024-07-18T09:25:40.358568Z",
     "iopub.status.busy": "2024-07-18T09:25:40.358122Z",
     "iopub.status.idle": "2024-07-18T09:25:45.733843Z",
     "shell.execute_reply": "2024-07-18T09:25:45.732558Z"
    },
    "jupyter": {
     "outputs_hidden": true
    },
    "papermill": {
     "duration": 5.391179,
     "end_time": "2024-07-18T09:25:45.737335",
     "exception": false,
     "start_time": "2024-07-18T09:25:40.346156",
     "status": "completed"
    },
    "tags": []
   },
   "outputs": [
    {
     "data": {
      "text/plain": [
       "<function matplotlib.pyplot.show(close=None, block=None)>"
      ]
     },
     "execution_count": 6,
     "metadata": {},
     "output_type": "execute_result"
    },
    {
     "data": {
      "image/png": "[encoded data removed]",
      "text/plain": [
       "<Figure size 2000x1000 with 25 Axes>"
      ]
     },
     "metadata": {},
     "output_type": "display_data"
    }
   ],
   "source": [
    "# Visualize the distribution of each feature\n",
    "df.hist(bins=30,figsize=(20,10))\n",
    "plt.show"
   ]
  },
  {
   "cell_type": "markdown",
   "id": "b64a3ee3",
   "metadata": {
    "papermill": {
     "duration": 0.012227,
     "end_time": "2024-07-18T09:25:45.762174",
     "exception": false,
     "start_time": "2024-07-18T09:25:45.749947",
     "status": "completed"
    },
    "tags": []
   },
   "source": [
    "## Step 3.Seperating Target variable and features"
   ]
  },
  {
   "cell_type": "code",
   "execution_count": 7,
   "id": "4fbce9ef",
   "metadata": {
    "execution": {
     "iopub.execute_input": "2024-07-18T09:25:45.788928Z",
     "iopub.status.busy": "2024-07-18T09:25:45.788524Z",
     "iopub.status.idle": "2024-07-18T09:25:45.796522Z",
     "shell.execute_reply": "2024-07-18T09:25:45.795374Z"
    },
    "papermill": {
     "duration": 0.024642,
     "end_time": "2024-07-18T09:25:45.799254",
     "exception": false,
     "start_time": "2024-07-18T09:25:45.774612",
     "status": "completed"
    },
    "tags": []
   },
   "outputs": [],
   "source": [
    "# pre-process the dtaa\n",
    "x=df.drop('FloodProbability',axis=1)\n",
    "y=df['FloodProbability']"
   ]
  },
  {
   "cell_type": "markdown",
   "id": "e2607ff0",
   "metadata": {
    "papermill": {
     "duration": 0.012054,
     "end_time": "2024-07-18T09:25:45.823819",
     "exception": false,
     "start_time": "2024-07-18T09:25:45.811765",
     "status": "completed"
    },
    "tags": []
   },
   "source": [
    "**Scaling the Data**"
   ]
  },
  {
   "cell_type": "code",
   "execution_count": 8,
   "id": "036af2b4",
   "metadata": {
    "execution": {
     "iopub.execute_input": "2024-07-18T09:25:45.851041Z",
     "iopub.status.busy": "2024-07-18T09:25:45.850618Z",
     "iopub.status.idle": "2024-07-18T09:25:46.056046Z",
     "shell.execute_reply": "2024-07-18T09:25:46.054753Z"
    },
    "papermill": {
     "duration": 0.221789,
     "end_time": "2024-07-18T09:25:46.058786",
     "exception": false,
     "start_time": "2024-07-18T09:25:45.836997",
     "status": "completed"
    },
    "tags": []
   },
   "outputs": [],
   "source": [
    "from sklearn.preprocessing import StandardScaler\n",
    "#----scale the feature\n",
    "scaler=StandardScaler()\n",
    "x_scale=scaler.fit_transform(x)"
   ]
  },
  {
   "cell_type": "markdown",
   "id": "64a0af59",
   "metadata": {
    "papermill": {
     "duration": 0.012322,
     "end_time": "2024-07-18T09:25:46.083891",
     "exception": false,
     "start_time": "2024-07-18T09:25:46.071569",
     "status": "completed"
    },
    "tags": []
   },
   "source": [
    "## Step 4.Spliting into training set and testing set"
   ]
  },
  {
   "cell_type": "code",
   "execution_count": 9,
   "id": "ba7231bb",
   "metadata": {
    "execution": {
     "iopub.execute_input": "2024-07-18T09:25:46.110569Z",
     "iopub.status.busy": "2024-07-18T09:25:46.110112Z",
     "iopub.status.idle": "2024-07-18T09:25:46.244799Z",
     "shell.execute_reply": "2024-07-18T09:25:46.243500Z"
    },
    "papermill": {
     "duration": 0.151351,
     "end_time": "2024-07-18T09:25:46.247674",
     "exception": false,
     "start_time": "2024-07-18T09:25:46.096323",
     "status": "completed"
    },
    "tags": []
   },
   "outputs": [],
   "source": [
    "# Split the data into training and testing sets\n",
    "from sklearn.model_selection import train_test_split\n",
    "x_train, x_test, y_train, y_test = train_test_split(x_scale, y, test_size=0.2, random_state=42)\n"
   ]
  },
  {
   "cell_type": "markdown",
   "id": "8a5a696c",
   "metadata": {
    "papermill": {
     "duration": 0.012299,
     "end_time": "2024-07-18T09:25:46.272907",
     "exception": false,
     "start_time": "2024-07-18T09:25:46.260608",
     "status": "completed"
    },
    "tags": []
   },
   "source": [
    "## Step 5a).Traning the Model - Support Vector Regressor"
   ]
  },
  {
   "cell_type": "code",
   "execution_count": 10,
   "id": "b384cbf2",
   "metadata": {
    "execution": {
     "iopub.execute_input": "2024-07-18T09:25:46.300918Z",
     "iopub.status.busy": "2024-07-18T09:25:46.299684Z",
     "iopub.status.idle": "2024-07-18T09:25:46.608713Z",
     "shell.execute_reply": "2024-07-18T09:25:46.607412Z"
    },
    "papermill": {
     "duration": 0.326023,
     "end_time": "2024-07-18T09:25:46.611783",
     "exception": false,
     "start_time": "2024-07-18T09:25:46.285760",
     "status": "completed"
    },
    "tags": []
   },
   "outputs": [
    {
     "data": {
      "text/html": [
       "<style>#sk-container-id-1 {color: black;background-color: white;}#sk-container-id-1 pre{padding: 0;}#sk-container-id-1 div.sk-toggleable {background-color: white;}#sk-container-id-1 label.sk-toggleable__label {cursor: pointer;display: block;width: 100%;margin-bottom: 0;padding: 0.3em;box-sizing: border-box;text-align: center;}#sk-container-id-1 label.sk-toggleable__label-arrow:before {content: \"▸\";float: left;margin-right: 0.25em;color: #696969;}#sk-container-id-1 label.sk-toggleable__label-arrow:hover:before {color: black;}#sk-container-id-1 div.sk-estimator:hover label.sk-toggleable__label-arrow:before {color: black;}#sk-container-id-1 div.sk-toggleable__content {max-height: 0;max-width: 0;overflow: hidden;text-align: left;background-color: #f0f8ff;}#sk-container-id-1 div.sk-toggleable__content pre {margin: 0.2em;color: black;border-radius: 0.25em;background-color: #f0f8ff;}#sk-container-id-1 input.sk-toggleable__control:checked~div.sk-toggleable__content {max-height: 200px;max-width: 100%;overflow: auto;}#sk-container-id-1 input.sk-toggleable__control:checked~label.sk-toggleable__label-arrow:before {content: \"▾\";}#sk-container-id-1 div.sk-estimator input.sk-toggleable__control:checked~label.sk-toggleable__label {background-color: #d4ebff;}#sk-container-id-1 div.sk-label input.sk-toggleable__control:checked~label.sk-toggleable__label {background-color: #d4ebff;}#sk-container-id-1 input.sk-hidden--visually {border: 0;clip: rect(1px 1px 1px 1px);clip: rect(1px, 1px, 1px, 1px);height: 1px;margin: -1px;overflow: hidden;padding: 0;position: absolute;width: 1px;}#sk-container-id-1 div.sk-estimator {font-family: monospace;background-color: #f0f8ff;border: 1px dotted black;border-radius: 0.25em;box-sizing: border-box;margin-bottom: 0.5em;}#sk-container-id-1 div.sk-estimator:hover {background-color: #d4ebff;}#sk-container-id-1 div.sk-parallel-item::after {content: \"\";width: 100%;border-bottom: 1px solid gray;flex-grow: 1;}#sk-container-id-1 div.sk-label:hover label.sk-toggleable__label {background-color: #d4ebff;}#sk-container-id-1 div.sk-serial::before {content: \"\";position: absolute;border-left: 1px solid gray;box-sizing: border-box;top: 0;bottom: 0;left: 50%;z-index: 0;}#sk-container-id-1 div.sk-serial {display: flex;flex-direction: column;align-items: center;background-color: white;padding-right: 0.2em;padding-left: 0.2em;position: relative;}#sk-container-id-1 div.sk-item {position: relative;z-index: 1;}#sk-container-id-1 div.sk-parallel {display: flex;align-items: stretch;justify-content: center;background-color: white;position: relative;}#sk-container-id-1 div.sk-item::before, #sk-container-id-1 div.sk-parallel-item::before {content: \"\";position: absolute;border-left: 1px solid gray;box-sizing: border-box;top: 0;bottom: 0;left: 50%;z-index: -1;}#sk-container-id-1 div.sk-parallel-item {display: flex;flex-direction: column;z-index: 1;position: relative;background-color: white;}#sk-container-id-1 div.sk-parallel-item:first-child::after {align-self: flex-end;width: 50%;}#sk-container-id-1 div.sk-parallel-item:last-child::after {align-self: flex-start;width: 50%;}#sk-container-id-1 div.sk-parallel-item:only-child::after {width: 0;}#sk-container-id-1 div.sk-dashed-wrapped {border: 1px dashed gray;margin: 0 0.4em 0.5em 0.4em;box-sizing: border-box;padding-bottom: 0.4em;background-color: white;}#sk-container-id-1 div.sk-label label {font-family: monospace;font-weight: bold;display: inline-block;line-height: 1.2em;}#sk-container-id-1 div.sk-label-container {text-align: center;}#sk-container-id-1 div.sk-container {/* jupyter's `normalize.less` sets `[hidden] { display: none; }` but bootstrap.min.css set `[hidden] { display: none !important; }` so we also need the `!important` here to be able to override the default hidden behavior on the sphinx rendered scikit-learn.org. See: https://github.com/scikit-learn/scikit-learn/issues/21755 */display: inline-block !important;position: relative;}#sk-container-id-1 div.sk-text-repr-fallback {display: none;}</style><div id=\"sk-container-id-1\" class=\"sk-top-container\"><div class=\"sk-text-repr-fallback\"><pre>SVR()</pre><b>In a Jupyter environment, please rerun this cell to show the HTML representation or trust the notebook. <br />On GitHub, the HTML representation is unable to render, please try loading this page with nbviewer.org.</b></div><div class=\"sk-container\" hidden><div class=\"sk-item\"><div class=\"sk-estimator sk-toggleable\"><input class=\"sk-toggleable__control sk-hidden--visually\" id=\"sk-estimator-id-1\" type=\"checkbox\" checked><label for=\"sk-estimator-id-1\" class=\"sk-toggleable__label sk-toggleable__label-arrow\">SVR</label><div class=\"sk-toggleable__content\"><pre>SVR()</pre></div></div></div></div></div>"
      ],
      "text/plain": [
       "SVR()"
      ]
     },
     "execution_count": 10,
     "metadata": {},
     "output_type": "execute_result"
    }
   ],
   "source": [
    "# Train the Model\n",
    "from sklearn.svm import SVR\n",
    "from sklearn.metrics import mean_squared_error, r2_score\n",
    "svr_model = SVR(kernel='rbf')  # You can experiment with different kernels\n",
    "svr_model.fit(x_train, y_train)"
   ]
  },
  {
   "cell_type": "markdown",
   "id": "c60a7f7b",
   "metadata": {
    "papermill": {
     "duration": 0.012386,
     "end_time": "2024-07-18T09:25:46.637726",
     "exception": false,
     "start_time": "2024-07-18T09:25:46.625340",
     "status": "completed"
    },
    "tags": []
   },
   "source": [
    "## Step 6a).Evaluating Model"
   ]
  },
  {
   "cell_type": "code",
   "execution_count": 11,
   "id": "f33d670d",
   "metadata": {
    "execution": {
     "iopub.execute_input": "2024-07-18T09:25:46.665399Z",
     "iopub.status.busy": "2024-07-18T09:25:46.664943Z",
     "iopub.status.idle": "2024-07-18T09:25:46.717671Z",
     "shell.execute_reply": "2024-07-18T09:25:46.716516Z"
    },
    "papermill": {
     "duration": 0.069915,
     "end_time": "2024-07-18T09:25:46.720469",
     "exception": false,
     "start_time": "2024-07-18T09:25:46.650554",
     "status": "completed"
    },
    "tags": []
   },
   "outputs": [
    {
     "name": "stdout",
     "output_type": "stream",
     "text": [
      "Mean Squared Error: 0.0006984723204456066\n",
      "R-squared: 0.7195549993818169\n"
     ]
    }
   ],
   "source": [
    "# Evaluate the Model\n",
    "y_pred = svr_model.predict(x_test)\n",
    "mse = mean_squared_error(y_test, y_pred)\n",
    "r2 = r2_score(y_test, y_pred)\n",
    "print(f'Mean Squared Error: {mse}')\n",
    "print(f'R-squared: {r2}')\n"
   ]
  },
  {
   "cell_type": "markdown",
   "id": "d7a7bbe1",
   "metadata": {
    "papermill": {
     "duration": 0.012605,
     "end_time": "2024-07-18T09:25:46.746209",
     "exception": false,
     "start_time": "2024-07-18T09:25:46.733604",
     "status": "completed"
    },
    "tags": []
   },
   "source": [
    "## Step 7a).Visualizing the Model"
   ]
  },
  {
   "cell_type": "code",
   "execution_count": 12,
   "id": "b669b7d0",
   "metadata": {
    "execution": {
     "iopub.execute_input": "2024-07-18T09:25:46.774415Z",
     "iopub.status.busy": "2024-07-18T09:25:46.773545Z",
     "iopub.status.idle": "2024-07-18T09:25:47.104472Z",
     "shell.execute_reply": "2024-07-18T09:25:47.103195Z"
    },
    "papermill": {
     "duration": 0.347917,
     "end_time": "2024-07-18T09:25:47.107045",
     "exception": false,
     "start_time": "2024-07-18T09:25:46.759128",
     "status": "completed"
    },
    "tags": []
   },
   "outputs": [
    {
     "data": {
      "image/png": "[encoded data removed]",
      "text/plain": [
       "<Figure size 1000x600 with 1 Axes>"
      ]
     },
     "metadata": {},
     "output_type": "display_data"
    }
   ],
   "source": [
    "# Visualize the Results\n",
    "plt.figure(figsize=(10, 6))\n",
    "plt.scatter(y_test, y_pred, color='blue')\n",
    "plt.plot([y.min(), y.max()], [y.min(), y.max()], 'k--', lw=3)\n",
    "plt.xlabel('Actual')\n",
    "plt.ylabel('Predicted')\n",
    "plt.title('Actual vs Predicted Values')\n",
    "plt.show()"
   ]
  },
  {
   "cell_type": "markdown",
   "id": "8d758cac",
   "metadata": {
    "papermill": {
     "duration": 0.013403,
     "end_time": "2024-07-18T09:25:47.134242",
     "exception": false,
     "start_time": "2024-07-18T09:25:47.120839",
     "status": "completed"
    },
    "tags": []
   },
   "source": [
    "## Step 5b).Traning the Model - Decision Tree Regressor"
   ]
  },
  {
   "cell_type": "code",
   "execution_count": 13,
   "id": "e54a4cea",
   "metadata": {
    "execution": {
     "iopub.execute_input": "2024-07-18T09:25:47.163735Z",
     "iopub.status.busy": "2024-07-18T09:25:47.163263Z",
     "iopub.status.idle": "2024-07-18T09:25:47.756412Z",
     "shell.execute_reply": "2024-07-18T09:25:47.755258Z"
    },
    "papermill": {
     "duration": 0.610906,
     "end_time": "2024-07-18T09:25:47.759069",
     "exception": false,
     "start_time": "2024-07-18T09:25:47.148163",
     "status": "completed"
    },
    "tags": []
   },
   "outputs": [
    {
     "data": {
      "text/html": [
       "<style>#sk-container-id-2 {color: black;background-color: white;}#sk-container-id-2 pre{padding: 0;}#sk-container-id-2 div.sk-toggleable {background-color: white;}#sk-container-id-2 label.sk-toggleable__label {cursor: pointer;display: block;width: 100%;margin-bottom: 0;padding: 0.3em;box-sizing: border-box;text-align: center;}#sk-container-id-2 label.sk-toggleable__label-arrow:before {content: \"▸\";float: left;margin-right: 0.25em;color: #696969;}#sk-container-id-2 label.sk-toggleable__label-arrow:hover:before {color: black;}#sk-container-id-2 div.sk-estimator:hover label.sk-toggleable__label-arrow:before {color: black;}#sk-container-id-2 div.sk-toggleable__content {max-height: 0;max-width: 0;overflow: hidden;text-align: left;background-color: #f0f8ff;}#sk-container-id-2 div.sk-toggleable__content pre {margin: 0.2em;color: black;border-radius: 0.25em;background-color: #f0f8ff;}#sk-container-id-2 input.sk-toggleable__control:checked~div.sk-toggleable__content {max-height: 200px;max-width: 100%;overflow: auto;}#sk-container-id-2 input.sk-toggleable__control:checked~label.sk-toggleable__label-arrow:before {content: \"▾\";}#sk-container-id-2 div.sk-estimator input.sk-toggleable__control:checked~label.sk-toggleable__label {background-color: #d4ebff;}#sk-container-id-2 div.sk-label input.sk-toggleable__control:checked~label.sk-toggleable__label {background-color: #d4ebff;}#sk-container-id-2 input.sk-hidden--visually {border: 0;clip: rect(1px 1px 1px 1px);clip: rect(1px, 1px, 1px, 1px);height: 1px;margin: -1px;overflow: hidden;padding: 0;position: absolute;width: 1px;}#sk-container-id-2 div.sk-estimator {font-family: monospace;background-color: #f0f8ff;border: 1px dotted black;border-radius: 0.25em;box-sizing: border-box;margin-bottom: 0.5em;}#sk-container-id-2 div.sk-estimator:hover {background-color: #d4ebff;}#sk-container-id-2 div.sk-parallel-item::after {content: \"\";width: 100%;border-bottom: 1px solid gray;flex-grow: 1;}#sk-container-id-2 div.sk-label:hover label.sk-toggleable__label {background-color: #d4ebff;}#sk-container-id-2 div.sk-serial::before {content: \"\";position: absolute;border-left: 1px solid gray;box-sizing: border-box;top: 0;bottom: 0;left: 50%;z-index: 0;}#sk-container-id-2 div.sk-serial {display: flex;flex-direction: column;align-items: center;background-color: white;padding-right: 0.2em;padding-left: 0.2em;position: relative;}#sk-container-id-2 div.sk-item {position: relative;z-index: 1;}#sk-container-id-2 div.sk-parallel {display: flex;align-items: stretch;justify-content: center;background-color: white;position: relative;}#sk-container-id-2 div.sk-item::before, #sk-container-id-2 div.sk-parallel-item::before {content: \"\";position: absolute;border-left: 1px solid gray;box-sizing: border-box;top: 0;bottom: 0;left: 50%;z-index: -1;}#sk-container-id-2 div.sk-parallel-item {display: flex;flex-direction: column;z-index: 1;position: relative;background-color: white;}#sk-container-id-2 div.sk-parallel-item:first-child::after {align-self: flex-end;width: 50%;}#sk-container-id-2 div.sk-parallel-item:last-child::after {align-self: flex-start;width: 50%;}#sk-container-id-2 div.sk-parallel-item:only-child::after {width: 0;}#sk-container-id-2 div.sk-dashed-wrapped {border: 1px dashed gray;margin: 0 0.4em 0.5em 0.4em;box-sizing: border-box;padding-bottom: 0.4em;background-color: white;}#sk-container-id-2 div.sk-label label {font-family: monospace;font-weight: bold;display: inline-block;line-height: 1.2em;}#sk-container-id-2 div.sk-label-container {text-align: center;}#sk-container-id-2 div.sk-container {/* jupyter's `normalize.less` sets `[hidden] { display: none; }` but bootstrap.min.css set `[hidden] { display: none !important; }` so we also need the `!important` here to be able to override the default hidden behavior on the sphinx rendered scikit-learn.org. See: https://github.com/scikit-learn/scikit-learn/issues/21755 */display: inline-block !important;position: relative;}#sk-container-id-2 div.sk-text-repr-fallback {display: none;}</style><div id=\"sk-container-id-2\" class=\"sk-top-container\"><div class=\"sk-text-repr-fallback\"><pre>DecisionTreeRegressor(random_state=42)</pre><b>In a Jupyter environment, please rerun this cell to show the HTML representation or trust the notebook. <br />On GitHub, the HTML representation is unable to render, please try loading this page with nbviewer.org.</b></div><div class=\"sk-container\" hidden><div class=\"sk-item\"><div class=\"sk-estimator sk-toggleable\"><input class=\"sk-toggleable__control sk-hidden--visually\" id=\"sk-estimator-id-2\" type=\"checkbox\" checked><label for=\"sk-estimator-id-2\" class=\"sk-toggleable__label sk-toggleable__label-arrow\">DecisionTreeRegressor</label><div class=\"sk-toggleable__content\"><pre>DecisionTreeRegressor(random_state=42)</pre></div></div></div></div></div>"
      ],
      "text/plain": [
       "DecisionTreeRegressor(random_state=42)"
      ]
     },
     "execution_count": 13,
     "metadata": {},
     "output_type": "execute_result"
    }
   ],
   "source": [
    "from sklearn.tree import DecisionTreeRegressor\n",
    "\n",
    "# Initialize and train the Decision Tree Regressor\n",
    "dt_model = DecisionTreeRegressor(random_state=42)\n",
    "dt_model.fit(x_train, y_train)\n"
   ]
  },
  {
   "cell_type": "markdown",
   "id": "6b2ad425",
   "metadata": {
    "papermill": {
     "duration": 0.013464,
     "end_time": "2024-07-18T09:25:47.786468",
     "exception": false,
     "start_time": "2024-07-18T09:25:47.773004",
     "status": "completed"
    },
    "tags": []
   },
   "source": [
    "## Step 6b).Evaluating Model"
   ]
  },
  {
   "cell_type": "code",
   "execution_count": 14,
   "id": "078b6595",
   "metadata": {
    "execution": {
     "iopub.execute_input": "2024-07-18T09:25:47.816001Z",
     "iopub.status.busy": "2024-07-18T09:25:47.815585Z",
     "iopub.status.idle": "2024-07-18T09:25:47.828970Z",
     "shell.execute_reply": "2024-07-18T09:25:47.827716Z"
    },
    "papermill": {
     "duration": 0.031238,
     "end_time": "2024-07-18T09:25:47.831529",
     "exception": false,
     "start_time": "2024-07-18T09:25:47.800291",
     "status": "completed"
    },
    "tags": []
   },
   "outputs": [
    {
     "name": "stdout",
     "output_type": "stream",
     "text": [
      "Mean Squared Error (Decision Tree): 0.0022153925000000002\n",
      "R-squared (Decision Tree): 0.11049338270749498\n"
     ]
    }
   ],
   "source": [
    "# Make predictions on the test data\n",
    "y_pred_dt = dt_model.predict(x_test)\n",
    "\n",
    "# Calculate and print regression metrics\n",
    "mse_dt = mean_squared_error(y_test, y_pred_dt)\n",
    "r2_dt = r2_score(y_test, y_pred_dt)\n",
    "\n",
    "print(f'Mean Squared Error (Decision Tree): {mse_dt}')\n",
    "print(f'R-squared (Decision Tree): {r2_dt}')\n"
   ]
  },
  {
   "cell_type": "markdown",
   "id": "73684719",
   "metadata": {
    "papermill": {
     "duration": 0.013787,
     "end_time": "2024-07-18T09:25:47.859534",
     "exception": false,
     "start_time": "2024-07-18T09:25:47.845747",
     "status": "completed"
    },
    "tags": []
   },
   "source": [
    "## Step 7b).Visualizing the Model"
   ]
  },
  {
   "cell_type": "code",
   "execution_count": 15,
   "id": "758fed6b",
   "metadata": {
    "execution": {
     "iopub.execute_input": "2024-07-18T09:25:47.889506Z",
     "iopub.status.busy": "2024-07-18T09:25:47.889091Z",
     "iopub.status.idle": "2024-07-18T09:25:48.226659Z",
     "shell.execute_reply": "2024-07-18T09:25:48.225347Z"
    },
    "papermill": {
     "duration": 0.355615,
     "end_time": "2024-07-18T09:25:48.229559",
     "exception": false,
     "start_time": "2024-07-18T09:25:47.873944",
     "status": "completed"
    },
    "tags": []
   },
   "outputs": [
    {
     "data": {
      "image/png": "[encoded data removed]",
      "text/plain": [
       "<Figure size 1000x600 with 1 Axes>"
      ]
     },
     "metadata": {},
     "output_type": "display_data"
    }
   ],
   "source": [
    "# Plot predicted vs actual values for Decision Tree Regressor\n",
    "plt.figure(figsize=(10, 6))\n",
    "plt.scatter(y_test, y_pred_dt, color='blue')\n",
    "plt.plot([y.min(), y.max()], [y.min(), y.max()], 'k--', lw=3)\n",
    "plt.xlabel('Actual')\n",
    "plt.ylabel('Predicted')\n",
    "plt.title('Actual vs Predicted Values (Decision Tree)')\n",
    "plt.show()\n"
   ]
  },
  {
   "cell_type": "markdown",
   "id": "dddb79d1",
   "metadata": {
    "papermill": {
     "duration": 0.014464,
     "end_time": "2024-07-18T09:25:48.258908",
     "exception": false,
     "start_time": "2024-07-18T09:25:48.244444",
     "status": "completed"
    },
    "tags": []
   },
   "source": [
    "## Step 8). Conclusion"
   ]
  },
  {
   "cell_type": "markdown",
   "id": "d01c27e7",
   "metadata": {
    "papermill": {
     "duration": 0.014647,
     "end_time": "2024-07-18T09:25:48.288340",
     "exception": false,
     "start_time": "2024-07-18T09:25:48.273693",
     "status": "completed"
    },
    "tags": []
   },
   "source": [
    "A lower MSE indicates that the model's predictions are closer to the actual values. \n",
    "The **SVR has a significantly lower MSE compared to the Decision Tree Regressor**, \n",
    "indicating better performance in terms of accuracy."
   ]
  },
  {
   "cell_type": "code",
   "execution_count": null,
   "id": "86dfd422",
   "metadata": {
    "papermill": {
     "duration": 0.01453,
     "end_time": "2024-07-18T09:25:48.317741",
     "exception": false,
     "start_time": "2024-07-18T09:25:48.303211",
     "status": "completed"
    },
    "tags": []
   },
   "outputs": [],
   "source": []
  }
 ],
 "metadata": {
  "kaggle": {
   "accelerator": "none",
   "dataSources": [
    {
     "datasetId": 5287820,
     "sourceId": 8794308,
     "sourceType": "datasetVersion"
    }
   ],
   "dockerImageVersionId": 30746,
   "isGpuEnabled": false,
   "isInternetEnabled": true,
   "language": "python",
   "sourceType": "notebook"
  },
  "kernelspec": {
   "display_name": "Python 3",
   "language": "python",
   "name": "python3"
  },
  "language_info": {
   "codemirror_mode": {
    "name": "ipython",
    "version": 3
   },
   "file_extension": ".py",
   "mimetype": "text/x-python",
   "name": "python",
   "nbconvert_exporter": "python",
   "pygments_lexer": "ipython3",
   "version": "3.10.13"
  },
  "papermill": {
   "default_parameters": {},
   "duration": 14.956973,
   "end_time": "2024-07-18T09:25:49.155826",
   "environment_variables": {},
   "exception": null,
   "input_path": "__notebook__.ipynb",
   "output_path": "__notebook__.ipynb",
   "parameters": {},
   "start_time": "2024-07-18T09:25:34.198853",
   "version": "2.5.0"
  }
 },
 "nbformat": 4,
 "nbformat_minor": 5
}
